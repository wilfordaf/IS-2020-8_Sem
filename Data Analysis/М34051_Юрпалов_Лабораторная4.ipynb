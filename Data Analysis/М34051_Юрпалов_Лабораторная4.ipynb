{
  "nbformat": 4,
  "nbformat_minor": 0,
  "metadata": {
    "colab": {
      "provenance": [],
      "toc_visible": true
    },
    "kernelspec": {
      "name": "python3",
      "language": "python",
      "display_name": "Python 3 (ipykernel)"
    },
    "language_info": {
      "name": "python"
    }
  },
  "cells": [
    {
      "cell_type": "code",
      "execution_count": null,
      "metadata": {
        "id": "7w-Bxx9ihO4e",
        "ExecuteTime": {
          "end_time": "2024-03-26T18:17:16.542301400Z",
          "start_time": "2024-03-26T18:17:16.353373Z"
        }
      },
      "outputs": [],
      "source": [
        "import os.path\n",
        "from ast import literal_eval\n",
        "from math import ceil\n",
        "from typing import List, Dict, Tuple\n",
        "from abc import ABC, abstractmethod\n",
        "import os\n",
        "import re\n",
        "import joblib\n",
        "import warnings\n",
        "from pathlib import Path\n",
        "import random\n",
        "from time import time\n",
        "\n",
        "import pandas as pd\n",
        "import numpy as np\n",
        "import matplotlib.pyplot as plt\n",
        "from nltk.tokenize import word_tokenize\n",
        "import nlpaug.augmenter.word as naw\n",
        "from tqdm.auto import tqdm\n",
        "from ml_data_engine import DataProcessor, YAMLConfigParser\n",
        "from sklearn.feature_extraction.text import TfidfVectorizer\n",
        "from eldar import Index\n",
        "import torch\n",
        "import torch.nn as nn\n",
        "import torch.optim as optim\n",
        "from torch.utils.data import Dataset, DataLoader\n",
        "from transformers import DistilBertTokenizerFast, PreTrainedTokenizer, DistilBertModel\n",
        "from sklearn.metrics import classification_report\n",
        "from sklearn.metrics.pairwise import cosine_similarity\n",
        "from sklearn.model_selection import train_test_split\n",
        "\n",
        "warnings.filterwarnings(\"ignore\")\n",
        "device = torch.device(\"cuda\" if torch.cuda.is_available() else \"cpu\")"
      ]
    },
    {
      "cell_type": "markdown",
      "source": [
        "## Этап 1 - Загрузка и анализ данных"
      ],
      "metadata": {
        "id": "I56rc25Yrwi3"
      }
    },
    {
      "cell_type": "markdown",
      "source": [
        "### Discipline Entities"
      ],
      "metadata": {
        "id": "kYsqF9NTr6qH"
      }
    },
    {
      "cell_type": "code",
      "source": [
        "discipline_entities = pd.read_csv(\n",
        "    \"../data/disciplines_entities20230506.csv\", header=0,\n",
        "     names=[\"id\", \"title\", \"qualification\", \"raw_text\", \"author_entities\"]\n",
        ")\n",
        "print(f\"Объём датасета: {discipline_entities.shape[0]}\")\n",
        "display(discipline_entities.sample(3))"
      ],
      "metadata": {
        "colab": {
          "base_uri": "https://localhost:8080/",
          "height": 289
        },
        "id": "mI5BuijgmpPB",
        "outputId": "625f384b-4496-4326-ade8-1579e5711750",
        "ExecuteTime": {
          "end_time": "2024-03-24T11:19:50.845100300Z",
          "start_time": "2024-03-24T11:19:50.416744200Z"
        }
      },
      "execution_count": null,
      "outputs": [
        {
          "name": "stdout",
          "output_type": "stream",
          "text": [
            "Объём датасета: 8365\n"
          ]
        },
        {
          "data": {
            "text/plain": "         id                                              title qualification  \\\n8028  24191              Форсайт и стратегическое планирование        master   \n4649  17799  Этические, социальные и юридические вопросы пр...        master   \n6841  21128        Дискретная математика (продвинутый уровень)      bachelor   \n\n                                               raw_text  \\\n8028  Форсайт и стратегическое планирование. Курс по...   \n4649  Этические, социальные и юридические вопросы пр...   \n6841  Дискретная математика (продвинутый уровень). Д...   \n\n                                        author_entities  \n8028  [Умение проводить анализ внешней и внутренней ...  \n4649  [Research from the perspective of contemporary...  \n6841  [умение строить остовное дерево для заданного ...  ",
            "text/html": "<div>\n<style scoped>\n    .dataframe tbody tr th:only-of-type {\n        vertical-align: middle;\n    }\n\n    .dataframe tbody tr th {\n        vertical-align: top;\n    }\n\n    .dataframe thead th {\n        text-align: right;\n    }\n</style>\n<table border=\"1\" class=\"dataframe\">\n  <thead>\n    <tr style=\"text-align: right;\">\n      <th></th>\n      <th>id</th>\n      <th>title</th>\n      <th>qualification</th>\n      <th>raw_text</th>\n      <th>author_entities</th>\n    </tr>\n  </thead>\n  <tbody>\n    <tr>\n      <th>8028</th>\n      <td>24191</td>\n      <td>Форсайт и стратегическое планирование</td>\n      <td>master</td>\n      <td>Форсайт и стратегическое планирование. Курс по...</td>\n      <td>[Умение проводить анализ внешней и внутренней ...</td>\n    </tr>\n    <tr>\n      <th>4649</th>\n      <td>17799</td>\n      <td>Этические, социальные и юридические вопросы пр...</td>\n      <td>master</td>\n      <td>Этические, социальные и юридические вопросы пр...</td>\n      <td>[Research from the perspective of contemporary...</td>\n    </tr>\n    <tr>\n      <th>6841</th>\n      <td>21128</td>\n      <td>Дискретная математика (продвинутый уровень)</td>\n      <td>bachelor</td>\n      <td>Дискретная математика (продвинутый уровень). Д...</td>\n      <td>[умение строить остовное дерево для заданного ...</td>\n    </tr>\n  </tbody>\n</table>\n</div>"
          },
          "metadata": {},
          "output_type": "display_data"
        }
      ]
    },
    {
      "cell_type": "markdown",
      "source": [
        "**Выполним предобработку текста**"
      ],
      "metadata": {
        "collapsed": false,
        "id": "4XrPKpWaERpC"
      }
    },
    {
      "cell_type": "code",
      "outputs": [],
      "source": [
        "dp = DataProcessor(YAMLConfigParser(\"../configs/preprocessing.yaml\"))"
      ],
      "metadata": {
        "ExecuteTime": {
          "end_time": "2024-03-24T11:21:18.248958400Z",
          "start_time": "2024-03-24T11:21:17.435399Z"
        },
        "id": "GhglbspLERpC"
      },
      "execution_count": null
    },
    {
      "cell_type": "code",
      "outputs": [],
      "source": [
        "discipline_entities = dp.process_dataframe_text(discipline_entities, [\"raw_text\"])"
      ],
      "metadata": {
        "ExecuteTime": {
          "end_time": "2024-03-24T11:23:23.500281700Z",
          "start_time": "2024-03-24T11:21:18.981051Z"
        },
        "id": "2i2WNuUOERpC"
      },
      "execution_count": null
    },
    {
      "cell_type": "code",
      "outputs": [
        {
          "data": {
            "text/plain": "         id                                              title qualification  \\\n692    4427  Биомодификации пищевого сырья растительного и ...      bachelor   \n1211   5743                     Программно-аппаратные средства        master   \n8078  24276                    Цифровые инструменты и метафоры        master   \n\n                                               raw_text  \\\n692   биомодификация пищевой сырье растительный живо...   \n1211  программно аппаратный средство рамка данный ди...   \n8078  цифровой инструмент метафора курс посвятить пр...   \n\n                                        author_entities  \n692   [Теоретические основы технологии пищевых проду...  \n1211  [Реализация алгоритмов взаимодействия модулей ...  \n8078  [Формулировка гипотез, Сбор информации из соци...  ",
            "text/html": "<div>\n<style scoped>\n    .dataframe tbody tr th:only-of-type {\n        vertical-align: middle;\n    }\n\n    .dataframe tbody tr th {\n        vertical-align: top;\n    }\n\n    .dataframe thead th {\n        text-align: right;\n    }\n</style>\n<table border=\"1\" class=\"dataframe\">\n  <thead>\n    <tr style=\"text-align: right;\">\n      <th></th>\n      <th>id</th>\n      <th>title</th>\n      <th>qualification</th>\n      <th>raw_text</th>\n      <th>author_entities</th>\n    </tr>\n  </thead>\n  <tbody>\n    <tr>\n      <th>692</th>\n      <td>4427</td>\n      <td>Биомодификации пищевого сырья растительного и ...</td>\n      <td>bachelor</td>\n      <td>биомодификация пищевой сырье растительный живо...</td>\n      <td>[Теоретические основы технологии пищевых проду...</td>\n    </tr>\n    <tr>\n      <th>1211</th>\n      <td>5743</td>\n      <td>Программно-аппаратные средства</td>\n      <td>master</td>\n      <td>программно аппаратный средство рамка данный ди...</td>\n      <td>[Реализация алгоритмов взаимодействия модулей ...</td>\n    </tr>\n    <tr>\n      <th>8078</th>\n      <td>24276</td>\n      <td>Цифровые инструменты и метафоры</td>\n      <td>master</td>\n      <td>цифровой инструмент метафора курс посвятить пр...</td>\n      <td>[Формулировка гипотез, Сбор информации из соци...</td>\n    </tr>\n  </tbody>\n</table>\n</div>"
          },
          "execution_count": 18,
          "metadata": {},
          "output_type": "execute_result"
        }
      ],
      "source": [
        "discipline_entities.sample(3)"
      ],
      "metadata": {
        "ExecuteTime": {
          "end_time": "2024-03-24T11:24:02.915258300Z",
          "start_time": "2024-03-24T11:24:02.898109900Z"
        },
        "id": "IWpInDBHERpD",
        "outputId": "01f3a872-c6de-4883-dc55-eef046d6268d"
      },
      "execution_count": null
    },
    {
      "cell_type": "code",
      "outputs": [],
      "source": [
        "discipline_entities.rename(columns={\"raw_text\": \"processed_text\"}, inplace=True)"
      ],
      "metadata": {
        "ExecuteTime": {
          "end_time": "2024-03-24T11:25:21.124529400Z",
          "start_time": "2024-03-24T11:25:21.112257800Z"
        },
        "id": "QL1Hn3q7ERpD"
      },
      "execution_count": null
    },
    {
      "cell_type": "markdown",
      "source": [
        "**Оставим только уникальные образцы из колонок, которыми мы будем пользоваться при обучении поиска**"
      ],
      "metadata": {
        "collapsed": false,
        "id": "Dhcx5T4TERpD"
      }
    },
    {
      "cell_type": "code",
      "outputs": [
        {
          "name": "stdout",
          "output_type": "stream",
          "text": [
            "Объём датасета: 7261\n"
          ]
        },
        {
          "data": {
            "text/plain": "         id                          title qualification  \\\n7953  24097      Проектирование баз данных        master   \n1103   5434         Языки программирования        master   \n6012  19868  Обработка естественного языка        master   \n\n                                         processed_text  \\\n7953  проектирование база данные рамка изучение данн...   \n1103  язык программирование курс язык программирован...   \n6012  обработка естественный язык курс посвятить зад...   \n\n                                        author_entities  \n7953  ['Язык структурированных запросов (SQL)', 'Тех...  \n1103  ['Язык Python для анализа данных', 'Создание п...  \n6012  ['Программирование на Python', 'Машинное обуче...  ",
            "text/html": "<div>\n<style scoped>\n    .dataframe tbody tr th:only-of-type {\n        vertical-align: middle;\n    }\n\n    .dataframe tbody tr th {\n        vertical-align: top;\n    }\n\n    .dataframe thead th {\n        text-align: right;\n    }\n</style>\n<table border=\"1\" class=\"dataframe\">\n  <thead>\n    <tr style=\"text-align: right;\">\n      <th></th>\n      <th>id</th>\n      <th>title</th>\n      <th>qualification</th>\n      <th>processed_text</th>\n      <th>author_entities</th>\n    </tr>\n  </thead>\n  <tbody>\n    <tr>\n      <th>7953</th>\n      <td>24097</td>\n      <td>Проектирование баз данных</td>\n      <td>master</td>\n      <td>проектирование база данные рамка изучение данн...</td>\n      <td>['Язык структурированных запросов (SQL)', 'Тех...</td>\n    </tr>\n    <tr>\n      <th>1103</th>\n      <td>5434</td>\n      <td>Языки программирования</td>\n      <td>master</td>\n      <td>язык программирование курс язык программирован...</td>\n      <td>['Язык Python для анализа данных', 'Создание п...</td>\n    </tr>\n    <tr>\n      <th>6012</th>\n      <td>19868</td>\n      <td>Обработка естественного языка</td>\n      <td>master</td>\n      <td>обработка естественный язык курс посвятить зад...</td>\n      <td>['Программирование на Python', 'Машинное обуче...</td>\n    </tr>\n  </tbody>\n</table>\n</div>"
          },
          "metadata": {},
          "output_type": "display_data"
        }
      ],
      "source": [
        "discipline_entities.drop_duplicates(subset=[\"title\", \"processed_text\", \"author_entities\"], inplace=True)\n",
        "print(f\"Объём датасета: {discipline_entities.shape[0]}\")\n",
        "display(discipline_entities.sample(3))"
      ],
      "metadata": {
        "ExecuteTime": {
          "end_time": "2024-03-24T11:28:43.130467500Z",
          "start_time": "2024-03-24T11:28:43.057162900Z"
        },
        "id": "RYG4DmBpERpD",
        "outputId": "630c8bf4-d6ce-42d6-df4e-9df56c2fc9c7"
      },
      "execution_count": null
    },
    {
      "cell_type": "code",
      "outputs": [],
      "source": [
        "discipline_entities.drop(columns=[\"qualification\"], inplace=True)"
      ],
      "metadata": {
        "ExecuteTime": {
          "end_time": "2024-03-24T11:30:02.674865300Z",
          "start_time": "2024-03-24T11:30:02.662583600Z"
        },
        "id": "AlgIMQTxERpE"
      },
      "execution_count": null
    },
    {
      "cell_type": "code",
      "outputs": [],
      "source": [
        "discipline_entities[\"tokenized_text\"] = discipline_entities.processed_text.apply(word_tokenize)"
      ],
      "metadata": {
        "ExecuteTime": {
          "end_time": "2024-03-24T12:01:33.852513600Z",
          "start_time": "2024-03-24T12:01:30.640159400Z"
        },
        "id": "_zKCLsd8ERpE"
      },
      "execution_count": null
    },
    {
      "cell_type": "code",
      "outputs": [],
      "source": [
        "discipline_entities.to_csv(\"../data/discipline_entities_processed_7200.csv\", sep=\";\", index=False, encoding=\"utf-8\")"
      ],
      "metadata": {
        "ExecuteTime": {
          "end_time": "2024-03-24T12:01:39.640360400Z",
          "start_time": "2024-03-24T12:01:38.865242600Z"
        },
        "id": "S7x7_PXLERpE"
      },
      "execution_count": null
    },
    {
      "cell_type": "markdown",
      "source": [
        "**Прочитаем данные**"
      ],
      "metadata": {
        "collapsed": false,
        "id": "FcvbRaf-ERpE"
      }
    },
    {
      "cell_type": "code",
      "outputs": [],
      "source": [
        "discipline_entities = pd.read_csv(\"../data/discipline_entities_processed_7200.csv\", sep=\";\", encoding=\"utf-8\")\n",
        "discipline_entities.tokenized_text = discipline_entities.tokenized_text.apply(literal_eval)"
      ],
      "metadata": {
        "ExecuteTime": {
          "end_time": "2024-03-24T12:02:50.282693800Z",
          "start_time": "2024-03-24T12:02:48.445451100Z"
        },
        "id": "XNdIc8muERpE"
      },
      "execution_count": null
    },
    {
      "cell_type": "markdown",
      "source": [
        "**Описание датасета**"
      ],
      "metadata": {
        "collapsed": false,
        "id": "ZdAYbQcbERpE"
      }
    },
    {
      "cell_type": "code",
      "outputs": [
        {
          "data": {
            "text/plain": "                 id\ncount   7261.000000\nmean   14677.982509\nstd     6437.140190\nmin     2626.000000\n25%    10552.000000\n50%    15503.000000\n75%    19868.000000\nmax    25077.000000",
            "text/html": "<div>\n<style scoped>\n    .dataframe tbody tr th:only-of-type {\n        vertical-align: middle;\n    }\n\n    .dataframe tbody tr th {\n        vertical-align: top;\n    }\n\n    .dataframe thead th {\n        text-align: right;\n    }\n</style>\n<table border=\"1\" class=\"dataframe\">\n  <thead>\n    <tr style=\"text-align: right;\">\n      <th></th>\n      <th>id</th>\n    </tr>\n  </thead>\n  <tbody>\n    <tr>\n      <th>count</th>\n      <td>7261.000000</td>\n    </tr>\n    <tr>\n      <th>mean</th>\n      <td>14677.982509</td>\n    </tr>\n    <tr>\n      <th>std</th>\n      <td>6437.140190</td>\n    </tr>\n    <tr>\n      <th>min</th>\n      <td>2626.000000</td>\n    </tr>\n    <tr>\n      <th>25%</th>\n      <td>10552.000000</td>\n    </tr>\n    <tr>\n      <th>50%</th>\n      <td>15503.000000</td>\n    </tr>\n    <tr>\n      <th>75%</th>\n      <td>19868.000000</td>\n    </tr>\n    <tr>\n      <th>max</th>\n      <td>25077.000000</td>\n    </tr>\n  </tbody>\n</table>\n</div>"
          },
          "execution_count": 30,
          "metadata": {},
          "output_type": "execute_result"
        }
      ],
      "source": [
        "discipline_entities.describe()"
      ],
      "metadata": {
        "ExecuteTime": {
          "end_time": "2024-03-24T11:30:55.783228100Z",
          "start_time": "2024-03-24T11:30:55.772287900Z"
        },
        "id": "hZXM7Nw0ERpE",
        "outputId": "ed94f7c2-64ed-4632-c2ea-73a0522c88ff"
      },
      "execution_count": null
    },
    {
      "cell_type": "markdown",
      "source": [
        "**Параметр title**"
      ],
      "metadata": {
        "collapsed": false,
        "id": "haM1qHLMERpE"
      }
    },
    {
      "cell_type": "code",
      "outputs": [
        {
          "name": "stdout",
          "output_type": "stream",
          "text": [
            "Объём датасета: 4340\n"
          ]
        },
        {
          "data": {
            "text/plain": "     id                                            title  \\\n0  2626                                        Философия   \n1  2627  Введение в цифровую культуру и программирование   \n2  2628                        Проектирование баз данных   \n\n                                      processed_text  \\\n0  философия курс философия давать целостный пред...   \n1  введение цифровой культура программирование ку...   \n2  проектирование база данные дисциплина направит...   \n\n                                     author_entities  \n0  ['Ценности современного гуманизма', 'Системное...  \n1  ['Цифровое образование', 'Цифровая этика', 'Те...  \n2  ['Язык структурированных запросов (SQL)', 'Хра...  ",
            "text/html": "<div>\n<style scoped>\n    .dataframe tbody tr th:only-of-type {\n        vertical-align: middle;\n    }\n\n    .dataframe tbody tr th {\n        vertical-align: top;\n    }\n\n    .dataframe thead th {\n        text-align: right;\n    }\n</style>\n<table border=\"1\" class=\"dataframe\">\n  <thead>\n    <tr style=\"text-align: right;\">\n      <th></th>\n      <th>id</th>\n      <th>title</th>\n      <th>processed_text</th>\n      <th>author_entities</th>\n    </tr>\n  </thead>\n  <tbody>\n    <tr>\n      <th>0</th>\n      <td>2626</td>\n      <td>Философия</td>\n      <td>философия курс философия давать целостный пред...</td>\n      <td>['Ценности современного гуманизма', 'Системное...</td>\n    </tr>\n    <tr>\n      <th>1</th>\n      <td>2627</td>\n      <td>Введение в цифровую культуру и программирование</td>\n      <td>введение цифровой культура программирование ку...</td>\n      <td>['Цифровое образование', 'Цифровая этика', 'Те...</td>\n    </tr>\n    <tr>\n      <th>2</th>\n      <td>2628</td>\n      <td>Проектирование баз данных</td>\n      <td>проектирование база данные дисциплина направит...</td>\n      <td>['Язык структурированных запросов (SQL)', 'Хра...</td>\n    </tr>\n  </tbody>\n</table>\n</div>"
          },
          "metadata": {},
          "output_type": "display_data"
        }
      ],
      "source": [
        "discipline_entities_duplicates_title = discipline_entities[discipline_entities.duplicated(subset=\"title\", keep=False)]\n",
        "print(f\"Объём датасета: {discipline_entities_duplicates_title.shape[0]}\")\n",
        "display(discipline_entities_duplicates_title.head(3))"
      ],
      "metadata": {
        "ExecuteTime": {
          "end_time": "2024-03-24T11:31:06.986390400Z",
          "start_time": "2024-03-24T11:31:06.972045900Z"
        },
        "id": "sT8Dyk2_ERpE",
        "outputId": "e5a0b9e8-a64a-4218-c729-012fb1d8f924"
      },
      "execution_count": null
    },
    {
      "cell_type": "code",
      "outputs": [
        {
          "data": {
            "text/plain": "         id      title                                     processed_text  \\\n0      2626  Философия  философия курс философия давать целостный пред...   \n1686  10240  Философия  философия курс философия давать целостный пред...   \n3449  15101  Философия  философия курс философия давать целостный пред...   \n6707  23098  Философия  философия уп технология инновация реализация с...   \n\n                                        author_entities  \n0     ['Ценности современного гуманизма', 'Системное...  \n1686  ['Язык тела и приоритет бессознательного', 'Кл...  \n3449  ['Ценности современного гуманизма', 'проблема ...  \n6707  ['Ценности современного гуманизма', 'Системное...  ",
            "text/html": "<div>\n<style scoped>\n    .dataframe tbody tr th:only-of-type {\n        vertical-align: middle;\n    }\n\n    .dataframe tbody tr th {\n        vertical-align: top;\n    }\n\n    .dataframe thead th {\n        text-align: right;\n    }\n</style>\n<table border=\"1\" class=\"dataframe\">\n  <thead>\n    <tr style=\"text-align: right;\">\n      <th></th>\n      <th>id</th>\n      <th>title</th>\n      <th>processed_text</th>\n      <th>author_entities</th>\n    </tr>\n  </thead>\n  <tbody>\n    <tr>\n      <th>0</th>\n      <td>2626</td>\n      <td>Философия</td>\n      <td>философия курс философия давать целостный пред...</td>\n      <td>['Ценности современного гуманизма', 'Системное...</td>\n    </tr>\n    <tr>\n      <th>1686</th>\n      <td>10240</td>\n      <td>Философия</td>\n      <td>философия курс философия давать целостный пред...</td>\n      <td>['Язык тела и приоритет бессознательного', 'Кл...</td>\n    </tr>\n    <tr>\n      <th>3449</th>\n      <td>15101</td>\n      <td>Философия</td>\n      <td>философия курс философия давать целостный пред...</td>\n      <td>['Ценности современного гуманизма', 'проблема ...</td>\n    </tr>\n    <tr>\n      <th>6707</th>\n      <td>23098</td>\n      <td>Философия</td>\n      <td>философия уп технология инновация реализация с...</td>\n      <td>['Ценности современного гуманизма', 'Системное...</td>\n    </tr>\n  </tbody>\n</table>\n</div>"
          },
          "execution_count": 32,
          "metadata": {},
          "output_type": "execute_result"
        }
      ],
      "source": [
        "discipline_entities_duplicates_title[discipline_entities_duplicates_title.title == \"Философия\"]"
      ],
      "metadata": {
        "ExecuteTime": {
          "end_time": "2024-03-24T11:31:09.953156300Z",
          "start_time": "2024-03-24T11:31:09.932255800Z"
        },
        "id": "ihR3fh3pERpE",
        "outputId": "e3063686-371d-4f07-bb8d-280d31d543f1"
      },
      "execution_count": null
    },
    {
      "cell_type": "markdown",
      "source": [
        "**Как видно, есть дисциплины с одинаковым названием**\n",
        "\n",
        "Но у них отличается описание и/или учебные сущности."
      ],
      "metadata": {
        "collapsed": false,
        "id": "qOGGBY20ERpF"
      }
    },
    {
      "cell_type": "markdown",
      "source": [
        "**Проверим количество уникальных**"
      ],
      "metadata": {
        "collapsed": false,
        "id": "FkbQFQeFERpF"
      }
    },
    {
      "cell_type": "code",
      "outputs": [
        {
          "data": {
            "text/plain": "4446"
          },
          "execution_count": 33,
          "metadata": {},
          "output_type": "execute_result"
        }
      ],
      "source": [
        "discipline_entities.title.nunique()"
      ],
      "metadata": {
        "ExecuteTime": {
          "end_time": "2024-03-24T11:49:16.383636800Z",
          "start_time": "2024-03-24T11:49:16.371518800Z"
        },
        "id": "oLkN0_vbERpF",
        "outputId": "794c45c9-4ac1-400c-f733-9c4466a86d16"
      },
      "execution_count": null
    },
    {
      "cell_type": "markdown",
      "source": [
        "**Итог по title**\n",
        "\n",
        "На 4446 меток классов для поиска у нас есть всего 7261 запись. Необходимо будет использовать аугментацию."
      ],
      "metadata": {
        "collapsed": false,
        "id": "nNgCkWQZERpF"
      }
    },
    {
      "cell_type": "markdown",
      "source": [
        "**Параметр текст**"
      ],
      "metadata": {
        "collapsed": false,
        "id": "0JTcvuIFERpF"
      }
    },
    {
      "cell_type": "code",
      "outputs": [
        {
          "data": {
            "text/plain": "<Figure size 1000x600 with 1 Axes>",
            "image/png": "[encoded data removed]"
          },
          "metadata": {},
          "output_type": "display_data"
        }
      ],
      "source": [
        "discipline_entities_text_word_count = discipline_entities.copy()\n",
        "discipline_entities_text_word_count[\"word_count\"] = discipline_entities_text_word_count.tokenized_text.apply(len)\n",
        "\n",
        "plt.figure(figsize=(10, 6))\n",
        "plt.plot(discipline_entities_text_word_count.groupby(by=\"word_count\")[\"id\"].nunique(), color=\"skyblue\")\n",
        "plt.xlabel(\"Количество слов\")\n",
        "plt.ylabel(\"Количество\")\n",
        "plt.title(\"Диаграмма распределения количества слов\")\n",
        "plt.grid(axis=\"y\", linestyle=\"--\", alpha=0.7)\n",
        "plt.show()"
      ],
      "metadata": {
        "ExecuteTime": {
          "end_time": "2024-03-24T12:03:23.225822500Z",
          "start_time": "2024-03-24T12:03:23.043080700Z"
        },
        "id": "XEAfKq7DERpF",
        "outputId": "3ef4c6c7-b67b-41d5-f42a-da2008e15b94"
      },
      "execution_count": null
    },
    {
      "cell_type": "markdown",
      "source": [
        "**Итог processed_text**\n",
        "\n",
        "Наибольшее количество описаний укладывается в длину до 500 слов."
      ],
      "metadata": {
        "collapsed": false,
        "id": "PDv4x2FoERpF"
      }
    },
    {
      "cell_type": "markdown",
      "source": [
        "### Discipline Data"
      ],
      "metadata": {
        "collapsed": false,
        "id": "SLb69yBGERpF"
      }
    },
    {
      "cell_type": "markdown",
      "source": [
        "**Прочитаем данные**"
      ],
      "metadata": {
        "collapsed": false,
        "id": "a1IwI4ZHERpF"
      }
    },
    {
      "cell_type": "code",
      "outputs": [
        {
          "name": "stdout",
          "output_type": "stream",
          "text": [
            "Объём датасета: 65910\n"
          ]
        },
        {
          "data": {
            "text/plain": "       course_id                                       course_title  \\\n52014      22669                            Инженерный дизайн - CAD   \n58006      22690  Актуальные поэтические практики (креативное пи...   \n20727      14682        Аннотация и использование микробных геномов   \n\n                                             description qualification  \\\n52014  Умение работать с 3d-моделями – это база для ш...    All_levels   \n58006  Что такое стихотворение? Рифмованные предложен...    All_levels   \n20727  Целью дисциплины является изучение:\\n - Молеку...      bachelor   \n\n       unit_id  up_id                                           up_title  \\\n52014       42   7142  Физика и технология наноструктур / Physics and...   \n58006        9   7117                                     Веб-технологии   \n20727       11   6917                                      Биотехнология   \n\n       start_year                              module_name  \\\n52014        2021         Общеуниверситетские факультативы   \n58006        2021         Общеуниверситетские факультативы   \n20727        2019  Специализация \"Микробные биотехнологии\"   \n\n                                                 section  \\\n52014  Моделирование деталей Моделирование сборок Соз...   \n58006  Поэтический текст в контексте социокультурного...   \n20727  Генетический аппарат бактерий. Генетический ап...   \n\n                                                   topic  \\\n52014  Начало работы, создание эскизов Создание прост...   \n58006  Языковые основания человеческого взаимодействи...   \n20727  Особенности генетического аппарата бактерий. Р...   \n\n                                        full_description  \\\n52014  умение работать d моделями это база широкий сп...   \n58006  стихотворение рифмовать предложение столбик се...   \n20727  цель дисциплина являться изучение молекулярный...   \n\n                                   tokenized_description  \n52014  ['умение', 'работать', 'd', 'моделями', 'это',...  \n58006  ['стихотворение', 'рифмовать', 'предложение', ...  \n20727  ['цель', 'дисциплина', 'являться', 'изучение',...  ",
            "text/html": "<div>\n<style scoped>\n    .dataframe tbody tr th:only-of-type {\n        vertical-align: middle;\n    }\n\n    .dataframe tbody tr th {\n        vertical-align: top;\n    }\n\n    .dataframe thead th {\n        text-align: right;\n    }\n</style>\n<table border=\"1\" class=\"dataframe\">\n  <thead>\n    <tr style=\"text-align: right;\">\n      <th></th>\n      <th>course_id</th>\n      <th>course_title</th>\n      <th>description</th>\n      <th>qualification</th>\n      <th>unit_id</th>\n      <th>up_id</th>\n      <th>up_title</th>\n      <th>start_year</th>\n      <th>module_name</th>\n      <th>section</th>\n      <th>topic</th>\n      <th>full_description</th>\n      <th>tokenized_description</th>\n    </tr>\n  </thead>\n  <tbody>\n    <tr>\n      <th>52014</th>\n      <td>22669</td>\n      <td>Инженерный дизайн - CAD</td>\n      <td>Умение работать с 3d-моделями – это база для ш...</td>\n      <td>All_levels</td>\n      <td>42</td>\n      <td>7142</td>\n      <td>Физика и технология наноструктур / Physics and...</td>\n      <td>2021</td>\n      <td>Общеуниверситетские факультативы</td>\n      <td>Моделирование деталей Моделирование сборок Соз...</td>\n      <td>Начало работы, создание эскизов Создание прост...</td>\n      <td>умение работать d моделями это база широкий сп...</td>\n      <td>['умение', 'работать', 'd', 'моделями', 'это',...</td>\n    </tr>\n    <tr>\n      <th>58006</th>\n      <td>22690</td>\n      <td>Актуальные поэтические практики (креативное пи...</td>\n      <td>Что такое стихотворение? Рифмованные предложен...</td>\n      <td>All_levels</td>\n      <td>9</td>\n      <td>7117</td>\n      <td>Веб-технологии</td>\n      <td>2021</td>\n      <td>Общеуниверситетские факультативы</td>\n      <td>Поэтический текст в контексте социокультурного...</td>\n      <td>Языковые основания человеческого взаимодействи...</td>\n      <td>стихотворение рифмовать предложение столбик се...</td>\n      <td>['стихотворение', 'рифмовать', 'предложение', ...</td>\n    </tr>\n    <tr>\n      <th>20727</th>\n      <td>14682</td>\n      <td>Аннотация и использование микробных геномов</td>\n      <td>Целью дисциплины является изучение:\\n - Молеку...</td>\n      <td>bachelor</td>\n      <td>11</td>\n      <td>6917</td>\n      <td>Биотехнология</td>\n      <td>2019</td>\n      <td>Специализация \"Микробные биотехнологии\"</td>\n      <td>Генетический аппарат бактерий. Генетический ап...</td>\n      <td>Особенности генетического аппарата бактерий. Р...</td>\n      <td>цель дисциплина являться изучение молекулярный...</td>\n      <td>['цель', 'дисциплина', 'являться', 'изучение',...</td>\n    </tr>\n  </tbody>\n</table>\n</div>"
          },
          "metadata": {},
          "output_type": "display_data"
        }
      ],
      "source": [
        "discipline_data = pd.read_csv(\"D:/Data/discipline_data_step_3.csv\", sep=\";\", encoding=\"utf-8\")\n",
        "print(f\"Объём датасета: {discipline_data.shape[0]}\")\n",
        "display(discipline_data.sample(3))"
      ],
      "metadata": {
        "ExecuteTime": {
          "end_time": "2024-03-24T11:59:27.583328800Z",
          "start_time": "2024-03-24T11:59:24.032824700Z"
        },
        "id": "vu_utshyERpF",
        "outputId": "c0636ea2-4868-4ef8-c967-f40272acaeb6"
      },
      "execution_count": null
    },
    {
      "cell_type": "markdown",
      "source": [
        "**Уберём колонки, не нужные для задания**"
      ],
      "metadata": {
        "collapsed": false,
        "id": "KrZUy7qeERpF"
      }
    },
    {
      "cell_type": "code",
      "outputs": [],
      "source": [
        "discipline_data.drop(columns=[\"description\", \"qualification\", \"unit_id\", \"up_id\", \"up_title\",\n",
        "                              \"start_year\", \"module_name\", \"section\", \"topic\"], inplace=True)"
      ],
      "metadata": {
        "ExecuteTime": {
          "end_time": "2024-03-24T12:05:58.755027700Z",
          "start_time": "2024-03-24T12:05:58.743319400Z"
        },
        "id": "qioQsppkERpF"
      },
      "execution_count": null
    },
    {
      "cell_type": "markdown",
      "source": [
        "**Приведём вид датафрейма к первому**"
      ],
      "metadata": {
        "collapsed": false,
        "id": "XWR1ydbHERpF"
      }
    },
    {
      "cell_type": "code",
      "outputs": [],
      "source": [
        "discipline_data.rename(columns={\"course_id\": \"id\",  \"full_description\": \"processed_text\",\n",
        "                                \"course_title\": \"title\", \"tokenized_description\": \"tokenized_text\"}, inplace=True)"
      ],
      "metadata": {
        "ExecuteTime": {
          "end_time": "2024-03-24T12:07:30.436846400Z",
          "start_time": "2024-03-24T12:07:30.419659900Z"
        },
        "id": "QN-9RyypERpF"
      },
      "execution_count": null
    },
    {
      "cell_type": "code",
      "outputs": [
        {
          "data": {
            "text/plain": "          id                                              title  \\\n31816  15933        Специальные разделы функционального анализа   \n37554  17725  Первичная обработка данных и Хранение больших ...   \n40152  19115                                             Физика   \n\n                                          processed_text  \\\n31816  функциональный анализ появиться результат обоб...   \n37554  дисциплина состоять раздел раздел первичный об...   \n40152  первый семестр курс физика посвятить раздел ме...   \n\n                                          tokenized_text  \n31816  ['функциональный', 'анализ', 'появиться', 'рез...  \n37554  ['дисциплина', 'состоять', 'раздел', 'раздел',...  \n40152  ['первый', 'семестр', 'курс', 'физика', 'посвя...  ",
            "text/html": "<div>\n<style scoped>\n    .dataframe tbody tr th:only-of-type {\n        vertical-align: middle;\n    }\n\n    .dataframe tbody tr th {\n        vertical-align: top;\n    }\n\n    .dataframe thead th {\n        text-align: right;\n    }\n</style>\n<table border=\"1\" class=\"dataframe\">\n  <thead>\n    <tr style=\"text-align: right;\">\n      <th></th>\n      <th>id</th>\n      <th>title</th>\n      <th>processed_text</th>\n      <th>tokenized_text</th>\n    </tr>\n  </thead>\n  <tbody>\n    <tr>\n      <th>31816</th>\n      <td>15933</td>\n      <td>Специальные разделы функционального анализа</td>\n      <td>функциональный анализ появиться результат обоб...</td>\n      <td>['функциональный', 'анализ', 'появиться', 'рез...</td>\n    </tr>\n    <tr>\n      <th>37554</th>\n      <td>17725</td>\n      <td>Первичная обработка данных и Хранение больших ...</td>\n      <td>дисциплина состоять раздел раздел первичный об...</td>\n      <td>['дисциплина', 'состоять', 'раздел', 'раздел',...</td>\n    </tr>\n    <tr>\n      <th>40152</th>\n      <td>19115</td>\n      <td>Физика</td>\n      <td>первый семестр курс физика посвятить раздел ме...</td>\n      <td>['первый', 'семестр', 'курс', 'физика', 'посвя...</td>\n    </tr>\n  </tbody>\n</table>\n</div>"
          },
          "execution_count": 47,
          "metadata": {},
          "output_type": "execute_result"
        }
      ],
      "source": [
        "discipline_data.sample(3)"
      ],
      "metadata": {
        "ExecuteTime": {
          "end_time": "2024-03-24T12:07:42.081559800Z",
          "start_time": "2024-03-24T12:07:42.067271100Z"
        },
        "id": "lj5XzhE9ERpG",
        "outputId": "f11d30bd-bc99-422a-dea9-de3b6ba18850"
      },
      "execution_count": null
    },
    {
      "cell_type": "markdown",
      "source": [
        "**Уберём дубликаты**"
      ],
      "metadata": {
        "collapsed": false,
        "id": "KawIELrXERpG"
      }
    },
    {
      "cell_type": "code",
      "outputs": [
        {
          "name": "stdout",
          "output_type": "stream",
          "text": [
            "Объём датасета: 6137\n"
          ]
        },
        {
          "data": {
            "text/plain": "          id                                              title  \\\n63265  24786  Материалы оптических, квантовых и фемтотехноло...   \n39336  18448  Методы искусственного интеллекта в электроэнер...   \n19069  14054         Методы исследования региональной экономики   \n\n                                          processed_text  \\\n63265  the discipline is focused on developing studen...   \n39336  дисциплина метод искусственный интеллект элект...   \n19069  дисциплина метод исследование региональный эко...   \n\n                                          tokenized_text  \n63265  ['the', 'discipline', 'is', 'focused', 'on', '...  \n39336  ['дисциплина', 'метод', 'искусственный', 'инте...  \n19069  ['дисциплина', 'метод', 'исследование', 'регио...  ",
            "text/html": "<div>\n<style scoped>\n    .dataframe tbody tr th:only-of-type {\n        vertical-align: middle;\n    }\n\n    .dataframe tbody tr th {\n        vertical-align: top;\n    }\n\n    .dataframe thead th {\n        text-align: right;\n    }\n</style>\n<table border=\"1\" class=\"dataframe\">\n  <thead>\n    <tr style=\"text-align: right;\">\n      <th></th>\n      <th>id</th>\n      <th>title</th>\n      <th>processed_text</th>\n      <th>tokenized_text</th>\n    </tr>\n  </thead>\n  <tbody>\n    <tr>\n      <th>63265</th>\n      <td>24786</td>\n      <td>Материалы оптических, квантовых и фемтотехноло...</td>\n      <td>the discipline is focused on developing studen...</td>\n      <td>['the', 'discipline', 'is', 'focused', 'on', '...</td>\n    </tr>\n    <tr>\n      <th>39336</th>\n      <td>18448</td>\n      <td>Методы искусственного интеллекта в электроэнер...</td>\n      <td>дисциплина метод искусственный интеллект элект...</td>\n      <td>['дисциплина', 'метод', 'искусственный', 'инте...</td>\n    </tr>\n    <tr>\n      <th>19069</th>\n      <td>14054</td>\n      <td>Методы исследования региональной экономики</td>\n      <td>дисциплина метод исследование региональный эко...</td>\n      <td>['дисциплина', 'метод', 'исследование', 'регио...</td>\n    </tr>\n  </tbody>\n</table>\n</div>"
          },
          "metadata": {},
          "output_type": "display_data"
        }
      ],
      "source": [
        "discipline_data.drop_duplicates(subset=[\"title\", \"processed_text\"], inplace=True)\n",
        "print(f\"Объём датасета: {discipline_data.shape[0]}\")\n",
        "display(discipline_data.sample(3))"
      ],
      "metadata": {
        "ExecuteTime": {
          "end_time": "2024-03-24T12:09:41.761305400Z",
          "start_time": "2024-03-24T12:09:41.372603200Z"
        },
        "id": "hlWwqD82ERpG",
        "outputId": "3fc37bed-13ca-4aea-f22f-62ed956f06fe"
      },
      "execution_count": null
    },
    {
      "cell_type": "code",
      "outputs": [],
      "source": [
        "discipline_data.to_csv(\"../data/discipline_data_processed_6100.csv\", sep=\";\", index=False, encoding=\"utf-8\")"
      ],
      "metadata": {
        "ExecuteTime": {
          "end_time": "2024-03-24T12:17:11.736789Z",
          "start_time": "2024-03-24T12:17:11.174923400Z"
        },
        "id": "7l7nfoqtERpG"
      },
      "execution_count": null
    },
    {
      "cell_type": "markdown",
      "source": [
        "**Прочитаем данные**"
      ],
      "metadata": {
        "collapsed": false,
        "id": "vAq2yLQLERpJ"
      }
    },
    {
      "cell_type": "code",
      "outputs": [],
      "source": [
        "discipline_data = pd.read_csv(\"../data/discipline_data_processed_6100.csv\", sep=\";\", encoding=\"utf-8\")\n",
        "discipline_data.tokenized_text = discipline_data.tokenized_text.apply(literal_eval)"
      ],
      "metadata": {
        "ExecuteTime": {
          "end_time": "2024-03-24T12:21:52.788312400Z",
          "start_time": "2024-03-24T12:21:51.242200Z"
        },
        "id": "pjSKc5RiERpL"
      },
      "execution_count": null
    },
    {
      "cell_type": "markdown",
      "source": [
        "**Описание датасета**"
      ],
      "metadata": {
        "collapsed": false,
        "id": "VhKYr32NERpL"
      }
    },
    {
      "cell_type": "code",
      "outputs": [
        {
          "data": {
            "text/plain": "                 id\ncount   6137.000000\nmean   13822.024442\nstd     6346.694284\nmin     2626.000000\n25%     8171.000000\n50%    14579.000000\n75%    19092.000000\nmax    30918.000000",
            "text/html": "<div>\n<style scoped>\n    .dataframe tbody tr th:only-of-type {\n        vertical-align: middle;\n    }\n\n    .dataframe tbody tr th {\n        vertical-align: top;\n    }\n\n    .dataframe thead th {\n        text-align: right;\n    }\n</style>\n<table border=\"1\" class=\"dataframe\">\n  <thead>\n    <tr style=\"text-align: right;\">\n      <th></th>\n      <th>id</th>\n    </tr>\n  </thead>\n  <tbody>\n    <tr>\n      <th>count</th>\n      <td>6137.000000</td>\n    </tr>\n    <tr>\n      <th>mean</th>\n      <td>13822.024442</td>\n    </tr>\n    <tr>\n      <th>std</th>\n      <td>6346.694284</td>\n    </tr>\n    <tr>\n      <th>min</th>\n      <td>2626.000000</td>\n    </tr>\n    <tr>\n      <th>25%</th>\n      <td>8171.000000</td>\n    </tr>\n    <tr>\n      <th>50%</th>\n      <td>14579.000000</td>\n    </tr>\n    <tr>\n      <th>75%</th>\n      <td>19092.000000</td>\n    </tr>\n    <tr>\n      <th>max</th>\n      <td>30918.000000</td>\n    </tr>\n  </tbody>\n</table>\n</div>"
          },
          "execution_count": 54,
          "metadata": {},
          "output_type": "execute_result"
        }
      ],
      "source": [
        "discipline_data.describe()"
      ],
      "metadata": {
        "ExecuteTime": {
          "end_time": "2024-03-24T12:17:48.825350300Z",
          "start_time": "2024-03-24T12:17:48.813680800Z"
        },
        "id": "lp447TPHERpL",
        "outputId": "30802f0c-3f88-411e-d4a8-a3796dcf085b"
      },
      "execution_count": null
    },
    {
      "cell_type": "markdown",
      "source": [
        "**Параметр title**"
      ],
      "metadata": {
        "collapsed": false,
        "id": "SNp_6BpZERpL"
      }
    },
    {
      "cell_type": "code",
      "outputs": [
        {
          "name": "stdout",
          "output_type": "stream",
          "text": [
            "Объём датасета: 3262\n"
          ]
        },
        {
          "data": {
            "text/plain": "     id                                            title  \\\n0  2626                                        Философия   \n1  2627  Введение в цифровую культуру и программирование   \n2  2628                        Проектирование баз данных   \n\n                                      processed_text  \\\n0  курс философия давать целостный представление ...   \n1  курс введение цифровой культура программирован...   \n2  дисциплина направить формирование понимание ос...   \n\n                                      tokenized_text  \n0  ['курс', 'философия', 'давать', 'целостный', '...  \n1  ['курс', 'введение', 'цифровой', 'культура', '...  \n2  ['дисциплина', 'направить', 'формирование', 'п...  ",
            "text/html": "<div>\n<style scoped>\n    .dataframe tbody tr th:only-of-type {\n        vertical-align: middle;\n    }\n\n    .dataframe tbody tr th {\n        vertical-align: top;\n    }\n\n    .dataframe thead th {\n        text-align: right;\n    }\n</style>\n<table border=\"1\" class=\"dataframe\">\n  <thead>\n    <tr style=\"text-align: right;\">\n      <th></th>\n      <th>id</th>\n      <th>title</th>\n      <th>processed_text</th>\n      <th>tokenized_text</th>\n    </tr>\n  </thead>\n  <tbody>\n    <tr>\n      <th>0</th>\n      <td>2626</td>\n      <td>Философия</td>\n      <td>курс философия давать целостный представление ...</td>\n      <td>['курс', 'философия', 'давать', 'целостный', '...</td>\n    </tr>\n    <tr>\n      <th>1</th>\n      <td>2627</td>\n      <td>Введение в цифровую культуру и программирование</td>\n      <td>курс введение цифровой культура программирован...</td>\n      <td>['курс', 'введение', 'цифровой', 'культура', '...</td>\n    </tr>\n    <tr>\n      <th>2</th>\n      <td>2628</td>\n      <td>Проектирование баз данных</td>\n      <td>дисциплина направить формирование понимание ос...</td>\n      <td>['дисциплина', 'направить', 'формирование', 'п...</td>\n    </tr>\n  </tbody>\n</table>\n</div>"
          },
          "metadata": {},
          "output_type": "display_data"
        }
      ],
      "source": [
        "discipline_data_duplicates_title = discipline_data[discipline_data.duplicated(subset=\"title\", keep=False)]\n",
        "print(f\"Объём датасета: {discipline_data_duplicates_title.shape[0]}\")\n",
        "display(discipline_data_duplicates_title.head(3))"
      ],
      "metadata": {
        "ExecuteTime": {
          "end_time": "2024-03-24T12:18:45.924137100Z",
          "start_time": "2024-03-24T12:18:45.910688700Z"
        },
        "id": "LpO0-7zyERpL",
        "outputId": "cff1fcb3-d2b3-44a8-fc8d-7a789cced341"
      },
      "execution_count": null
    },
    {
      "cell_type": "code",
      "outputs": [
        {
          "data": {
            "text/plain": "         id      title                                     processed_text  \\\n0      2626  Философия  курс философия давать целостный представление ...   \n1633  10240  Философия  курс философия давать целостный представление ...   \n3279  15101  Философия  курс философия давать целостный представление ...   \n\n                                         tokenized_text  \n0     ['курс', 'философия', 'давать', 'целостный', '...  \n1633  ['курс', 'философия', 'давать', 'целостный', '...  \n3279  ['курс', 'философия', 'давать', 'целостный', '...  ",
            "text/html": "<div>\n<style scoped>\n    .dataframe tbody tr th:only-of-type {\n        vertical-align: middle;\n    }\n\n    .dataframe tbody tr th {\n        vertical-align: top;\n    }\n\n    .dataframe thead th {\n        text-align: right;\n    }\n</style>\n<table border=\"1\" class=\"dataframe\">\n  <thead>\n    <tr style=\"text-align: right;\">\n      <th></th>\n      <th>id</th>\n      <th>title</th>\n      <th>processed_text</th>\n      <th>tokenized_text</th>\n    </tr>\n  </thead>\n  <tbody>\n    <tr>\n      <th>0</th>\n      <td>2626</td>\n      <td>Философия</td>\n      <td>курс философия давать целостный представление ...</td>\n      <td>['курс', 'философия', 'давать', 'целостный', '...</td>\n    </tr>\n    <tr>\n      <th>1633</th>\n      <td>10240</td>\n      <td>Философия</td>\n      <td>курс философия давать целостный представление ...</td>\n      <td>['курс', 'философия', 'давать', 'целостный', '...</td>\n    </tr>\n    <tr>\n      <th>3279</th>\n      <td>15101</td>\n      <td>Философия</td>\n      <td>курс философия давать целостный представление ...</td>\n      <td>['курс', 'философия', 'давать', 'целостный', '...</td>\n    </tr>\n  </tbody>\n</table>\n</div>"
          },
          "execution_count": 56,
          "metadata": {},
          "output_type": "execute_result"
        }
      ],
      "source": [
        "discipline_data_duplicates_title[discipline_data_duplicates_title.title == \"Философия\"]"
      ],
      "metadata": {
        "ExecuteTime": {
          "end_time": "2024-03-24T12:18:59.405885700Z",
          "start_time": "2024-03-24T12:18:59.395757800Z"
        },
        "id": "ycIBjn0jERpL",
        "outputId": "e3e10842-a47f-4913-ecf1-e100ef4afaa8"
      },
      "execution_count": null
    },
    {
      "cell_type": "markdown",
      "source": [
        "**Как видно, есть дисциплины с одинаковым названием**\n",
        "\n",
        "Но у них отличается описание и/или учебные сущности."
      ],
      "metadata": {
        "collapsed": false,
        "id": "qasffFUBERpL"
      }
    },
    {
      "cell_type": "markdown",
      "source": [
        "**Проверим количество уникальных**"
      ],
      "metadata": {
        "collapsed": false,
        "id": "dooLM3PWERpL"
      }
    },
    {
      "cell_type": "code",
      "outputs": [
        {
          "data": {
            "text/plain": "4063"
          },
          "execution_count": 57,
          "metadata": {},
          "output_type": "execute_result"
        }
      ],
      "source": [
        "discipline_data.title.nunique()"
      ],
      "metadata": {
        "ExecuteTime": {
          "end_time": "2024-03-24T12:19:49.388036500Z",
          "start_time": "2024-03-24T12:19:49.372478700Z"
        },
        "id": "osz5OOFqERpL",
        "outputId": "7ae57509-a006-4e3c-c66c-f0c486a7d0c1"
      },
      "execution_count": null
    },
    {
      "cell_type": "markdown",
      "source": [
        "**Итог по title**\n",
        "\n",
        "На 4063 метки классов для поиска у нас есть всего 6137 запись. Необходимо будет использовать аугментацию."
      ],
      "metadata": {
        "collapsed": false,
        "id": "aF27MFsbERpL"
      }
    },
    {
      "cell_type": "markdown",
      "source": [
        "**Параметр текст**"
      ],
      "metadata": {
        "collapsed": false,
        "id": "yIQFCa5xERpM"
      }
    },
    {
      "cell_type": "code",
      "outputs": [
        {
          "data": {
            "text/plain": "<Figure size 1000x600 with 1 Axes>",
            "image/png": "[encoded data removed]"
          },
          "metadata": {},
          "output_type": "display_data"
        }
      ],
      "source": [
        "discipline_data_text_word_count = discipline_data.copy()\n",
        "discipline_data_text_word_count[\"word_count\"] = discipline_data_text_word_count.tokenized_text.apply(len)\n",
        "\n",
        "plt.figure(figsize=(10, 6))\n",
        "plt.plot(discipline_data_text_word_count.groupby(by=\"word_count\")[\"id\"].nunique(), color=\"skyblue\")\n",
        "plt.xlabel(\"Количество слов\")\n",
        "plt.ylabel(\"Количество\")\n",
        "plt.title(\"Диаграмма распределения количества слов\")\n",
        "plt.grid(axis=\"y\", linestyle=\"--\", alpha=0.7)\n",
        "plt.show()"
      ],
      "metadata": {
        "ExecuteTime": {
          "end_time": "2024-03-24T12:22:26.108862200Z",
          "start_time": "2024-03-24T12:22:25.953633100Z"
        },
        "id": "2ujWAuZPERpM",
        "outputId": "159b2f62-36de-4269-d522-5f28bb3568c7"
      },
      "execution_count": null
    },
    {
      "cell_type": "markdown",
      "source": [
        "**Итог processed_text**\n",
        "\n",
        "Наибольшее количество описаний укладывается в длину до 500 слов."
      ],
      "metadata": {
        "collapsed": false,
        "id": "xw8Bsp-0ERpM"
      }
    },
    {
      "cell_type": "markdown",
      "source": [
        "## Этап 2 - Аугментация данных"
      ],
      "metadata": {
        "collapsed": false,
        "id": "q9caC6PhERpM"
      }
    },
    {
      "cell_type": "markdown",
      "source": [
        "**Используем библиотеку nlpaug**\n",
        "\n",
        "Механизм ContextualWordEmbsAug, который использует transfomer модель для наиболее релевантной замены слов."
      ],
      "metadata": {
        "collapsed": false,
        "id": "ALw6lHGTERpM"
      }
    },
    {
      "cell_type": "markdown",
      "source": [
        "**Добавим к выборкам оригинальный текст сообщений, аугментируем его**"
      ],
      "metadata": {
        "collapsed": false,
        "id": "Cl_jI6VDERpM"
      }
    },
    {
      "cell_type": "markdown",
      "source": [
        "### Discipline Entities"
      ],
      "metadata": {
        "collapsed": false,
        "id": "zyitkm03ERpM"
      }
    },
    {
      "cell_type": "code",
      "outputs": [
        {
          "name": "stdout",
          "output_type": "stream",
          "text": [
            "Объём датасета: 8365\n"
          ]
        },
        {
          "data": {
            "text/plain": "         id                                           raw_text\n7852  23857  Исследование альтернативных источников энергии...\n5182  18561  Киберфизические системы и технологии / Cyber P...\n6927  21239  Основы экономики. Дисциплина «Основы экономики...",
            "text/html": "<div>\n<style scoped>\n    .dataframe tbody tr th:only-of-type {\n        vertical-align: middle;\n    }\n\n    .dataframe tbody tr th {\n        vertical-align: top;\n    }\n\n    .dataframe thead th {\n        text-align: right;\n    }\n</style>\n<table border=\"1\" class=\"dataframe\">\n  <thead>\n    <tr style=\"text-align: right;\">\n      <th></th>\n      <th>id</th>\n      <th>raw_text</th>\n    </tr>\n  </thead>\n  <tbody>\n    <tr>\n      <th>7852</th>\n      <td>23857</td>\n      <td>Исследование альтернативных источников энергии...</td>\n    </tr>\n    <tr>\n      <th>5182</th>\n      <td>18561</td>\n      <td>Киберфизические системы и технологии / Cyber P...</td>\n    </tr>\n    <tr>\n      <th>6927</th>\n      <td>21239</td>\n      <td>Основы экономики. Дисциплина «Основы экономики...</td>\n    </tr>\n  </tbody>\n</table>\n</div>"
          },
          "metadata": {},
          "output_type": "display_data"
        }
      ],
      "source": [
        "discipline_entities_original = pd.read_csv(\n",
        "    \"../data/disciplines_entities20230506.csv\", header=0,\n",
        "     names=[\"id\", \"title\", \"qualification\", \"raw_text\", \"author_entities\"]\n",
        ")\n",
        "discipline_entities_original = discipline_entities_original[[\"id\", \"raw_text\"]]\n",
        "print(f\"Объём датасета: {discipline_entities_original.shape[0]}\")\n",
        "display(discipline_entities_original.sample(3))"
      ],
      "metadata": {
        "ExecuteTime": {
          "end_time": "2024-03-24T13:53:45.824335500Z",
          "start_time": "2024-03-24T13:53:45.520988500Z"
        },
        "id": "lB3QEQmzERpM",
        "outputId": "6f283064-94d0-43ef-f43b-e0b74b66d0bf"
      },
      "execution_count": null
    },
    {
      "cell_type": "code",
      "outputs": [
        {
          "name": "stdout",
          "output_type": "stream",
          "text": [
            "Объём датасета: 7261\n"
          ]
        },
        {
          "data": {
            "text/plain": "         id                                              title  \\\n4056  17385  Производственная, научно-исследовательская работа   \n2486  12588                          Технологии больших данных   \n5782  20462  Жизнь в науке: путеводитель молодого исследова...   \n\n                                         processed_text  \\\n4056  производственный научно исследовательский рабо...   \n2486  технология больший данные данный курс рассматр...   \n5782  жизнь наука путеводитель молодой исследователь...   \n\n                                        author_entities  \\\n4056  ['Оформление результатов работы с использовани...   \n2486  ['Язык R', 'Сбор данных', 'Регрессионный анали...   \n5782  ['Self-presentation', 'Public speaking skills'...   \n\n                                         tokenized_text  \n4056  ['производственный', 'научно', 'исследовательс...  \n2486  ['технология', 'больший', 'данные', 'данный', ...  \n5782  ['жизнь', 'наука', 'путеводитель', 'молодой', ...  ",
            "text/html": "<div>\n<style scoped>\n    .dataframe tbody tr th:only-of-type {\n        vertical-align: middle;\n    }\n\n    .dataframe tbody tr th {\n        vertical-align: top;\n    }\n\n    .dataframe thead th {\n        text-align: right;\n    }\n</style>\n<table border=\"1\" class=\"dataframe\">\n  <thead>\n    <tr style=\"text-align: right;\">\n      <th></th>\n      <th>id</th>\n      <th>title</th>\n      <th>processed_text</th>\n      <th>author_entities</th>\n      <th>tokenized_text</th>\n    </tr>\n  </thead>\n  <tbody>\n    <tr>\n      <th>4056</th>\n      <td>17385</td>\n      <td>Производственная, научно-исследовательская работа</td>\n      <td>производственный научно исследовательский рабо...</td>\n      <td>['Оформление результатов работы с использовани...</td>\n      <td>['производственный', 'научно', 'исследовательс...</td>\n    </tr>\n    <tr>\n      <th>2486</th>\n      <td>12588</td>\n      <td>Технологии больших данных</td>\n      <td>технология больший данные данный курс рассматр...</td>\n      <td>['Язык R', 'Сбор данных', 'Регрессионный анали...</td>\n      <td>['технология', 'больший', 'данные', 'данный', ...</td>\n    </tr>\n    <tr>\n      <th>5782</th>\n      <td>20462</td>\n      <td>Жизнь в науке: путеводитель молодого исследова...</td>\n      <td>жизнь наука путеводитель молодой исследователь...</td>\n      <td>['Self-presentation', 'Public speaking skills'...</td>\n      <td>['жизнь', 'наука', 'путеводитель', 'молодой', ...</td>\n    </tr>\n  </tbody>\n</table>\n</div>"
          },
          "metadata": {},
          "output_type": "display_data"
        }
      ],
      "source": [
        "discipline_entities = pd.read_csv(\"../data/discipline_entities_processed_7200.csv\", sep=\";\", encoding=\"utf-8\")\n",
        "print(f\"Объём датасета: {discipline_entities.shape[0]}\")\n",
        "display(discipline_entities.sample(3))"
      ],
      "metadata": {
        "ExecuteTime": {
          "end_time": "2024-03-24T13:53:47.096808200Z",
          "start_time": "2024-03-24T13:53:46.713357600Z"
        },
        "id": "VZ_5EVtaERpM",
        "outputId": "a18961b1-43a4-446f-f75f-cdcf198678b5"
      },
      "execution_count": null
    },
    {
      "cell_type": "code",
      "outputs": [
        {
          "name": "stdout",
          "output_type": "stream",
          "text": [
            "Объём датасета: 7261\n"
          ]
        },
        {
          "data": {
            "text/plain": "         id                                              title  \\\n276    3312  Аналитика и исследование оптико-электронных пр...   \n6504  22685                               Сложная коммуникация   \n1218   5797               Основы обработки естественного языка   \n\n                                         processed_text  \\\n276   аналитик исследование оптико электронный прибо...   \n6504  сложный коммуникация стратегический уровень ку...   \n1218  основа обработка естественный язык данный курс...   \n\n                                        author_entities  \\\n276   ['Умение исследовать параметры и характеристик...   \n6504  ['Управление конфликтами', 'Токсичное общение'...   \n1218  ['Языковые модели', 'Синтаксический анализ тек...   \n\n                                         tokenized_text  \\\n276   ['аналитик', 'исследование', 'оптико', 'электр...   \n6504  ['сложный', 'коммуникация', 'стратегический', ...   \n1218  ['основа', 'обработка', 'естественный', 'язык'...   \n\n                                               raw_text  \n276   Аналитика и исследование оптико-электронных пр...  \n6504  Сложная коммуникация. На стратегическом уровне...  \n1218  Основы обработки естественного языка. В данном...  ",
            "text/html": "<div>\n<style scoped>\n    .dataframe tbody tr th:only-of-type {\n        vertical-align: middle;\n    }\n\n    .dataframe tbody tr th {\n        vertical-align: top;\n    }\n\n    .dataframe thead th {\n        text-align: right;\n    }\n</style>\n<table border=\"1\" class=\"dataframe\">\n  <thead>\n    <tr style=\"text-align: right;\">\n      <th></th>\n      <th>id</th>\n      <th>title</th>\n      <th>processed_text</th>\n      <th>author_entities</th>\n      <th>tokenized_text</th>\n      <th>raw_text</th>\n    </tr>\n  </thead>\n  <tbody>\n    <tr>\n      <th>276</th>\n      <td>3312</td>\n      <td>Аналитика и исследование оптико-электронных пр...</td>\n      <td>аналитик исследование оптико электронный прибо...</td>\n      <td>['Умение исследовать параметры и характеристик...</td>\n      <td>['аналитик', 'исследование', 'оптико', 'электр...</td>\n      <td>Аналитика и исследование оптико-электронных пр...</td>\n    </tr>\n    <tr>\n      <th>6504</th>\n      <td>22685</td>\n      <td>Сложная коммуникация</td>\n      <td>сложный коммуникация стратегический уровень ку...</td>\n      <td>['Управление конфликтами', 'Токсичное общение'...</td>\n      <td>['сложный', 'коммуникация', 'стратегический', ...</td>\n      <td>Сложная коммуникация. На стратегическом уровне...</td>\n    </tr>\n    <tr>\n      <th>1218</th>\n      <td>5797</td>\n      <td>Основы обработки естественного языка</td>\n      <td>основа обработка естественный язык данный курс...</td>\n      <td>['Языковые модели', 'Синтаксический анализ тек...</td>\n      <td>['основа', 'обработка', 'естественный', 'язык'...</td>\n      <td>Основы обработки естественного языка. В данном...</td>\n    </tr>\n  </tbody>\n</table>\n</div>"
          },
          "metadata": {},
          "output_type": "display_data"
        }
      ],
      "source": [
        "discipline_entities = pd.merge(discipline_entities, discipline_entities_original, on=\"id\")\n",
        "print(f\"Объём датасета: {discipline_entities.shape[0]}\")\n",
        "display(discipline_entities.sample(3))"
      ],
      "metadata": {
        "ExecuteTime": {
          "end_time": "2024-03-24T13:53:47.970146600Z",
          "start_time": "2024-03-24T13:53:47.958835200Z"
        },
        "id": "ZRyRu9tnERpM",
        "outputId": "2218a2a7-4e46-49b7-8559-e2feeb7c8d9f"
      },
      "execution_count": null
    },
    {
      "cell_type": "markdown",
      "source": [
        "### Discipline Data"
      ],
      "metadata": {
        "collapsed": false,
        "id": "jgjUqm53ERpM"
      }
    },
    {
      "cell_type": "code",
      "outputs": [],
      "source": [
        "discipline_data_full_description = pd.read_csv(\"D:/Data/discipline_data_step_1.csv\", sep=\";\", encoding=\"utf-8\")"
      ],
      "metadata": {
        "ExecuteTime": {
          "end_time": "2024-03-24T13:46:15.810269700Z",
          "start_time": "2024-03-24T13:46:14.880134800Z"
        },
        "id": "ObdEbNWoERpN"
      },
      "execution_count": null
    },
    {
      "cell_type": "code",
      "outputs": [],
      "source": [
        "discipline_data_processed_description = pd.read_csv(\"D:/Data/discipline_data_step_3.csv\", sep=\";\", encoding=\"utf-8\")"
      ],
      "metadata": {
        "ExecuteTime": {
          "end_time": "2024-03-24T13:46:31.594362300Z",
          "start_time": "2024-03-24T13:46:27.653700600Z"
        },
        "id": "JtGJ4xDbERpN"
      },
      "execution_count": null
    },
    {
      "cell_type": "code",
      "outputs": [],
      "source": [
        "discipline_data_original = pd.DataFrame()\n",
        "discipline_data_original[\"id\"] = discipline_data_full_description.course_id\n",
        "discipline_data_original[\"title\"] = discipline_data_full_description.course_title\n",
        "discipline_data_original[\"raw_text\"] = discipline_data_full_description.full_description\n",
        "discipline_data_original[\"processed_text\"] = discipline_data_processed_description.full_description"
      ],
      "metadata": {
        "ExecuteTime": {
          "end_time": "2024-03-24T13:46:32.241084900Z",
          "start_time": "2024-03-24T13:46:32.229452800Z"
        },
        "id": "kDK-lUxRERpN"
      },
      "execution_count": null
    },
    {
      "cell_type": "code",
      "outputs": [
        {
          "name": "stdout",
          "output_type": "stream",
          "text": [
            "Объём датасета: 65910\n"
          ]
        },
        {
          "data": {
            "text/plain": "          id                                title  \\\n4495    3386                 Общая электротехника   \n33164  15940  Искусственный интеллект в искусстве   \n11206   7258                  Методы криптографии   \n\n                                                raw_text  \\\n4495   В курсе рассмотрены основные положения теории ...   \n33164  Курс посвящен теоретическому осмыслению искусс...   \n11206  Данный курс познакомит слушателей с основами к...   \n\n                                          processed_text  \n4495   курс рассмотреть основной положение теория эле...  \n33164  курс посвятить теоретический осмысление искусс...  \n11206  данный курс познакомить слушатель основа крипт...  ",
            "text/html": "<div>\n<style scoped>\n    .dataframe tbody tr th:only-of-type {\n        vertical-align: middle;\n    }\n\n    .dataframe tbody tr th {\n        vertical-align: top;\n    }\n\n    .dataframe thead th {\n        text-align: right;\n    }\n</style>\n<table border=\"1\" class=\"dataframe\">\n  <thead>\n    <tr style=\"text-align: right;\">\n      <th></th>\n      <th>id</th>\n      <th>title</th>\n      <th>raw_text</th>\n      <th>processed_text</th>\n    </tr>\n  </thead>\n  <tbody>\n    <tr>\n      <th>4495</th>\n      <td>3386</td>\n      <td>Общая электротехника</td>\n      <td>В курсе рассмотрены основные положения теории ...</td>\n      <td>курс рассмотреть основной положение теория эле...</td>\n    </tr>\n    <tr>\n      <th>33164</th>\n      <td>15940</td>\n      <td>Искусственный интеллект в искусстве</td>\n      <td>Курс посвящен теоретическому осмыслению искусс...</td>\n      <td>курс посвятить теоретический осмысление искусс...</td>\n    </tr>\n    <tr>\n      <th>11206</th>\n      <td>7258</td>\n      <td>Методы криптографии</td>\n      <td>Данный курс познакомит слушателей с основами к...</td>\n      <td>данный курс познакомить слушатель основа крипт...</td>\n    </tr>\n  </tbody>\n</table>\n</div>"
          },
          "metadata": {},
          "output_type": "display_data"
        }
      ],
      "source": [
        "print(f\"Объём датасета: {discipline_data_original.shape[0]}\")\n",
        "display(discipline_data_original.sample(3))"
      ],
      "metadata": {
        "ExecuteTime": {
          "end_time": "2024-03-24T13:46:38.366214600Z",
          "start_time": "2024-03-24T13:46:38.347082900Z"
        },
        "id": "PtU-cgEKERpN",
        "outputId": "e85e8e18-d11a-433a-ab91-15b1c73c002f"
      },
      "execution_count": null
    },
    {
      "cell_type": "code",
      "outputs": [],
      "source": [
        "discipline_data_original.drop_duplicates(subset=[\"title\", \"processed_text\"], inplace=True)"
      ],
      "metadata": {
        "ExecuteTime": {
          "end_time": "2024-03-24T13:48:36.514705800Z",
          "start_time": "2024-03-24T13:48:36.447977800Z"
        },
        "id": "e14B-WNaERpN"
      },
      "execution_count": null
    },
    {
      "cell_type": "code",
      "outputs": [
        {
          "data": {
            "text/plain": "(6137, 4)"
          },
          "execution_count": 10,
          "metadata": {},
          "output_type": "execute_result"
        }
      ],
      "source": [
        "discipline_data_original.shape"
      ],
      "metadata": {
        "ExecuteTime": {
          "end_time": "2024-03-24T13:48:37.061446200Z",
          "start_time": "2024-03-24T13:48:37.051978Z"
        },
        "id": "t-s8Go0YERpN",
        "outputId": "25dd3f24-3348-4b01-9485-a90054d2deae"
      },
      "execution_count": null
    },
    {
      "cell_type": "code",
      "outputs": [],
      "source": [
        "discipline_data_original = discipline_data_original[[\"id\", \"raw_text\"]]"
      ],
      "metadata": {
        "ExecuteTime": {
          "end_time": "2024-03-24T13:49:09.637731Z",
          "start_time": "2024-03-24T13:49:09.613818800Z"
        },
        "id": "oUizA8oQERpN"
      },
      "execution_count": null
    },
    {
      "cell_type": "code",
      "outputs": [
        {
          "name": "stdout",
          "output_type": "stream",
          "text": [
            "Объём датасета: 6137\n"
          ]
        },
        {
          "data": {
            "text/plain": "         id                                              title  \\\n2772  13430  Методы исследования бизнес-информационных сист...   \n1859  10939                           Компьютерная лингвистика   \n5211  20419                               Web программирование   \n\n                                         processed_text  \\\n2772  рамка изучение второй часть дисциплина рассмат...   \n1859  курс рассмотреть основной понятие компьютерный...   \n5211  изучение данный курс студент изучить язык прог...   \n\n                                         tokenized_text  \n2772  ['рамка', 'изучение', 'второй', 'часть', 'дисц...  \n1859  ['курс', 'рассмотреть', 'основной', 'понятие',...  \n5211  ['изучение', 'данный', 'курс', 'студент', 'изу...  ",
            "text/html": "<div>\n<style scoped>\n    .dataframe tbody tr th:only-of-type {\n        vertical-align: middle;\n    }\n\n    .dataframe tbody tr th {\n        vertical-align: top;\n    }\n\n    .dataframe thead th {\n        text-align: right;\n    }\n</style>\n<table border=\"1\" class=\"dataframe\">\n  <thead>\n    <tr style=\"text-align: right;\">\n      <th></th>\n      <th>id</th>\n      <th>title</th>\n      <th>processed_text</th>\n      <th>tokenized_text</th>\n    </tr>\n  </thead>\n  <tbody>\n    <tr>\n      <th>2772</th>\n      <td>13430</td>\n      <td>Методы исследования бизнес-информационных сист...</td>\n      <td>рамка изучение второй часть дисциплина рассмат...</td>\n      <td>['рамка', 'изучение', 'второй', 'часть', 'дисц...</td>\n    </tr>\n    <tr>\n      <th>1859</th>\n      <td>10939</td>\n      <td>Компьютерная лингвистика</td>\n      <td>курс рассмотреть основной понятие компьютерный...</td>\n      <td>['курс', 'рассмотреть', 'основной', 'понятие',...</td>\n    </tr>\n    <tr>\n      <th>5211</th>\n      <td>20419</td>\n      <td>Web программирование</td>\n      <td>изучение данный курс студент изучить язык прог...</td>\n      <td>['изучение', 'данный', 'курс', 'студент', 'изу...</td>\n    </tr>\n  </tbody>\n</table>\n</div>"
          },
          "metadata": {},
          "output_type": "display_data"
        }
      ],
      "source": [
        "discipline_data = pd.read_csv(\"../data/discipline_data_processed_6100.csv\", sep=\";\", encoding=\"utf-8\")\n",
        "print(f\"Объём датасета: {discipline_data.shape[0]}\")\n",
        "display(discipline_data.sample(3))"
      ],
      "metadata": {
        "ExecuteTime": {
          "end_time": "2024-03-24T13:48:45.893126700Z",
          "start_time": "2024-03-24T13:48:45.632936600Z"
        },
        "id": "PJfmMChSERpN",
        "outputId": "43460b0f-268b-4821-d9a0-880f6efc4bac"
      },
      "execution_count": null
    },
    {
      "cell_type": "code",
      "outputs": [
        {
          "name": "stdout",
          "output_type": "stream",
          "text": [
            "Объём датасета: 6137\n"
          ]
        },
        {
          "data": {
            "text/plain": "         id                                              title  \\\n5943  24516  Цифровая трансформация высокотехнологичных про...   \n2655  13161                   Инновационные технологии бизнеса   \n3310  15184               Проектирование информационных систем   \n\n                                         processed_text  \\\n5943  рамка дисциплина слушатель познакомиться актуа...   \n2655  курс инновационный технология бизнес направить...   \n3310  цель изучение данный дисциплина являться теоре...   \n\n                                         tokenized_text  \\\n5943  ['рамка', 'дисциплина', 'слушатель', 'познаком...   \n2655  ['курс', 'инновационный', 'технология', 'бизне...   \n3310  ['цель', 'изучение', 'данный', 'дисциплина', '...   \n\n                                               raw_text  \n5943  В рамках дисциплины слушатели познакомятся с а...  \n2655  Курс \"Инновационные технологии бизнеса\" направ...  \n3310  Целью изучения данной дисциплины является теор...  ",
            "text/html": "<div>\n<style scoped>\n    .dataframe tbody tr th:only-of-type {\n        vertical-align: middle;\n    }\n\n    .dataframe tbody tr th {\n        vertical-align: top;\n    }\n\n    .dataframe thead th {\n        text-align: right;\n    }\n</style>\n<table border=\"1\" class=\"dataframe\">\n  <thead>\n    <tr style=\"text-align: right;\">\n      <th></th>\n      <th>id</th>\n      <th>title</th>\n      <th>processed_text</th>\n      <th>tokenized_text</th>\n      <th>raw_text</th>\n    </tr>\n  </thead>\n  <tbody>\n    <tr>\n      <th>5943</th>\n      <td>24516</td>\n      <td>Цифровая трансформация высокотехнологичных про...</td>\n      <td>рамка дисциплина слушатель познакомиться актуа...</td>\n      <td>['рамка', 'дисциплина', 'слушатель', 'познаком...</td>\n      <td>В рамках дисциплины слушатели познакомятся с а...</td>\n    </tr>\n    <tr>\n      <th>2655</th>\n      <td>13161</td>\n      <td>Инновационные технологии бизнеса</td>\n      <td>курс инновационный технология бизнес направить...</td>\n      <td>['курс', 'инновационный', 'технология', 'бизне...</td>\n      <td>Курс \"Инновационные технологии бизнеса\" направ...</td>\n    </tr>\n    <tr>\n      <th>3310</th>\n      <td>15184</td>\n      <td>Проектирование информационных систем</td>\n      <td>цель изучение данный дисциплина являться теоре...</td>\n      <td>['цель', 'изучение', 'данный', 'дисциплина', '...</td>\n      <td>Целью изучения данной дисциплины является теор...</td>\n    </tr>\n  </tbody>\n</table>\n</div>"
          },
          "metadata": {},
          "output_type": "display_data"
        }
      ],
      "source": [
        "discipline_data = pd.merge(discipline_data, discipline_data_original, on=\"id\")\n",
        "print(f\"Объём датасета: {discipline_data.shape[0]}\")\n",
        "display(discipline_data.sample(3))"
      ],
      "metadata": {
        "ExecuteTime": {
          "end_time": "2024-03-24T13:49:17.542113300Z",
          "start_time": "2024-03-24T13:49:17.508169300Z"
        },
        "id": "uJRsGQy0ERpN",
        "outputId": "23f2e9cc-8e7b-4e4b-f919-662e60dc16c2"
      },
      "execution_count": null
    },
    {
      "cell_type": "markdown",
      "source": [
        "**Выполним минимальную предобработку текстов для transformer модели**\n",
        "\n",
        "Из обычного pipeline уберём лемматизацию и стоп-слова, трансформер отлично работает с такими текстами."
      ],
      "metadata": {
        "collapsed": false,
        "id": "nJH1adQuERpN"
      }
    },
    {
      "cell_type": "code",
      "outputs": [],
      "source": [
        "from ml_data_engine import DataProcessor, YAMLConfigParser"
      ],
      "metadata": {
        "ExecuteTime": {
          "end_time": "2024-03-24T13:51:59.761754100Z",
          "start_time": "2024-03-24T13:51:50.312749500Z"
        },
        "id": "3vzJSiROERpN"
      },
      "execution_count": null
    },
    {
      "cell_type": "code",
      "outputs": [],
      "source": [
        "dp = DataProcessor(YAMLConfigParser(\"../configs/preprocessing_transformer.yaml\"))"
      ],
      "metadata": {
        "ExecuteTime": {
          "end_time": "2024-03-24T13:52:23.173644400Z",
          "start_time": "2024-03-24T13:52:23.158270100Z"
        },
        "id": "6cu2MoDAERpN"
      },
      "execution_count": null
    },
    {
      "cell_type": "code",
      "outputs": [
        {
          "data": {
            "text/plain": "         id                                       title  \\\n300    3377                                      Физика   \n6683  23051  Управление интеллектуальной собственностью   \n5448  19876                             Системы локации   \n\n                                         processed_text  \\\n300   физик курс общий физика предназначить бакалавр...   \n6683  управление интеллектуальный собственность дисц...   \n5448  система локация курс посвятить система локация...   \n\n                                        author_entities  \\\n300   ['Ядерная физика', 'Электричество', 'Магнетизм...   \n6683  ['Экономика интеллектуальной собственности', '...   \n5448  ['Системы автоматического управления технологи...   \n\n                                         tokenized_text  \\\n300   ['физик', 'курс', 'общий', 'физика', 'предназн...   \n6683  ['управление', 'интеллектуальный', 'собственно...   \n5448  ['система', 'локация', 'курс', 'посвятить', 'с...   \n\n                                               raw_text  \\\n300   Физика. Курс  общей физики предназначен для  б...   \n6683  Управление интеллектуальной собственностью. Ди...   \n5448  Системы локации. Курс посвящен система локации...   \n\n                                       transformer_text  \n300   физика курс общей физики предназначен для бака...  \n6683  управление интеллектуальной собственностью дис...  \n5448  системы локации курс посвящен система локации ...  ",
            "text/html": "<div>\n<style scoped>\n    .dataframe tbody tr th:only-of-type {\n        vertical-align: middle;\n    }\n\n    .dataframe tbody tr th {\n        vertical-align: top;\n    }\n\n    .dataframe thead th {\n        text-align: right;\n    }\n</style>\n<table border=\"1\" class=\"dataframe\">\n  <thead>\n    <tr style=\"text-align: right;\">\n      <th></th>\n      <th>id</th>\n      <th>title</th>\n      <th>processed_text</th>\n      <th>author_entities</th>\n      <th>tokenized_text</th>\n      <th>raw_text</th>\n      <th>transformer_text</th>\n    </tr>\n  </thead>\n  <tbody>\n    <tr>\n      <th>300</th>\n      <td>3377</td>\n      <td>Физика</td>\n      <td>физик курс общий физика предназначить бакалавр...</td>\n      <td>['Ядерная физика', 'Электричество', 'Магнетизм...</td>\n      <td>['физик', 'курс', 'общий', 'физика', 'предназн...</td>\n      <td>Физика. Курс  общей физики предназначен для  б...</td>\n      <td>физика курс общей физики предназначен для бака...</td>\n    </tr>\n    <tr>\n      <th>6683</th>\n      <td>23051</td>\n      <td>Управление интеллектуальной собственностью</td>\n      <td>управление интеллектуальный собственность дисц...</td>\n      <td>['Экономика интеллектуальной собственности', '...</td>\n      <td>['управление', 'интеллектуальный', 'собственно...</td>\n      <td>Управление интеллектуальной собственностью. Ди...</td>\n      <td>управление интеллектуальной собственностью дис...</td>\n    </tr>\n    <tr>\n      <th>5448</th>\n      <td>19876</td>\n      <td>Системы локации</td>\n      <td>система локация курс посвятить система локация...</td>\n      <td>['Системы автоматического управления технологи...</td>\n      <td>['система', 'локация', 'курс', 'посвятить', 'с...</td>\n      <td>Системы локации. Курс посвящен система локации...</td>\n      <td>системы локации курс посвящен система локации ...</td>\n    </tr>\n  </tbody>\n</table>\n</div>"
          },
          "execution_count": 22,
          "metadata": {},
          "output_type": "execute_result"
        }
      ],
      "source": [
        "discipline_entities[\"transformer_text\"] = discipline_entities.raw_text.apply(dp.process_single_text)\n",
        "discipline_entities.sample(3)"
      ],
      "metadata": {
        "ExecuteTime": {
          "end_time": "2024-03-24T13:54:23.883294200Z",
          "start_time": "2024-03-24T13:54:23.010381100Z"
        },
        "id": "hf_vvfIEERpN",
        "outputId": "980bb046-c8e9-40d2-86b9-352d63ea33a9"
      },
      "execution_count": null
    },
    {
      "cell_type": "code",
      "outputs": [],
      "source": [
        "discipline_entities.to_csv(\"../data/discipline_entities_to_augment_7200.csv\", encoding=\"utf-8\", sep=\";\")"
      ],
      "metadata": {
        "ExecuteTime": {
          "end_time": "2024-03-24T13:55:37.819151700Z",
          "start_time": "2024-03-24T13:55:36.668655900Z"
        },
        "id": "EdLCvz1oERpO"
      },
      "execution_count": null
    },
    {
      "cell_type": "code",
      "outputs": [
        {
          "data": {
            "text/plain": "         id                                              title  \\\n5539  21256                                  Маркетинг смыслов   \n2305  12439                 Физика термоэлектрических приборов   \n1198   5949  Квантовая теория многих тел / Many Body Quantu...   \n\n                                         processed_text  \\\n5539  смысл это важный транслировать бренд человек о...   \n2305  цель дисциплина служить ознакомление студент о...   \n1198  the course presents the modern methods of many...   \n\n                                         tokenized_text  \\\n5539  ['смысл', 'это', 'важный', 'транслировать', 'б...   \n2305  ['цель', 'дисциплина', 'служить', 'ознакомлени...   \n1198  ['the', 'course', 'presents', 'the', 'modern',...   \n\n                                               raw_text  \\\n5539  Смыслы — это то, что важно транслировать не то...   \n2305  Целью дисциплины служит ознакомление студентов...   \n1198  The course presents the modern methods of many...   \n\n                                       transformer_text  \n5539  смыслы это то что важно транслировать не тольк...  \n2305  целью дисциплины служит ознакомление студентов...  \n1198  the course presents the modern methods of many...  ",
            "text/html": "<div>\n<style scoped>\n    .dataframe tbody tr th:only-of-type {\n        vertical-align: middle;\n    }\n\n    .dataframe tbody tr th {\n        vertical-align: top;\n    }\n\n    .dataframe thead th {\n        text-align: right;\n    }\n</style>\n<table border=\"1\" class=\"dataframe\">\n  <thead>\n    <tr style=\"text-align: right;\">\n      <th></th>\n      <th>id</th>\n      <th>title</th>\n      <th>processed_text</th>\n      <th>tokenized_text</th>\n      <th>raw_text</th>\n      <th>transformer_text</th>\n    </tr>\n  </thead>\n  <tbody>\n    <tr>\n      <th>5539</th>\n      <td>21256</td>\n      <td>Маркетинг смыслов</td>\n      <td>смысл это важный транслировать бренд человек о...</td>\n      <td>['смысл', 'это', 'важный', 'транслировать', 'б...</td>\n      <td>Смыслы — это то, что важно транслировать не то...</td>\n      <td>смыслы это то что важно транслировать не тольк...</td>\n    </tr>\n    <tr>\n      <th>2305</th>\n      <td>12439</td>\n      <td>Физика термоэлектрических приборов</td>\n      <td>цель дисциплина служить ознакомление студент о...</td>\n      <td>['цель', 'дисциплина', 'служить', 'ознакомлени...</td>\n      <td>Целью дисциплины служит ознакомление студентов...</td>\n      <td>целью дисциплины служит ознакомление студентов...</td>\n    </tr>\n    <tr>\n      <th>1198</th>\n      <td>5949</td>\n      <td>Квантовая теория многих тел / Many Body Quantu...</td>\n      <td>the course presents the modern methods of many...</td>\n      <td>['the', 'course', 'presents', 'the', 'modern',...</td>\n      <td>The course presents the modern methods of many...</td>\n      <td>the course presents the modern methods of many...</td>\n    </tr>\n  </tbody>\n</table>\n</div>"
          },
          "execution_count": 23,
          "metadata": {},
          "output_type": "execute_result"
        }
      ],
      "source": [
        "discipline_data[\"transformer_text\"] = discipline_data.raw_text.apply(dp.process_single_text)\n",
        "discipline_data.sample(3)"
      ],
      "metadata": {
        "ExecuteTime": {
          "end_time": "2024-03-24T13:54:34.303220600Z",
          "start_time": "2024-03-24T13:54:33.545590900Z"
        },
        "id": "bG8kMYfxERpO",
        "outputId": "564c5841-a382-4cc0-d096-126674417f41"
      },
      "execution_count": null
    },
    {
      "cell_type": "code",
      "outputs": [],
      "source": [
        "discipline_data.to_csv(\"../data/discipline_data_to_augment_7200.csv\", encoding=\"utf-8\", sep=\";\")"
      ],
      "metadata": {
        "ExecuteTime": {
          "end_time": "2024-03-24T13:55:49.752534800Z",
          "start_time": "2024-03-24T13:55:48.767152100Z"
        },
        "id": "rxjS95k4ERpO"
      },
      "execution_count": null
    },
    {
      "cell_type": "markdown",
      "source": [
        "**Используем аугментацию**\n",
        "\n",
        "Попробуем сделать так, чтобы каждый из классов содержал хотя бы по 5 примеров."
      ],
      "metadata": {
        "collapsed": false,
        "id": "j4tc4rReERpO"
      }
    },
    {
      "cell_type": "code",
      "outputs": [],
      "source": [
        "AUG_MODEL = \"DeepPavlov/distilrubert-small-cased-conversational\"\n",
        "TARGET_SAMPLES_COUNT = 5\n",
        "\n",
        "aug = naw.ContextualWordEmbsAug(model_path=AUG_MODEL, device=\"cuda\")"
      ],
      "metadata": {
        "ExecuteTime": {
          "end_time": "2024-03-24T14:15:14.920839200Z",
          "start_time": "2024-03-24T14:15:13.731444300Z"
        },
        "id": "rDdx3HDLERpO"
      },
      "execution_count": null
    },
    {
      "cell_type": "code",
      "outputs": [
        {
          "data": {
            "text/plain": "  0%|          | 0/4446 [00:00<?, ?it/s]",
            "application/vnd.jupyter.widget-view+json": {
              "version_major": 2,
              "version_minor": 0,
              "model_id": "5421f370efee4dc89fce6b181a902686"
            }
          },
          "metadata": {},
          "output_type": "display_data"
        }
      ],
      "source": [
        "augmented_discipline_entities = discipline_entities.copy()\n",
        "\n",
        "for title in tqdm(discipline_entities.title.unique()):\n",
        "    class_samples = discipline_entities[discipline_entities.title == title]\n",
        "    texts_to_aug = class_samples.transformer_text.to_list()\n",
        "    required_samples_count = TARGET_SAMPLES_COUNT - len(texts_to_aug)\n",
        "    if required_samples_count <= 0:\n",
        "        continue\n",
        "\n",
        "    required_sample_from_each = ceil(required_samples_count / len(texts_to_aug))\n",
        "    augmented_samples = []\n",
        "    for text in texts_to_aug:\n",
        "        augmented_samples.extend(aug.augment(text, n=required_sample_from_each))\n",
        "\n",
        "    augmented_df = pd.DataFrame({\n",
        "        \"title\": [title] * required_samples_count,\n",
        "        \"processed_text\": augmented_samples[:required_samples_count]\n",
        "    })\n",
        "    augmented_discipline_entities = pd.concat([augmented_discipline_entities, augmented_df])"
      ],
      "metadata": {
        "ExecuteTime": {
          "end_time": "2024-03-24T14:59:32.540101900Z",
          "start_time": "2024-03-24T14:22:01.350933600Z"
        },
        "colab": {
          "referenced_widgets": [
            "5421f370efee4dc89fce6b181a902686"
          ]
        },
        "id": "j5TR8hAKERpO",
        "outputId": "421b7032-7db0-4774-c709-d2fe2b9056ac"
      },
      "execution_count": null
    },
    {
      "cell_type": "code",
      "outputs": [
        {
          "name": "stdout",
          "output_type": "stream",
          "text": [
            "22619\n"
          ]
        },
        {
          "data": {
            "text/plain": "           id                                              title  \\\n0         NaN          Прием и регистрация оптического излучения   \n5350  19748.0                Прикладные интеллектуальные системы   \n0         NaN  Технологии разработки виртуальных лабораторий ...   \n\n                                         processed_text  \\\n0     прием и регистрация оптического излучения цель...   \n5350  прикладной интеллектуальный система ход изучен...   \n0     технологии создания виртуальных лабораторий и ...   \n\n                                        author_entities  \\\n0                                                   NaN   \n5350  ['Прикладные интеллектуальные системы', 'Предс...   \n0                                                   NaN   \n\n                                         tokenized_text  \\\n0                                                   NaN   \n5350  ['прикладной', 'интеллектуальный', 'система', ...   \n0                                                   NaN   \n\n                                               raw_text  \\\n0                                                   NaN   \n5350  Прикладные интеллектуальные системы. В ходе из...   \n0                                                   NaN   \n\n                                       transformer_text  \n0                                                   NaN  \n5350  прикладные интеллектуальные системы в ходе изу...  \n0                                                   NaN  ",
            "text/html": "<div>\n<style scoped>\n    .dataframe tbody tr th:only-of-type {\n        vertical-align: middle;\n    }\n\n    .dataframe tbody tr th {\n        vertical-align: top;\n    }\n\n    .dataframe thead th {\n        text-align: right;\n    }\n</style>\n<table border=\"1\" class=\"dataframe\">\n  <thead>\n    <tr style=\"text-align: right;\">\n      <th></th>\n      <th>id</th>\n      <th>title</th>\n      <th>processed_text</th>\n      <th>author_entities</th>\n      <th>tokenized_text</th>\n      <th>raw_text</th>\n      <th>transformer_text</th>\n    </tr>\n  </thead>\n  <tbody>\n    <tr>\n      <th>0</th>\n      <td>NaN</td>\n      <td>Прием и регистрация оптического излучения</td>\n      <td>прием и регистрация оптического излучения цель...</td>\n      <td>NaN</td>\n      <td>NaN</td>\n      <td>NaN</td>\n      <td>NaN</td>\n    </tr>\n    <tr>\n      <th>5350</th>\n      <td>19748.0</td>\n      <td>Прикладные интеллектуальные системы</td>\n      <td>прикладной интеллектуальный система ход изучен...</td>\n      <td>['Прикладные интеллектуальные системы', 'Предс...</td>\n      <td>['прикладной', 'интеллектуальный', 'система', ...</td>\n      <td>Прикладные интеллектуальные системы. В ходе из...</td>\n      <td>прикладные интеллектуальные системы в ходе изу...</td>\n    </tr>\n    <tr>\n      <th>0</th>\n      <td>NaN</td>\n      <td>Технологии разработки виртуальных лабораторий ...</td>\n      <td>технологии создания виртуальных лабораторий и ...</td>\n      <td>NaN</td>\n      <td>NaN</td>\n      <td>NaN</td>\n      <td>NaN</td>\n    </tr>\n  </tbody>\n</table>\n</div>"
          },
          "metadata": {},
          "output_type": "display_data"
        }
      ],
      "source": [
        "print(augmented_discipline_entities.shape[0])\n",
        "display(augmented_discipline_entities.sample(3))"
      ],
      "metadata": {
        "ExecuteTime": {
          "end_time": "2024-03-24T15:01:59.798370800Z",
          "start_time": "2024-03-24T15:01:59.790132600Z"
        },
        "id": "Zb7uCmEuERpO",
        "outputId": "d306afa9-cf79-455b-c578-c8b801c8db13"
      },
      "execution_count": null
    },
    {
      "cell_type": "code",
      "outputs": [],
      "source": [
        "augmented_discipline_entities.to_csv(\"../data/discipline_entities_augmented_22600.csv\", encoding=\"utf-8\", sep=\";\")"
      ],
      "metadata": {
        "ExecuteTime": {
          "end_time": "2024-03-24T15:02:34.070546100Z",
          "start_time": "2024-03-24T15:02:31.989648100Z"
        },
        "id": "gIamYxYKERpO"
      },
      "execution_count": null
    },
    {
      "cell_type": "code",
      "outputs": [
        {
          "data": {
            "text/plain": "  0%|          | 0/4063 [00:00<?, ?it/s]",
            "application/vnd.jupyter.widget-view+json": {
              "version_major": 2,
              "version_minor": 0,
              "model_id": "f509ed2cc1784ec59f997bf3b9b5258e"
            }
          },
          "metadata": {},
          "output_type": "display_data"
        }
      ],
      "source": [
        "augmented_discipline_data = discipline_data.copy()\n",
        "\n",
        "for title in tqdm(discipline_data.title.unique()):\n",
        "    class_samples = discipline_data[discipline_data.title == title]\n",
        "    texts_to_aug = class_samples.transformer_text.to_list()\n",
        "    required_samples_count = TARGET_SAMPLES_COUNT - len(texts_to_aug)\n",
        "    if required_samples_count <= 0:\n",
        "        continue\n",
        "\n",
        "    required_sample_from_each = ceil(required_samples_count / len(texts_to_aug))\n",
        "    augmented_samples = []\n",
        "    for text in texts_to_aug:\n",
        "        augmented_samples.extend(aug.augment(text, n=required_sample_from_each))\n",
        "\n",
        "    augmented_df = pd.DataFrame({\n",
        "        \"title\": [title] * required_samples_count,\n",
        "        \"processed_text\": augmented_samples[:required_samples_count]\n",
        "    })\n",
        "    augmented_discipline_data = pd.concat([augmented_discipline_data, augmented_df])"
      ],
      "metadata": {
        "ExecuteTime": {
          "end_time": "2024-03-24T15:37:03.406105400Z",
          "start_time": "2024-03-24T15:03:26.014709400Z"
        },
        "colab": {
          "referenced_widgets": [
            "f509ed2cc1784ec59f997bf3b9b5258e"
          ]
        },
        "id": "9gdLjxrTERpO",
        "outputId": "09a918c2-9d43-40aa-84c6-23fb096dd543"
      },
      "execution_count": null
    },
    {
      "cell_type": "code",
      "outputs": [
        {
          "data": {
            "text/plain": "(37052, 7)"
          },
          "execution_count": 48,
          "metadata": {},
          "output_type": "execute_result"
        }
      ],
      "source": [
        "augmented_discipline_entities.shape"
      ],
      "metadata": {
        "ExecuteTime": {
          "end_time": "2024-03-24T15:40:18.108362800Z",
          "start_time": "2024-03-24T15:40:18.090772500Z"
        },
        "id": "a6KusEQgERpO",
        "outputId": "17612ea4-1c70-490f-e28a-560cda740646"
      },
      "execution_count": null
    },
    {
      "cell_type": "code",
      "outputs": [
        {
          "data": {
            "text/plain": "   id                                            title  \\\n0 NaN                                        Философия   \n1 NaN                                        Философия   \n0 NaN  Введение в цифровую культуру и программирование   \n1 NaN  Введение в цифровую культуру и программирование   \n2 NaN  Введение в цифровую культуру и программирование   \n\n                                      processed_text author_entities  \\\n0  курс философия даёт целостное знание о специфи...             NaN   \n1  курс философия даёт целостное пособие о специф...             NaN   \n0  курс введение в цифровую культуру и программир...             NaN   \n1  курс введение в цифровую культуру и технологии...             NaN   \n2  сегодня ученые по цифровой культуре необходимы...             NaN   \n\n  tokenized_text raw_text transformer_text  \n0            NaN      NaN              NaN  \n1            NaN      NaN              NaN  \n0            NaN      NaN              NaN  \n1            NaN      NaN              NaN  \n2            NaN      NaN              NaN  ",
            "text/html": "<div>\n<style scoped>\n    .dataframe tbody tr th:only-of-type {\n        vertical-align: middle;\n    }\n\n    .dataframe tbody tr th {\n        vertical-align: top;\n    }\n\n    .dataframe thead th {\n        text-align: right;\n    }\n</style>\n<table border=\"1\" class=\"dataframe\">\n  <thead>\n    <tr style=\"text-align: right;\">\n      <th></th>\n      <th>id</th>\n      <th>title</th>\n      <th>processed_text</th>\n      <th>author_entities</th>\n      <th>tokenized_text</th>\n      <th>raw_text</th>\n      <th>transformer_text</th>\n    </tr>\n  </thead>\n  <tbody>\n    <tr>\n      <th>0</th>\n      <td>NaN</td>\n      <td>Философия</td>\n      <td>курс философия даёт целостное знание о специфи...</td>\n      <td>NaN</td>\n      <td>NaN</td>\n      <td>NaN</td>\n      <td>NaN</td>\n    </tr>\n    <tr>\n      <th>1</th>\n      <td>NaN</td>\n      <td>Философия</td>\n      <td>курс философия даёт целостное пособие о специф...</td>\n      <td>NaN</td>\n      <td>NaN</td>\n      <td>NaN</td>\n      <td>NaN</td>\n    </tr>\n    <tr>\n      <th>0</th>\n      <td>NaN</td>\n      <td>Введение в цифровую культуру и программирование</td>\n      <td>курс введение в цифровую культуру и программир...</td>\n      <td>NaN</td>\n      <td>NaN</td>\n      <td>NaN</td>\n      <td>NaN</td>\n    </tr>\n    <tr>\n      <th>1</th>\n      <td>NaN</td>\n      <td>Введение в цифровую культуру и программирование</td>\n      <td>курс введение в цифровую культуру и технологии...</td>\n      <td>NaN</td>\n      <td>NaN</td>\n      <td>NaN</td>\n      <td>NaN</td>\n    </tr>\n    <tr>\n      <th>2</th>\n      <td>NaN</td>\n      <td>Введение в цифровую культуру и программирование</td>\n      <td>сегодня ученые по цифровой культуре необходимы...</td>\n      <td>NaN</td>\n      <td>NaN</td>\n      <td>NaN</td>\n      <td>NaN</td>\n    </tr>\n  </tbody>\n</table>\n</div>"
          },
          "execution_count": 52,
          "metadata": {},
          "output_type": "execute_result"
        }
      ],
      "source": [
        "augmented_discipline_data = augmented_discipline_entities.iloc[22619:]\n",
        "augmented_discipline_data.head(5)"
      ],
      "metadata": {
        "ExecuteTime": {
          "end_time": "2024-03-24T15:41:30.280830100Z",
          "start_time": "2024-03-24T15:41:30.266646300Z"
        },
        "id": "TGgpl5hDERpO",
        "outputId": "ea076156-1b75-45d2-8948-a80d53681b31"
      },
      "execution_count": null
    },
    {
      "cell_type": "code",
      "outputs": [],
      "source": [
        "augmented_discipline_data = pd.concat([augmented_discipline_data, discipline_data])"
      ],
      "metadata": {
        "ExecuteTime": {
          "end_time": "2024-03-24T15:43:26.428851600Z",
          "start_time": "2024-03-24T15:43:26.393559200Z"
        },
        "id": "A0bpd-WLERpO"
      },
      "execution_count": null
    },
    {
      "cell_type": "code",
      "outputs": [
        {
          "name": "stdout",
          "output_type": "stream",
          "text": [
            "20570\n"
          ]
        },
        {
          "data": {
            "text/plain": "   id                                            title  \\\n0 NaN  Культурная институция в истории и современности   \n2 NaN                         Введение в микробиологию   \n1 NaN      Проектирование средств измерений и контроля   \n\n                                      processed_text author_entities  \\\n0  культурная институция в истории истории соврем...             NaN   \n2  цель изучения дисциплины состоит в формировани...             NaN   \n1  проектирование средств измерений и контроля ди...             NaN   \n\n  tokenized_text raw_text transformer_text  \n0            NaN      NaN              NaN  \n2            NaN      NaN              NaN  \n1            NaN      NaN              NaN  ",
            "text/html": "<div>\n<style scoped>\n    .dataframe tbody tr th:only-of-type {\n        vertical-align: middle;\n    }\n\n    .dataframe tbody tr th {\n        vertical-align: top;\n    }\n\n    .dataframe thead th {\n        text-align: right;\n    }\n</style>\n<table border=\"1\" class=\"dataframe\">\n  <thead>\n    <tr style=\"text-align: right;\">\n      <th></th>\n      <th>id</th>\n      <th>title</th>\n      <th>processed_text</th>\n      <th>author_entities</th>\n      <th>tokenized_text</th>\n      <th>raw_text</th>\n      <th>transformer_text</th>\n    </tr>\n  </thead>\n  <tbody>\n    <tr>\n      <th>0</th>\n      <td>NaN</td>\n      <td>Культурная институция в истории и современности</td>\n      <td>культурная институция в истории истории соврем...</td>\n      <td>NaN</td>\n      <td>NaN</td>\n      <td>NaN</td>\n      <td>NaN</td>\n    </tr>\n    <tr>\n      <th>2</th>\n      <td>NaN</td>\n      <td>Введение в микробиологию</td>\n      <td>цель изучения дисциплины состоит в формировани...</td>\n      <td>NaN</td>\n      <td>NaN</td>\n      <td>NaN</td>\n      <td>NaN</td>\n    </tr>\n    <tr>\n      <th>1</th>\n      <td>NaN</td>\n      <td>Проектирование средств измерений и контроля</td>\n      <td>проектирование средств измерений и контроля ди...</td>\n      <td>NaN</td>\n      <td>NaN</td>\n      <td>NaN</td>\n      <td>NaN</td>\n    </tr>\n  </tbody>\n</table>\n</div>"
          },
          "metadata": {},
          "output_type": "display_data"
        }
      ],
      "source": [
        "print(augmented_discipline_data.shape[0])\n",
        "display(augmented_discipline_entities.sample(3))"
      ],
      "metadata": {
        "ExecuteTime": {
          "end_time": "2024-03-24T15:43:28.802490800Z",
          "start_time": "2024-03-24T15:43:28.791898Z"
        },
        "id": "ygaR8RQHERpP",
        "outputId": "529ee8e4-a8ff-44b8-b09d-d4207ad83f93"
      },
      "execution_count": null
    },
    {
      "cell_type": "code",
      "outputs": [],
      "source": [
        "augmented_discipline_data.to_csv(\"../data/discipline_data_augmented_20500.csv\", encoding=\"utf-8\", sep=\";\", index=False)"
      ],
      "metadata": {
        "ExecuteTime": {
          "end_time": "2024-03-24T15:45:23.640644800Z",
          "start_time": "2024-03-24T15:45:22.020196900Z"
        },
        "id": "de3f0mD6ERpP"
      },
      "execution_count": null
    },
    {
      "cell_type": "markdown",
      "source": [
        "## Этап 3 - Подготовка данных для обучения моделей"
      ],
      "metadata": {
        "collapsed": false,
        "id": "7ELjwRh_ERpP"
      }
    },
    {
      "cell_type": "code",
      "outputs": [],
      "source": [
        "from ml_data_engine import DataProcessor, YAMLConfigParser"
      ],
      "metadata": {
        "ExecuteTime": {
          "end_time": "2024-03-24T15:46:20.060331400Z",
          "start_time": "2024-03-24T15:46:20.042774400Z"
        },
        "id": "XVq20REuERpP"
      },
      "execution_count": null
    },
    {
      "cell_type": "code",
      "outputs": [],
      "source": [
        "dp = DataProcessor(YAMLConfigParser(\"../configs/preprocessing.yaml\"))"
      ],
      "metadata": {
        "ExecuteTime": {
          "end_time": "2024-03-24T15:47:16.618398800Z",
          "start_time": "2024-03-24T15:47:16.104195800Z"
        },
        "id": "5zqgGpBMERpP"
      },
      "execution_count": null
    },
    {
      "cell_type": "code",
      "outputs": [],
      "source": [
        "def preprocess_text(row: pd.Series) -> str:\n",
        "    return dp.process_single_text(row[\"raw_text\"]) if pd.isna(row[\"processed_text\"]) else row[\"processed_text\"]\n",
        "\n",
        "def fill_author_entities(row: pd.Series) -> List[str]:\n",
        "    return [] if pd.isna(row[\"author_entities\"]) else row[\"author_entities\"]"
      ],
      "metadata": {
        "ExecuteTime": {
          "end_time": "2024-03-24T15:53:41.818162400Z",
          "start_time": "2024-03-24T15:53:41.800659700Z"
        },
        "id": "hAttdl0jERpP"
      },
      "execution_count": null
    },
    {
      "cell_type": "markdown",
      "source": [
        "### Discipline Data"
      ],
      "metadata": {
        "collapsed": false,
        "id": "2GUnsZ2YERpP"
      }
    },
    {
      "cell_type": "code",
      "outputs": [
        {
          "name": "stdout",
          "output_type": "stream",
          "text": [
            "20570\n"
          ]
        },
        {
          "data": {
            "text/plain": "            id                         title  \\\n4930       NaN    Пакеты прикладных программ   \n16233  10658.0              Теория колебаний   \n228        NaN  Визуализация и моделирование   \n\n                                          processed_text  author_entities  \\\n4930   современные пакеты прикладных программ для мод...              NaN   \n16233  знание типовой уравнение колебательный система...              NaN   \n228    в ходе изучения дисциплины студенты знакомятся...              NaN   \n\n                                          tokenized_text  \\\n4930                                                 NaN   \n16233  ['знание', 'типовой', 'уравнение', 'колебатель...   \n228                                                  NaN   \n\n                                                raw_text  \\\n4930                                                 NaN   \n16233  Знания: типовые уравнения колебательных систем...   \n228                                                  NaN   \n\n                                        transformer_text  \n4930                                                 NaN  \n16233  знания типовые уравнения колебательных систем ...  \n228                                                  NaN  ",
            "text/html": "<div>\n<style scoped>\n    .dataframe tbody tr th:only-of-type {\n        vertical-align: middle;\n    }\n\n    .dataframe tbody tr th {\n        vertical-align: top;\n    }\n\n    .dataframe thead th {\n        text-align: right;\n    }\n</style>\n<table border=\"1\" class=\"dataframe\">\n  <thead>\n    <tr style=\"text-align: right;\">\n      <th></th>\n      <th>id</th>\n      <th>title</th>\n      <th>processed_text</th>\n      <th>author_entities</th>\n      <th>tokenized_text</th>\n      <th>raw_text</th>\n      <th>transformer_text</th>\n    </tr>\n  </thead>\n  <tbody>\n    <tr>\n      <th>4930</th>\n      <td>NaN</td>\n      <td>Пакеты прикладных программ</td>\n      <td>современные пакеты прикладных программ для мод...</td>\n      <td>NaN</td>\n      <td>NaN</td>\n      <td>NaN</td>\n      <td>NaN</td>\n    </tr>\n    <tr>\n      <th>16233</th>\n      <td>10658.0</td>\n      <td>Теория колебаний</td>\n      <td>знание типовой уравнение колебательный система...</td>\n      <td>NaN</td>\n      <td>['знание', 'типовой', 'уравнение', 'колебатель...</td>\n      <td>Знания: типовые уравнения колебательных систем...</td>\n      <td>знания типовые уравнения колебательных систем ...</td>\n    </tr>\n    <tr>\n      <th>228</th>\n      <td>NaN</td>\n      <td>Визуализация и моделирование</td>\n      <td>в ходе изучения дисциплины студенты знакомятся...</td>\n      <td>NaN</td>\n      <td>NaN</td>\n      <td>NaN</td>\n      <td>NaN</td>\n    </tr>\n  </tbody>\n</table>\n</div>"
          },
          "metadata": {},
          "output_type": "display_data"
        }
      ],
      "source": [
        "discipline_data = pd.read_csv(\"../data/discipline_data_augmented_20500.csv\", encoding=\"utf-8\", sep=\";\")\n",
        "print(discipline_data.shape[0])\n",
        "display(discipline_data.sample(3))"
      ],
      "metadata": {
        "ExecuteTime": {
          "end_time": "2024-03-24T15:49:43.670642200Z",
          "start_time": "2024-03-24T15:49:42.739751900Z"
        },
        "id": "_bxiRQnDERpP",
        "outputId": "b4d2ebeb-5841-41eb-f679-5416ae7dd7fc"
      },
      "execution_count": null
    },
    {
      "cell_type": "code",
      "outputs": [],
      "source": [
        "discipline_data.drop(columns=[\"id\", \"tokenized_text\", \"transformer_text\", \"raw_text\"], inplace=True)"
      ],
      "metadata": {
        "ExecuteTime": {
          "end_time": "2024-03-24T15:51:08.676398900Z",
          "start_time": "2024-03-24T15:51:08.657820700Z"
        },
        "id": "ypkxX1WbERpP"
      },
      "execution_count": null
    },
    {
      "cell_type": "code",
      "outputs": [],
      "source": [
        "discipline_data = dp.process_dataframe_text(discipline_data, [\"processed_text\"])"
      ],
      "metadata": {
        "ExecuteTime": {
          "end_time": "2024-03-24T15:59:00.684524100Z",
          "start_time": "2024-03-24T15:55:54.804631700Z"
        },
        "id": "hOHOCGx1ERpP"
      },
      "execution_count": null
    },
    {
      "cell_type": "code",
      "outputs": [],
      "source": [
        "discipline_data.author_entities = discipline_data.apply(fill_author_entities, axis=1)"
      ],
      "metadata": {
        "ExecuteTime": {
          "end_time": "2024-03-24T16:04:15.389747200Z",
          "start_time": "2024-03-24T16:04:15.344294500Z"
        },
        "id": "vEArZ0ixERpP"
      },
      "execution_count": null
    },
    {
      "cell_type": "code",
      "outputs": [
        {
          "data": {
            "text/plain": "                                             title  \\\n0                                        Философия   \n1                                        Философия   \n2  Введение в цифровую культуру и программирование   \n3  Введение в цифровую культуру и программирование   \n4  Введение в цифровую культуру и программирование   \n\n                                      processed_text author_entities  \n0  курс философия давать целостный знание специфи...              []  \n1  курс философия давать целостный пособие специф...              []  \n2  курс введение цифровой культура программирован...              []  \n3  курс введение цифровой культура технология дав...              []  \n4  сегодня ученый цифровой культура необходимый с...              []  ",
            "text/html": "<div>\n<style scoped>\n    .dataframe tbody tr th:only-of-type {\n        vertical-align: middle;\n    }\n\n    .dataframe tbody tr th {\n        vertical-align: top;\n    }\n\n    .dataframe thead th {\n        text-align: right;\n    }\n</style>\n<table border=\"1\" class=\"dataframe\">\n  <thead>\n    <tr style=\"text-align: right;\">\n      <th></th>\n      <th>title</th>\n      <th>processed_text</th>\n      <th>author_entities</th>\n    </tr>\n  </thead>\n  <tbody>\n    <tr>\n      <th>0</th>\n      <td>Философия</td>\n      <td>курс философия давать целостный знание специфи...</td>\n      <td>[]</td>\n    </tr>\n    <tr>\n      <th>1</th>\n      <td>Философия</td>\n      <td>курс философия давать целостный пособие специф...</td>\n      <td>[]</td>\n    </tr>\n    <tr>\n      <th>2</th>\n      <td>Введение в цифровую культуру и программирование</td>\n      <td>курс введение цифровой культура программирован...</td>\n      <td>[]</td>\n    </tr>\n    <tr>\n      <th>3</th>\n      <td>Введение в цифровую культуру и программирование</td>\n      <td>курс введение цифровой культура технология дав...</td>\n      <td>[]</td>\n    </tr>\n    <tr>\n      <th>4</th>\n      <td>Введение в цифровую культуру и программирование</td>\n      <td>сегодня ученый цифровой культура необходимый с...</td>\n      <td>[]</td>\n    </tr>\n  </tbody>\n</table>\n</div>"
          },
          "execution_count": 79,
          "metadata": {},
          "output_type": "execute_result"
        }
      ],
      "source": [
        "discipline_data.head(5)"
      ],
      "metadata": {
        "ExecuteTime": {
          "end_time": "2024-03-24T16:04:24.560390800Z",
          "start_time": "2024-03-24T16:04:24.543927900Z"
        },
        "id": "zzwXUwNSERpP",
        "outputId": "25875806-8a14-472f-fee7-390e405c3c9d"
      },
      "execution_count": null
    },
    {
      "cell_type": "code",
      "outputs": [],
      "source": [
        "discipline_data.to_csv(\"../data/discipline_data_train_20500.csv\", index=False, sep=\";\", encoding=\"utf-8\")"
      ],
      "metadata": {
        "ExecuteTime": {
          "end_time": "2024-03-24T16:05:13.980508700Z",
          "start_time": "2024-03-24T16:05:13.166973300Z"
        },
        "id": "qTCCj4FOERpP"
      },
      "execution_count": null
    },
    {
      "cell_type": "markdown",
      "source": [
        "### Discipline Entities"
      ],
      "metadata": {
        "collapsed": false,
        "id": "9vU-xqAMERpP"
      }
    },
    {
      "cell_type": "code",
      "outputs": [
        {
          "name": "stdout",
          "output_type": "stream",
          "text": [
            "22619\n"
          ]
        },
        {
          "data": {
            "text/plain": "       Unnamed: 0  id                                             title  \\\n15128           1 NaN             Современные проблемы материаловедения   \n12033           3 NaN  Теоретические основы системы рециклинга биосырья   \n20234           1 NaN                   Этика искусственного интеллекта   \n\n                                          processed_text author_entities  \\\n15128  современные проблемы материаловедения данный к...             NaN   \n12033  теоретические основы системы рециклинга биосыр...             NaN   \n20234  этика искусственного интеллекта искусственный ...             NaN   \n\n      tokenized_text raw_text transformer_text  \n15128            NaN      NaN              NaN  \n12033            NaN      NaN              NaN  \n20234            NaN      NaN              NaN  ",
            "text/html": "<div>\n<style scoped>\n    .dataframe tbody tr th:only-of-type {\n        vertical-align: middle;\n    }\n\n    .dataframe tbody tr th {\n        vertical-align: top;\n    }\n\n    .dataframe thead th {\n        text-align: right;\n    }\n</style>\n<table border=\"1\" class=\"dataframe\">\n  <thead>\n    <tr style=\"text-align: right;\">\n      <th></th>\n      <th>Unnamed: 0</th>\n      <th>id</th>\n      <th>title</th>\n      <th>processed_text</th>\n      <th>author_entities</th>\n      <th>tokenized_text</th>\n      <th>raw_text</th>\n      <th>transformer_text</th>\n    </tr>\n  </thead>\n  <tbody>\n    <tr>\n      <th>15128</th>\n      <td>1</td>\n      <td>NaN</td>\n      <td>Современные проблемы материаловедения</td>\n      <td>современные проблемы материаловедения данный к...</td>\n      <td>NaN</td>\n      <td>NaN</td>\n      <td>NaN</td>\n      <td>NaN</td>\n    </tr>\n    <tr>\n      <th>12033</th>\n      <td>3</td>\n      <td>NaN</td>\n      <td>Теоретические основы системы рециклинга биосырья</td>\n      <td>теоретические основы системы рециклинга биосыр...</td>\n      <td>NaN</td>\n      <td>NaN</td>\n      <td>NaN</td>\n      <td>NaN</td>\n    </tr>\n    <tr>\n      <th>20234</th>\n      <td>1</td>\n      <td>NaN</td>\n      <td>Этика искусственного интеллекта</td>\n      <td>этика искусственного интеллекта искусственный ...</td>\n      <td>NaN</td>\n      <td>NaN</td>\n      <td>NaN</td>\n      <td>NaN</td>\n    </tr>\n  </tbody>\n</table>\n</div>"
          },
          "metadata": {},
          "output_type": "display_data"
        }
      ],
      "source": [
        "discipline_entities = pd.read_csv(\"../data/discipline_entities_augmented_22600.csv\", encoding=\"utf-8\", sep=\";\")\n",
        "print(discipline_entities.shape[0])\n",
        "display(discipline_entities.sample(3))"
      ],
      "metadata": {
        "ExecuteTime": {
          "end_time": "2024-03-24T16:26:25.085153500Z",
          "start_time": "2024-03-24T16:26:23.666071100Z"
        },
        "id": "jWv7mPZQERpP",
        "outputId": "fc740e60-e1cc-45b5-efc0-a18fccc1a5f5"
      },
      "execution_count": null
    },
    {
      "cell_type": "code",
      "outputs": [],
      "source": [
        "discipline_entities.drop(columns=[\"Unnamed: 0\", \"id\", \"tokenized_text\", \"transformer_text\", \"raw_text\"], inplace=True)"
      ],
      "metadata": {
        "ExecuteTime": {
          "end_time": "2024-03-24T16:27:46.781839900Z",
          "start_time": "2024-03-24T16:27:46.757933900Z"
        },
        "id": "Yl-KY10vERpP"
      },
      "execution_count": null
    },
    {
      "cell_type": "code",
      "outputs": [],
      "source": [
        "discipline_entities = dp.process_dataframe_text(discipline_entities, [\"processed_text\"])"
      ],
      "metadata": {
        "ExecuteTime": {
          "end_time": "2024-03-24T16:31:32.097165600Z",
          "start_time": "2024-03-24T16:27:58.503564100Z"
        },
        "id": "Vui-FHS2ERpP"
      },
      "execution_count": null
    },
    {
      "cell_type": "code",
      "outputs": [],
      "source": [
        "discipline_entities.author_entities = discipline_entities.apply(fill_author_entities, axis=1)"
      ],
      "metadata": {
        "ExecuteTime": {
          "end_time": "2024-03-24T16:32:35.269368700Z",
          "start_time": "2024-03-24T16:32:35.150012500Z"
        },
        "id": "gS9d5ilnERpP"
      },
      "execution_count": null
    },
    {
      "cell_type": "code",
      "outputs": [
        {
          "data": {
            "text/plain": "                                             title  \\\n0                                        Философия   \n1  Введение в цифровую культуру и программирование   \n2                        Проектирование баз данных   \n3                  Современные вопросы информатики   \n4                                 Иностранный язык   \n\n                                      processed_text  \\\n0  философия курс философия давать целостный пред...   \n1  введение цифровой культура программирование ку...   \n2  проектирование база данные дисциплина направит...   \n3  современный вопрос информатика дисциплина напр...   \n4  иностранный язык цель освоение дисциплина явля...   \n\n                                     author_entities  \n0  ['Ценности современного гуманизма', 'Системное...  \n1  ['Цифровое образование', 'Цифровая этика', 'Те...  \n2  ['Язык структурированных запросов (SQL)', 'Хра...  \n3  ['Теория информации', 'Сверточные коды', 'Лине...  \n4                               ['Типология языков']  ",
            "text/html": "<div>\n<style scoped>\n    .dataframe tbody tr th:only-of-type {\n        vertical-align: middle;\n    }\n\n    .dataframe tbody tr th {\n        vertical-align: top;\n    }\n\n    .dataframe thead th {\n        text-align: right;\n    }\n</style>\n<table border=\"1\" class=\"dataframe\">\n  <thead>\n    <tr style=\"text-align: right;\">\n      <th></th>\n      <th>title</th>\n      <th>processed_text</th>\n      <th>author_entities</th>\n    </tr>\n  </thead>\n  <tbody>\n    <tr>\n      <th>0</th>\n      <td>Философия</td>\n      <td>философия курс философия давать целостный пред...</td>\n      <td>['Ценности современного гуманизма', 'Системное...</td>\n    </tr>\n    <tr>\n      <th>1</th>\n      <td>Введение в цифровую культуру и программирование</td>\n      <td>введение цифровой культура программирование ку...</td>\n      <td>['Цифровое образование', 'Цифровая этика', 'Те...</td>\n    </tr>\n    <tr>\n      <th>2</th>\n      <td>Проектирование баз данных</td>\n      <td>проектирование база данные дисциплина направит...</td>\n      <td>['Язык структурированных запросов (SQL)', 'Хра...</td>\n    </tr>\n    <tr>\n      <th>3</th>\n      <td>Современные вопросы информатики</td>\n      <td>современный вопрос информатика дисциплина напр...</td>\n      <td>['Теория информации', 'Сверточные коды', 'Лине...</td>\n    </tr>\n    <tr>\n      <th>4</th>\n      <td>Иностранный язык</td>\n      <td>иностранный язык цель освоение дисциплина явля...</td>\n      <td>['Типология языков']</td>\n    </tr>\n  </tbody>\n</table>\n</div>"
          },
          "execution_count": 86,
          "metadata": {},
          "output_type": "execute_result"
        }
      ],
      "source": [
        "discipline_entities.head(5)"
      ],
      "metadata": {
        "ExecuteTime": {
          "end_time": "2024-03-24T16:32:44.812121500Z",
          "start_time": "2024-03-24T16:32:44.790922300Z"
        },
        "id": "haMK91ZhERpP",
        "outputId": "f5c23032-6595-43e6-871e-d2e152c0852d"
      },
      "execution_count": null
    },
    {
      "cell_type": "code",
      "outputs": [],
      "source": [
        "discipline_entities.to_csv(\"../data/discipline_entities_train_22600.csv\", index=False, sep=\";\", encoding=\"utf-8\")"
      ],
      "metadata": {
        "ExecuteTime": {
          "end_time": "2024-03-24T16:33:29.493676500Z",
          "start_time": "2024-03-24T16:33:28.555248400Z"
        },
        "id": "09CA0CXSERpQ"
      },
      "execution_count": null
    },
    {
      "cell_type": "markdown",
      "source": [
        "**Создадим выборки для тестирования поисков**"
      ],
      "metadata": {
        "collapsed": false,
        "id": "3TVczNUVERpQ"
      }
    },
    {
      "cell_type": "code",
      "outputs": [],
      "source": [
        "discipline_data = pd.read_csv(\"../data/discipline_data_augmented_20500.csv\", sep=\";\", encoding=\"utf-8\")"
      ],
      "metadata": {
        "ExecuteTime": {
          "end_time": "2024-03-26T13:17:31.385428400Z",
          "start_time": "2024-03-26T13:17:29.918388Z"
        },
        "id": "PJj0OlfeERpQ"
      },
      "execution_count": null
    },
    {
      "cell_type": "code",
      "outputs": [],
      "source": [
        "_, discipline_data_test = train_test_split(\n",
        "    discipline_data[[\"processed_text\", \"title\"]], test_size=0.2,\n",
        "    random_state=0, stratify=discipline_data.title\n",
        ")"
      ],
      "metadata": {
        "ExecuteTime": {
          "end_time": "2024-03-26T13:17:54.955386300Z",
          "start_time": "2024-03-26T13:17:54.821390200Z"
        },
        "id": "TPNiD1C1ERpQ"
      },
      "execution_count": null
    },
    {
      "cell_type": "code",
      "outputs": [
        {
          "data": {
            "text/plain": "(4114, 2)"
          },
          "execution_count": 51,
          "metadata": {},
          "output_type": "execute_result"
        }
      ],
      "source": [
        "discipline_data_test.shape"
      ],
      "metadata": {
        "ExecuteTime": {
          "end_time": "2024-03-26T13:18:10.218464400Z",
          "start_time": "2024-03-26T13:18:10.060476900Z"
        },
        "id": "V4dpyB-fERpQ",
        "outputId": "001ddf84-83bf-4780-bac1-28713e5afeff"
      },
      "execution_count": null
    },
    {
      "cell_type": "code",
      "outputs": [],
      "source": [
        "discipline_data_test.to_csv(\"../data/discipline_data_test_4100.csv\", index=False, sep=\";\", encoding=\"utf-8\")"
      ],
      "metadata": {
        "ExecuteTime": {
          "end_time": "2024-03-26T13:18:29.361387500Z",
          "start_time": "2024-03-26T13:18:29.208032300Z"
        },
        "id": "k39q0OQaERpQ"
      },
      "execution_count": null
    },
    {
      "cell_type": "code",
      "outputs": [],
      "source": [
        "discipline_entities = pd.read_csv(\"../data/discipline_entities_augmented_22600.csv\", sep=\";\", encoding=\"utf-8\")"
      ],
      "metadata": {
        "ExecuteTime": {
          "end_time": "2024-03-26T13:18:50.345916100Z",
          "start_time": "2024-03-26T13:18:48.549824100Z"
        },
        "id": "_3TLATerERpQ"
      },
      "execution_count": null
    },
    {
      "cell_type": "code",
      "outputs": [],
      "source": [
        "_, discipline_entities_test = train_test_split(\n",
        "    discipline_entities[[\"processed_text\", \"title\"]], test_size=0.2,\n",
        "    random_state=0, stratify=discipline_entities.title\n",
        ")"
      ],
      "metadata": {
        "ExecuteTime": {
          "end_time": "2024-03-26T13:19:02.456729900Z",
          "start_time": "2024-03-26T13:19:02.276820800Z"
        },
        "id": "r4G3pUCaERpQ"
      },
      "execution_count": null
    },
    {
      "cell_type": "code",
      "outputs": [
        {
          "data": {
            "text/plain": "(4524, 2)"
          },
          "execution_count": 56,
          "metadata": {},
          "output_type": "execute_result"
        }
      ],
      "source": [
        "discipline_entities_test.shape"
      ],
      "metadata": {
        "ExecuteTime": {
          "end_time": "2024-03-26T13:19:33.091470500Z",
          "start_time": "2024-03-26T13:19:32.888087100Z"
        },
        "id": "ciqyHkiDERpQ",
        "outputId": "6b2260f4-b9b8-471b-cb71-52aa0935fb49"
      },
      "execution_count": null
    },
    {
      "cell_type": "code",
      "outputs": [],
      "source": [
        "discipline_entities_test.to_csv(\"../data/discipline_entities_test_4500.csv\", index=False, sep=\";\", encoding=\"utf-8\")"
      ],
      "metadata": {
        "ExecuteTime": {
          "end_time": "2024-03-26T13:19:49.275540100Z",
          "start_time": "2024-03-26T13:19:49.121353Z"
        },
        "id": "GU7AGoQzERpQ"
      },
      "execution_count": null
    },
    {
      "cell_type": "markdown",
      "source": [
        "## Этап 4 - Булев поиск"
      ],
      "metadata": {
        "collapsed": false,
        "id": "iZM23mWrERpQ"
      }
    },
    {
      "cell_type": "markdown",
      "source": [
        "**Реализуем интерфейсы**"
      ],
      "metadata": {
        "collapsed": false,
        "id": "dRlWEMdDERpQ"
      }
    },
    {
      "cell_type": "code",
      "outputs": [],
      "source": [
        "class ISearchEngine(ABC):\n",
        "    @abstractmethod\n",
        "    def search_course(self, prompt: str, n: int) -> List[str]:\n",
        "        \"\"\"\n",
        "        :param prompt: Запрос пользователя в формате, соответствующем поисковому движку.\n",
        "        :param n: Количество ответов, которое нужно сформировать.\n",
        "        :return: Список названий дисциплин, которые подходят под запрос.\n",
        "        \"\"\"\n",
        "\n",
        "class ITestEngine(ABC):\n",
        "    # accuracy, mrr top-5, mrr top 10, время ответа\n",
        "    @abstractmethod\n",
        "    def get_evaluation_report(self) -> Dict[str, float]:\n",
        "        \"\"\"\n",
        "        :return: Отчёт о метриках поиска.\n",
        "        \"\"\""
      ],
      "metadata": {
        "ExecuteTime": {
          "end_time": "2024-03-26T14:52:56.243361100Z",
          "start_time": "2024-03-26T14:52:56.143808100Z"
        },
        "id": "Kf8wuf1LERpQ"
      },
      "execution_count": null
    },
    {
      "cell_type": "markdown",
      "source": [
        "**И метрики, нужные для оценки**"
      ],
      "metadata": {
        "collapsed": false,
        "id": "lsenpRhDERpQ"
      }
    },
    {
      "cell_type": "code",
      "outputs": [],
      "source": [
        "def mrr_score(y_true: List[str], y_pred: List[List[str]], n: int) -> float:\n",
        "    mrr_cumulative = 0.0\n",
        "    for true_label, search_results in zip(y_true, y_pred):\n",
        "        try:\n",
        "            mrr_cumulative += 1 / (search_results[:n].index(true_label) + 1)\n",
        "        except ValueError:\n",
        "            pass\n",
        "\n",
        "    return mrr_cumulative / len(y_true)\n",
        "\n",
        "def accuracy_score(y_true: List[str], y_pred: List[List[str]]) -> float:\n",
        "    correct_guesses = 0.0\n",
        "    for true_label, pred_labels in zip(y_true, y_pred):\n",
        "        try:\n",
        "            correct_guesses += int(true_label == pred_labels[0])\n",
        "        except Exception as _:\n",
        "            pass\n",
        "\n",
        "    return correct_guesses / len(y_true)"
      ],
      "metadata": {
        "ExecuteTime": {
          "end_time": "2024-03-26T14:52:58.930338800Z",
          "start_time": "2024-03-26T14:52:58.873156900Z"
        },
        "id": "vmEF-apSERpQ"
      },
      "execution_count": null
    },
    {
      "cell_type": "markdown",
      "source": [
        "### Реализация\n",
        "\n",
        "Для него используем библиотеку eldar. В ней реализовано создание индекса и поиск с операторами булева поиска. Сделаем обёртку."
      ],
      "metadata": {
        "collapsed": false,
        "id": "fSa8kWzzERpQ"
      }
    },
    {
      "cell_type": "markdown",
      "source": [
        "**Обучим индексы**"
      ],
      "metadata": {
        "collapsed": false,
        "id": "68IXZaocERpR"
      }
    },
    {
      "cell_type": "code",
      "outputs": [],
      "source": [
        "discipline_entities = pd.read_csv(\"../data/discipline_entities_train_22600.csv\", sep=\";\", encoding=\"utf-8\")"
      ],
      "metadata": {
        "ExecuteTime": {
          "end_time": "2024-03-25T18:23:37.293183900Z",
          "start_time": "2024-03-25T18:23:36.505467200Z"
        },
        "id": "5K7k6aB6ERpR"
      },
      "execution_count": null
    },
    {
      "cell_type": "code",
      "outputs": [],
      "source": [
        "index = Index()\n",
        "index.build(discipline_entities.processed_text)\n",
        "index.save(\"../models/discipline_entities_index.p\")"
      ],
      "metadata": {
        "ExecuteTime": {
          "end_time": "2024-03-25T18:24:44.497696800Z",
          "start_time": "2024-03-25T18:24:26.743461800Z"
        },
        "id": "xQf1oQm3ERpR"
      },
      "execution_count": null
    },
    {
      "cell_type": "code",
      "outputs": [],
      "source": [
        "discipline_data = pd.read_csv(\"../data/discipline_data_train_20500.csv\", sep=\";\", encoding=\"utf-8\")"
      ],
      "metadata": {
        "ExecuteTime": {
          "end_time": "2024-03-25T18:25:44.098907900Z",
          "start_time": "2024-03-25T18:25:43.726500700Z"
        },
        "id": "kkCWQnKdERpR"
      },
      "execution_count": null
    },
    {
      "cell_type": "code",
      "outputs": [],
      "source": [
        "index = Index()\n",
        "index.build(discipline_data.processed_text)\n",
        "index.save(\"../models/discipline_data_index.p\")"
      ],
      "metadata": {
        "ExecuteTime": {
          "end_time": "2024-03-25T18:26:22.458964200Z",
          "start_time": "2024-03-25T18:26:08.031518500Z"
        },
        "id": "WfVy1gW1ERpR"
      },
      "execution_count": null
    },
    {
      "cell_type": "markdown",
      "source": [
        "**Создадим класс**"
      ],
      "metadata": {
        "collapsed": false,
        "id": "BYvxm9EQERpR"
      }
    },
    {
      "cell_type": "code",
      "outputs": [],
      "source": [
        "class BooleanSearchEngine(ISearchEngine):\n",
        "    _PREPROCESSING_CONFIG_PATH = \"../configs/preprocessing.yaml\"\n",
        "\n",
        "    def __init__(self, dataset: pd.DataFrame, document_column: str, search_index_path: str):\n",
        "        if document_column not in dataset.columns:\n",
        "            raise ValueError(\"Column is not in dataset\")\n",
        "\n",
        "        if not os.path.isfile(search_index_path):\n",
        "            raise FileNotFoundError(\"Index file not found\")\n",
        "\n",
        "        self._dataset = dataset\n",
        "        self._document_column = document_column\n",
        "\n",
        "        self._text_processor = DataProcessor(YAMLConfigParser(self._PREPROCESSING_CONFIG_PATH))\n",
        "        self._search_index = Index.load(search_index_path)\n",
        "\n",
        "    def search_course(self, prompt: str, n: int)-> List[str]:\n",
        "        preprocessed_prompt = self._preprocess_prompt_text(prompt)\n",
        "        search_result_ids = self._search_index.search(preprocessed_prompt, return_ids=True)\n",
        "        search_results = self._dataset[self._dataset.index.isin(search_result_ids)][self._document_column]\n",
        "        output_results = []\n",
        "\n",
        "        for title in search_results:\n",
        "            if len(output_results) == n:\n",
        "                break\n",
        "\n",
        "            if title in output_results:\n",
        "                continue\n",
        "\n",
        "            output_results.append(title)\n",
        "\n",
        "        return output_results\n",
        "\n",
        "    def _preprocess_prompt_text(self, text: str) -> str:\n",
        "        pattern = r'\"(.*?)\"'\n",
        "        processed_text = re.sub(pattern, lambda match: f'\"{self._text_processor.process_single_text(match.group(1))}\"', text)\n",
        "        processed_text = processed_text.replace('\"', \"\")\n",
        "        return processed_text"
      ],
      "metadata": {
        "ExecuteTime": {
          "end_time": "2024-03-26T13:34:56.881085900Z",
          "start_time": "2024-03-26T13:34:56.850504500Z"
        },
        "id": "zunYYmFRERpR"
      },
      "execution_count": null
    },
    {
      "cell_type": "code",
      "outputs": [],
      "source": [
        "b = BooleanSearchEngine(discipline_data, \"title\", \"../models/discipline_data_index.p\")"
      ],
      "metadata": {
        "ExecuteTime": {
          "end_time": "2024-03-25T19:06:45.830634200Z",
          "start_time": "2024-03-25T19:06:36.458610700Z"
        },
        "id": "mPJuPXXEERpR"
      },
      "execution_count": null
    },
    {
      "cell_type": "code",
      "outputs": [
        {
          "name": "stdout",
          "output_type": "stream",
          "text": [
            "философия AND NOT система\n"
          ]
        },
        {
          "data": {
            "text/plain": "['Философия',\n 'История искусств',\n 'Введение в цифровые гуманитарные исследования',\n 'Специальные разделы линейной алгебры',\n 'Мышление (Основные проблемы современного политического мышления)']"
          },
          "execution_count": 65,
          "metadata": {},
          "output_type": "execute_result"
        }
      ],
      "source": [
        "b.search_course('\"философия\" AND NOT \"системы\"', 5)"
      ],
      "metadata": {
        "ExecuteTime": {
          "end_time": "2024-03-25T19:07:11.101408800Z",
          "start_time": "2024-03-25T19:07:11.003804400Z"
        },
        "id": "aIOIFsDaERpR",
        "outputId": "faec50e0-e178-4860-ec9a-d020d39166f3"
      },
      "execution_count": null
    },
    {
      "cell_type": "markdown",
      "source": [
        "**Итог**\n",
        "\n",
        "Разработали функциональный булев поиск, попробуем его протестировать."
      ],
      "metadata": {
        "collapsed": false,
        "id": "lDU3_QZBERpR"
      }
    },
    {
      "cell_type": "markdown",
      "source": [
        "### Тестирование\n",
        "\n",
        "Тестирование такого вида поиска затруднено сложностью расстановки тегов поиска адекватно.\n",
        "\n",
        "Проверим его на случайных данных. Берём 5 токенов из самого сэмпла + 2 из другого случайного через NOT.\n",
        "\n",
        "Очевидно, такой тест не является релевантным, лишь оценочно-пристрелочным. Без паттерна поведения пользователя тестирование практически невозможно."
      ],
      "metadata": {
        "collapsed": false,
        "id": "Vl4cLHOXERpR"
      }
    },
    {
      "cell_type": "code",
      "outputs": [],
      "source": [
        "class BooleanTestEngine(ITestEngine):\n",
        "    def __init__(self, dataset: pd.DataFrame, document_column: str, terms_column: str, search_engine: BooleanSearchEngine):\n",
        "        if not any(column in dataset.columns for column in [terms_column, document_column]):\n",
        "            raise ValueError(\"Columns are not in dataset\")\n",
        "\n",
        "        self._dataset = dataset\n",
        "        self._document_column = document_column\n",
        "        self._terms_column = terms_column\n",
        "        self._search_engine = search_engine\n",
        "\n",
        "        self._test_samples = self._create_test_samples()\n",
        "\n",
        "    def get_evaluation_report(self) -> Dict[str, float]:\n",
        "        PREDICTION_COUNT = 10\n",
        "        y_true = []\n",
        "        y_pred = []\n",
        "        start_time = time()\n",
        "        for true_label, prompt in self._test_samples:\n",
        "            try:\n",
        "                y_pred.append(self._search_engine.search_course(prompt, PREDICTION_COUNT))\n",
        "                y_true.append(true_label)\n",
        "            except Exception as _:\n",
        "                pass\n",
        "\n",
        "        execution_time = time() - start_time\n",
        "\n",
        "        return {\n",
        "            \"execution_time\": execution_time,\n",
        "            \"accuracy\": accuracy_score(y_true, y_pred),\n",
        "            \"mrr_5\": mrr_score(y_true, y_pred, 5),\n",
        "            \"mrr_10\": mrr_score(y_true, y_pred, 10)\n",
        "        }\n",
        "\n",
        "    def _create_test_samples(self) -> List[Tuple[str, str]]:\n",
        "        CORRECT_TERMS = 5\n",
        "        INCORRECT_TERMS = 2\n",
        "        test_samples = []\n",
        "        for _, row in self._dataset.iterrows():\n",
        "            terms = row[self._terms_column].split()\n",
        "            random.shuffle(terms)\n",
        "            prepared_terms = [f'\"{term}\"' for term in terms[:CORRECT_TERMS]]\n",
        "\n",
        "            other_row_id = random.randint(0, self._dataset.shape[0] - 1)\n",
        "            other_terms = self._dataset.iloc[other_row_id][self._terms_column].split()\n",
        "            not_terms = random.sample(other_terms, INCORRECT_TERMS)\n",
        "            not_prepared_terms = [f'NOT \"{term}\"' for term in not_terms]\n",
        "\n",
        "            prepared_terms += not_prepared_terms\n",
        "            test_samples.append((row[self._document_column], \" AND \".join(prepared_terms)))\n",
        "\n",
        "        return test_samples"
      ],
      "metadata": {
        "ExecuteTime": {
          "end_time": "2024-03-26T13:50:17.696034600Z",
          "start_time": "2024-03-26T13:50:17.487929500Z"
        },
        "id": "w4FXDG2_ERpR"
      },
      "execution_count": null
    },
    {
      "cell_type": "markdown",
      "source": [
        "**Discipline Data**"
      ],
      "metadata": {
        "collapsed": false,
        "id": "P67H78ltERpS"
      }
    },
    {
      "cell_type": "code",
      "outputs": [],
      "source": [
        "discipline_data = pd.read_csv(\"../data/discipline_data_train_20500.csv\", sep=\";\", encoding=\"utf-8\")\n",
        "discipline_data_test = pd.read_csv(\"../data/discipline_data_test_4100.csv\", sep=\";\", encoding=\"utf-8\")"
      ],
      "metadata": {
        "ExecuteTime": {
          "end_time": "2024-03-26T13:50:20.436241900Z",
          "start_time": "2024-03-26T13:50:19.697435500Z"
        },
        "id": "vl6hkYGkERpS"
      },
      "execution_count": null
    },
    {
      "cell_type": "code",
      "outputs": [],
      "source": [
        "boolean_search_discipline_data = BooleanSearchEngine(discipline_data, \"title\", \"../models/discipline_data_index.p\")\n",
        "boolean_test_discipline_data = BooleanTestEngine(discipline_data_test, \"title\", \"processed_text\", boolean_search_discipline_data)"
      ],
      "metadata": {
        "ExecuteTime": {
          "end_time": "2024-03-26T13:50:28.512097200Z",
          "start_time": "2024-03-26T13:50:20.974637700Z"
        },
        "id": "6_kHroOgERpS"
      },
      "execution_count": null
    },
    {
      "cell_type": "code",
      "outputs": [
        {
          "data": {
            "text/plain": "{'execution_time': 41.715678691864014,\n 'accuracy': 0.3661248930710009,\n 'mrr_5': 0.42733818078129526,\n 'mrr_10': 0.4296222181487371}"
          },
          "execution_count": 93,
          "metadata": {},
          "output_type": "execute_result"
        }
      ],
      "source": [
        "boolean_test_discipline_data.get_evaluation_report()"
      ],
      "metadata": {
        "ExecuteTime": {
          "end_time": "2024-03-26T13:59:07.453288600Z",
          "start_time": "2024-03-26T13:58:25.725720900Z"
        },
        "id": "finym6ExERpS",
        "outputId": "a3dc757e-86d9-4ad6-b78b-ab1567bd7e26"
      },
      "execution_count": null
    },
    {
      "cell_type": "markdown",
      "source": [
        "**Discipline Entities**"
      ],
      "metadata": {
        "collapsed": false,
        "id": "bQCJIv-lERpS"
      }
    },
    {
      "cell_type": "code",
      "outputs": [],
      "source": [
        "discipline_entities = pd.read_csv(\"../data/discipline_entities_train_22600.csv\", sep=\";\", encoding=\"utf-8\")\n",
        "discipline_entities_test = pd.read_csv(\"../data/discipline_entities_test_4500.csv\", sep=\";\", encoding=\"utf-8\")"
      ],
      "metadata": {
        "ExecuteTime": {
          "end_time": "2024-03-26T14:01:36.443061100Z",
          "start_time": "2024-03-26T14:01:35.851331800Z"
        },
        "id": "um8qqP4rERpS"
      },
      "execution_count": null
    },
    {
      "cell_type": "code",
      "outputs": [],
      "source": [
        "boolean_search_discipline_entities = BooleanSearchEngine(discipline_entities, \"title\", \"../models/discipline_entities_index.p\")\n",
        "boolean_test_discipline_entities = BooleanTestEngine(discipline_entities_test, \"title\", \"processed_text\", boolean_search_discipline_entities)"
      ],
      "metadata": {
        "ExecuteTime": {
          "end_time": "2024-03-26T14:02:17.660043200Z",
          "start_time": "2024-03-26T14:02:06.835007200Z"
        },
        "id": "JRNXYIJmERpS"
      },
      "execution_count": null
    },
    {
      "cell_type": "code",
      "outputs": [
        {
          "data": {
            "text/plain": "{'execution_time': 50.58664560317993,\n 'accuracy': 0.34533183352080987,\n 'mrr_5': 0.40436195475565617,\n 'mrr_10': 0.4071011956838733}"
          },
          "execution_count": 96,
          "metadata": {},
          "output_type": "execute_result"
        }
      ],
      "source": [
        "boolean_test_discipline_entities.get_evaluation_report()"
      ],
      "metadata": {
        "ExecuteTime": {
          "end_time": "2024-03-26T14:03:19.117581700Z",
          "start_time": "2024-03-26T14:02:28.514972600Z"
        },
        "id": "-iIGsn6KERpS",
        "outputId": "79a091a0-0baa-4f94-98f1-e192c7a797c4"
      },
      "execution_count": null
    },
    {
      "cell_type": "markdown",
      "source": [
        "**Итог**\n",
        "\n",
        "Хорошая скорость работы - ~90 запросов в секунду, качество трудно оценить объективно, умозрительно нормальное, относительно запросов."
      ],
      "metadata": {
        "collapsed": false,
        "id": "FQGBV40jERpS"
      }
    },
    {
      "cell_type": "markdown",
      "source": [
        "## Этап 5 - Tfidf Search"
      ],
      "metadata": {
        "collapsed": false,
        "id": "pHkxqnTuERpS"
      }
    },
    {
      "cell_type": "markdown",
      "source": [
        "**Реализация**\n",
        "\n",
        "Составим словари терминов, обучим tfidf из scikit-learn."
      ],
      "metadata": {
        "collapsed": false,
        "id": "soN2lDGTERpS"
      }
    },
    {
      "cell_type": "markdown",
      "source": [
        "**Discipline Entities**"
      ],
      "metadata": {
        "collapsed": false,
        "id": "4HBpzjaxERpS"
      }
    },
    {
      "cell_type": "code",
      "outputs": [],
      "source": [
        "discipline_entities = pd.read_csv(\"../data/discipline_entities_train_22600.csv\", sep=\";\", encoding=\"utf-8\")"
      ],
      "metadata": {
        "ExecuteTime": {
          "end_time": "2024-03-26T09:06:08.734639300Z",
          "start_time": "2024-03-26T09:06:07.902277500Z"
        },
        "id": "Yf2cy7y1ERpS"
      },
      "execution_count": null
    },
    {
      "cell_type": "code",
      "outputs": [],
      "source": [
        "discipline_entities[\"tokenized_text\"] = discipline_entities.processed_text.str.split()"
      ],
      "metadata": {
        "ExecuteTime": {
          "end_time": "2024-03-26T09:07:15.378238200Z",
          "start_time": "2024-03-26T09:07:15.025184200Z"
        },
        "id": "ilC9AxvzERpS"
      },
      "execution_count": null
    },
    {
      "cell_type": "code",
      "outputs": [],
      "source": [
        "discipline_entities_vocabulary = set()\n",
        "for _, row in discipline_entities.iterrows():\n",
        "    discipline_entities_vocabulary.update(row[\"tokenized_text\"])"
      ],
      "metadata": {
        "ExecuteTime": {
          "end_time": "2024-03-26T09:09:05.409018800Z",
          "start_time": "2024-03-26T09:09:04.498550500Z"
        },
        "id": "XMNGqZIdERpT"
      },
      "execution_count": null
    },
    {
      "cell_type": "code",
      "outputs": [
        {
          "name": "stdout",
          "output_type": "stream",
          "text": [
            "39365\n",
            "['окуляры', 'records', 'flowering', 'кардиоидный', 'научтиться']\n"
          ]
        }
      ],
      "source": [
        "discipline_entities_vocabulary = list(discipline_entities_vocabulary)\n",
        "print(len(discipline_entities_vocabulary))\n",
        "print(discipline_entities_vocabulary[0:5])"
      ],
      "metadata": {
        "ExecuteTime": {
          "end_time": "2024-03-26T09:10:22.432997Z",
          "start_time": "2024-03-26T09:10:22.342902300Z"
        },
        "id": "2ghz58KUERpT",
        "outputId": "3e14ae43-4ea9-4e67-be0e-2d002281d661"
      },
      "execution_count": null
    },
    {
      "cell_type": "code",
      "outputs": [],
      "source": [
        "tfidf_discipline_entities = TfidfVectorizer(vocabulary=discipline_entities_vocabulary, lowercase=False)\n",
        "tfidf_discipline_entities.fit(discipline_entities.processed_text)\n",
        "joblib.dump(tfidf_discipline_entities, \"../models/discipline_entities_tfidf.pkl\")"
      ],
      "metadata": {
        "ExecuteTime": {
          "end_time": "2024-03-26T09:12:45.702571700Z",
          "start_time": "2024-03-26T09:12:41.329177100Z"
        },
        "id": "NFP5dGsFERpT"
      },
      "execution_count": null
    },
    {
      "cell_type": "markdown",
      "source": [
        "**Discipline Data**"
      ],
      "metadata": {
        "collapsed": false,
        "id": "1k3_H6MmERpT"
      }
    },
    {
      "cell_type": "code",
      "outputs": [],
      "source": [
        "discipline_data = pd.read_csv(\"../data/discipline_data_train_20500.csv\", sep=\";\", encoding=\"utf-8\")"
      ],
      "metadata": {
        "ExecuteTime": {
          "end_time": "2024-03-26T09:54:12.932249500Z",
          "start_time": "2024-03-26T09:54:12.564000900Z"
        },
        "id": "7PR8M60SERpT"
      },
      "execution_count": null
    },
    {
      "cell_type": "code",
      "outputs": [],
      "source": [
        "discipline_data[\"tokenized_text\"] = discipline_data.processed_text.str.split()"
      ],
      "metadata": {
        "ExecuteTime": {
          "end_time": "2024-03-26T09:54:29.210660400Z",
          "start_time": "2024-03-26T09:54:28.778163400Z"
        },
        "id": "ewkIXgIXERpT"
      },
      "execution_count": null
    },
    {
      "cell_type": "code",
      "outputs": [],
      "source": [
        "discipline_data_vocabulary = set()\n",
        "for _, row in discipline_data.iterrows():\n",
        "    discipline_data_vocabulary.update(row[\"tokenized_text\"])"
      ],
      "metadata": {
        "ExecuteTime": {
          "end_time": "2024-03-26T09:54:55.579554500Z",
          "start_time": "2024-03-26T09:54:54.612847100Z"
        },
        "id": "tahwg0VDERpT"
      },
      "execution_count": null
    },
    {
      "cell_type": "code",
      "outputs": [
        {
          "name": "stdout",
          "output_type": "stream",
          "text": [
            "38258\n",
            "['вибраторы', 'окуляры', 'records', 'flowering', 'кардиоидный']\n"
          ]
        }
      ],
      "source": [
        "discipline_data_vocabulary = list(discipline_data_vocabulary)\n",
        "print(len(discipline_data_vocabulary))\n",
        "print(discipline_data_vocabulary[0:5])"
      ],
      "metadata": {
        "ExecuteTime": {
          "end_time": "2024-03-26T09:55:03.738326600Z",
          "start_time": "2024-03-26T09:55:03.700474900Z"
        },
        "id": "DkXv7hT2ERpT",
        "outputId": "64c7ee41-cc7e-47c8-ccaa-ee8f8306782c"
      },
      "execution_count": null
    },
    {
      "cell_type": "code",
      "outputs": [
        {
          "data": {
            "text/plain": "['../models/discipline_data_tfidf.pkl']"
          },
          "execution_count": 47,
          "metadata": {},
          "output_type": "execute_result"
        }
      ],
      "source": [
        "tfidf_discipline_data = TfidfVectorizer(vocabulary=discipline_data_vocabulary, lowercase=False)\n",
        "tfidf_discipline_data.fit(discipline_data.processed_text)\n",
        "joblib.dump(tfidf_discipline_data, \"../models/discipline_data_tfidf.pkl\")"
      ],
      "metadata": {
        "ExecuteTime": {
          "end_time": "2024-03-26T09:55:48.682679800Z",
          "start_time": "2024-03-26T09:55:46.823312700Z"
        },
        "id": "Kld5uISwERpT",
        "outputId": "e41b86af-f843-4a25-ac13-670cc8e8a190"
      },
      "execution_count": null
    },
    {
      "cell_type": "markdown",
      "source": [
        "**Напишем класс, реализующий метод**"
      ],
      "metadata": {
        "collapsed": false,
        "id": "oy9tNIjYERpT"
      }
    },
    {
      "cell_type": "code",
      "outputs": [],
      "source": [
        "class TfidfSearchEngine(ISearchEngine):\n",
        "    _PREPROCESSING_CONFIG_PATH = \"../configs/preprocessing.yaml\"\n",
        "\n",
        "    def __init__(self, dataset: pd.DataFrame, document_column: str, terms_column: str):\n",
        "        if not any(column in dataset.columns for column in [terms_column, document_column]):\n",
        "            raise ValueError(\"Columns are not in dataset\")\n",
        "\n",
        "        self._dataset = dataset\n",
        "        self._document_column = document_column\n",
        "        self._terms_column = terms_column\n",
        "\n",
        "        self._text_processor = DataProcessor(YAMLConfigParser(self._PREPROCESSING_CONFIG_PATH))\n",
        "\n",
        "        self._vocabulary = self._generate_vocabulary()\n",
        "        self._tfidf_model = TfidfVectorizer(vocabulary=self._vocabulary, lowercase=False)\n",
        "        self._tfidf_model.fit(self._dataset[self._terms_column])\n",
        "        self._matrix = self._tfidf_model.transform(self._dataset[self._terms_column])\n",
        "\n",
        "    def search_course(self, prompt: str, n: int)-> List[str]:\n",
        "        preprocessed_prompt = self._preprocess_prompt_text(prompt)\n",
        "        prompt_vector = self._generate_prompt_vector(preprocessed_prompt)\n",
        "\n",
        "        documents_cosine_similarities = [self._cosine_similarity(prompt_vector, document) for document in self._matrix.A]\n",
        "        output_ids = np.array(documents_cosine_similarities).argsort()[::-1]\n",
        "\n",
        "        output_results = []\n",
        "\n",
        "        for identifier in output_ids:\n",
        "            title = self._dataset.iloc[identifier][self._document_column]\n",
        "            if len(output_results) == n:\n",
        "                break\n",
        "\n",
        "            if title in output_results:\n",
        "                continue\n",
        "\n",
        "            output_results.append(title)\n",
        "\n",
        "        return output_results\n",
        "\n",
        "    def _generate_vocabulary(self) -> List[str]:\n",
        "        vocabulary = set()\n",
        "        for _, row in self._dataset.iterrows():\n",
        "            vocabulary.update(row[self._terms_column].split())\n",
        "\n",
        "        return list(vocabulary)\n",
        "\n",
        "    def _preprocess_prompt_text(self, text: str) -> str:\n",
        "        return self._text_processor.process_single_text(text)\n",
        "\n",
        "    def _generate_prompt_vector(self, text: str) -> np.ndarray:\n",
        "        vector = np.zeros((len(self._vocabulary)))\n",
        "        matrix = self._tfidf_model.transform([text])\n",
        "        for token in text.split():\n",
        "            try:\n",
        "                index = self._vocabulary.index(token)\n",
        "                vector[index]  = matrix[0, self._tfidf_model.vocabulary_[token]]\n",
        "            except ValueError as _:\n",
        "                pass\n",
        "\n",
        "        return vector\n",
        "\n",
        "    @staticmethod\n",
        "    def _cosine_similarity(a: np.ndarray, b: np.ndarray) -> float:\n",
        "        return np.dot(a, b) / (np.linalg.norm(a) * np.linalg.norm(b))"
      ],
      "metadata": {
        "ExecuteTime": {
          "end_time": "2024-03-26T14:53:06.648905700Z",
          "start_time": "2024-03-26T14:53:06.572100300Z"
        },
        "id": "ZQIH9-gzERpT"
      },
      "execution_count": null
    },
    {
      "cell_type": "code",
      "outputs": [],
      "source": [
        "test = TfidfSearchEngine(discipline_entities, \"title\", \"processed_text\")"
      ],
      "metadata": {
        "id": "ROvRtDiTERpT"
      },
      "execution_count": null
    },
    {
      "cell_type": "code",
      "outputs": [
        {
          "data": {
            "text/plain": "['Философская антропология и социальная философия / Philosophical Anthropology and Social Philosophy',\n 'Философия и научная методология в дизайне',\n 'Теория феминизма, вводный курс',\n 'Философия',\n 'История и философия науки']"
          },
          "execution_count": 120,
          "metadata": {},
          "output_type": "execute_result"
        }
      ],
      "source": [
        "test.search_course(\"философия\", 5)"
      ],
      "metadata": {
        "ExecuteTime": {
          "end_time": "2024-03-26T14:50:57.062175600Z",
          "start_time": "2024-03-26T14:50:53.845543600Z"
        },
        "id": "nUs8v39VERpT",
        "outputId": "e6f0cda7-a48c-4fd2-a202-b8859db558b0"
      },
      "execution_count": null
    },
    {
      "cell_type": "markdown",
      "source": [
        "**Итог**\n",
        "\n",
        "Разработали функциональный tfidf поиск, попробуем его протестировать."
      ],
      "metadata": {
        "collapsed": false,
        "id": "vkQwxkRKERpT"
      }
    },
    {
      "cell_type": "markdown",
      "source": [
        "### Тестирование\n",
        "\n",
        "Проверим его на случайных данных. Берём 7 токенов из самого сэмпла.\n",
        "\n",
        "Очевидно, такой тест не является релевантным, лишь оценочно-пристрелочным. Без паттерна поведения пользователя тестирование практически невозможно."
      ],
      "metadata": {
        "collapsed": false,
        "id": "_YoVO54gERpU"
      }
    },
    {
      "cell_type": "code",
      "outputs": [],
      "source": [
        "class TfidfTestEngine(ITestEngine):\n",
        "    def __init__(self, dataset: pd.DataFrame, document_column: str, terms_column: str, search_engine: TfidfSearchEngine):\n",
        "        if not any(column in dataset.columns for column in [terms_column, document_column]):\n",
        "            raise ValueError(\"Columns are not in dataset\")\n",
        "\n",
        "        self._dataset = dataset\n",
        "        self._document_column = document_column\n",
        "        self._terms_column = terms_column\n",
        "        self._search_engine = search_engine\n",
        "\n",
        "        self._test_samples = self._create_test_samples()\n",
        "\n",
        "    def get_evaluation_report(self) -> Dict[str, float]:\n",
        "        PREDICTION_COUNT = 10\n",
        "        y_true = []\n",
        "        y_pred = []\n",
        "        start_time = time()\n",
        "        for true_label, prompt in self._test_samples:\n",
        "            try:\n",
        "                y_pred.append(self._search_engine.search_course(prompt, PREDICTION_COUNT))\n",
        "                y_true.append(true_label)\n",
        "            except Exception as _:\n",
        "                pass\n",
        "\n",
        "        execution_time = time() - start_time\n",
        "\n",
        "        return {\n",
        "            \"execution_time\": execution_time,\n",
        "            \"accuracy\": accuracy_score(y_true, y_pred),\n",
        "            \"mrr_5\": mrr_score(y_true, y_pred, 5),\n",
        "            \"mrr_10\": mrr_score(y_true, y_pred, 10)\n",
        "        }\n",
        "\n",
        "    def _create_test_samples(self) -> List[Tuple[str, str]]:\n",
        "        SAMPLES_COUNT = 100\n",
        "        CORRECT_TERMS = 7\n",
        "        test_samples = []\n",
        "        for _, row in self._dataset.iterrows():\n",
        "            terms = row[self._terms_column].split()\n",
        "            random.shuffle(terms)\n",
        "            test_samples.append((row[self._document_column], \" \".join(terms[:CORRECT_TERMS])))\n",
        "\n",
        "        return test_samples[:SAMPLES_COUNT]"
      ],
      "metadata": {
        "ExecuteTime": {
          "end_time": "2024-03-26T14:53:16.885889200Z",
          "start_time": "2024-03-26T14:53:16.804087800Z"
        },
        "id": "IWfd0jJRERpU"
      },
      "execution_count": null
    },
    {
      "cell_type": "markdown",
      "source": [
        "**Discipline Data**"
      ],
      "metadata": {
        "collapsed": false,
        "id": "C2fFQ3bkERpU"
      }
    },
    {
      "cell_type": "code",
      "outputs": [],
      "source": [
        "discipline_data = pd.read_csv(\"../data/discipline_data_train_20500.csv\", sep=\";\", encoding=\"utf-8\")\n",
        "discipline_data_test = pd.read_csv(\"../data/discipline_data_test_4100.csv\", sep=\";\", encoding=\"utf-8\")"
      ],
      "metadata": {
        "ExecuteTime": {
          "end_time": "2024-03-26T14:53:20.563025900Z",
          "start_time": "2024-03-26T14:53:19.993355400Z"
        },
        "id": "dKXWP543ERpU"
      },
      "execution_count": null
    },
    {
      "cell_type": "code",
      "outputs": [],
      "source": [
        "tfidf_search_discipline_data = TfidfSearchEngine(discipline_data, \"title\", \"processed_text\")\n",
        "tfidf_test_discipline_data = TfidfTestEngine(discipline_data_test, \"title\", \"processed_text\", tfidf_search_discipline_data)"
      ],
      "metadata": {
        "ExecuteTime": {
          "end_time": "2024-03-26T14:53:44.007719900Z",
          "start_time": "2024-03-26T14:53:38.549164900Z"
        },
        "id": "sfL2eN35ERpU"
      },
      "execution_count": null
    },
    {
      "cell_type": "code",
      "outputs": [
        {
          "data": {
            "text/plain": "{'execution_time': 256.91877007484436,\n 'accuracy': 0.55,\n 'mrr_5': 0.6565000000000001,\n 'mrr_10': 0.6611507936507937}"
          },
          "execution_count": 10,
          "metadata": {},
          "output_type": "execute_result"
        }
      ],
      "source": [
        "tfidf_test_discipline_data.get_evaluation_report()"
      ],
      "metadata": {
        "ExecuteTime": {
          "end_time": "2024-03-26T14:58:05.298456700Z",
          "start_time": "2024-03-26T14:53:48.372042200Z"
        },
        "id": "Glx_saV9ERpU",
        "outputId": "eb4c62c5-a28f-4f5d-f9d0-e645b2064f10"
      },
      "execution_count": null
    },
    {
      "cell_type": "markdown",
      "source": [
        "**Discipline Entities**"
      ],
      "metadata": {
        "collapsed": false,
        "id": "sqCpeSPLERpU"
      }
    },
    {
      "cell_type": "code",
      "outputs": [],
      "source": [
        "discipline_entities = pd.read_csv(\"../data/discipline_entities_train_22600.csv\", sep=\";\", encoding=\"utf-8\")\n",
        "discipline_entities_test = pd.read_csv(\"../data/discipline_entities_test_4500.csv\", sep=\";\", encoding=\"utf-8\")"
      ],
      "metadata": {
        "ExecuteTime": {
          "end_time": "2024-03-26T14:58:33.885495Z",
          "start_time": "2024-03-26T14:58:33.212329700Z"
        },
        "id": "hyIUwaopERpU"
      },
      "execution_count": null
    },
    {
      "cell_type": "code",
      "outputs": [],
      "source": [
        "tfidf_search_discipline_entities = TfidfSearchEngine(discipline_entities, \"title\", \"processed_text\")\n",
        "tfidf_test_discipline_entities = TfidfTestEngine(discipline_entities_test, \"title\", \"processed_text\", tfidf_search_discipline_entities)"
      ],
      "metadata": {
        "ExecuteTime": {
          "end_time": "2024-03-26T14:58:41.387864200Z",
          "start_time": "2024-03-26T14:58:34.681974200Z"
        },
        "id": "mZwSKqYnERpU"
      },
      "execution_count": null
    },
    {
      "cell_type": "code",
      "outputs": [
        {
          "data": {
            "text/plain": "{'execution_time': 298.73387241363525,\n 'accuracy': 0.38,\n 'mrr_5': 0.5248333333333335,\n 'mrr_10': 0.5396746031746034}"
          },
          "execution_count": 13,
          "metadata": {},
          "output_type": "execute_result"
        }
      ],
      "source": [
        "tfidf_test_discipline_entities.get_evaluation_report()"
      ],
      "metadata": {
        "ExecuteTime": {
          "end_time": "2024-03-26T15:03:48.604405Z",
          "start_time": "2024-03-26T14:58:49.858719800Z"
        },
        "id": "b3P7VG57ERpU",
        "outputId": "e4bb88f5-d38f-4d9d-b015-d14df4d9534b"
      },
      "execution_count": null
    },
    {
      "cell_type": "markdown",
      "source": [
        "**Итог**\n",
        "\n",
        "Скорость значительно хуже, чем у булева поиска - 2,5-3с на запрос. Из-за этого пришлось урезать тестовую выборку, поэтому её репрезентативность оставляет желать лучшего. Умозрительно кажется, что качество возросло."
      ],
      "metadata": {
        "collapsed": false,
        "id": "eSd6_FKkERpU"
      }
    },
    {
      "cell_type": "markdown",
      "source": [
        "## Этап 6 - Transformer"
      ],
      "metadata": {
        "collapsed": false,
        "id": "REg1UATbERpU"
      }
    },
    {
      "cell_type": "markdown",
      "source": [
        "**Подготовим данные**\n",
        "\n",
        "Необходимо, чтобы метки классов были типа int."
      ],
      "metadata": {
        "collapsed": false,
        "id": "HtJOe7XmERpV"
      }
    },
    {
      "cell_type": "code",
      "outputs": [
        {
          "data": {
            "text/plain": "                                                   title  \\\n7412   Основы организации международных научных иссле...   \n1368                                   Основы композиции   \n10945                       Диджитализация R&D-процессов   \n\n                                          processed_text author_entities  \n7412   international research management of irme is a...              []  \n1368   курс основа композиция студент демонстрировать...              []  \n10945  рамка работа рассматриваться основной принцип ...              []  ",
            "text/html": "<div>\n<style scoped>\n    .dataframe tbody tr th:only-of-type {\n        vertical-align: middle;\n    }\n\n    .dataframe tbody tr th {\n        vertical-align: top;\n    }\n\n    .dataframe thead th {\n        text-align: right;\n    }\n</style>\n<table border=\"1\" class=\"dataframe\">\n  <thead>\n    <tr style=\"text-align: right;\">\n      <th></th>\n      <th>title</th>\n      <th>processed_text</th>\n      <th>author_entities</th>\n    </tr>\n  </thead>\n  <tbody>\n    <tr>\n      <th>7412</th>\n      <td>Основы организации международных научных иссле...</td>\n      <td>international research management of irme is a...</td>\n      <td>[]</td>\n    </tr>\n    <tr>\n      <th>1368</th>\n      <td>Основы композиции</td>\n      <td>курс основа композиция студент демонстрировать...</td>\n      <td>[]</td>\n    </tr>\n    <tr>\n      <th>10945</th>\n      <td>Диджитализация R&amp;D-процессов</td>\n      <td>рамка работа рассматриваться основной принцип ...</td>\n      <td>[]</td>\n    </tr>\n  </tbody>\n</table>\n</div>"
          },
          "execution_count": 56,
          "metadata": {},
          "output_type": "execute_result"
        }
      ],
      "source": [
        "discipline_data = pd.read_csv(\"../data/discipline_data_train_20500.csv\", sep=\";\", encoding=\"utf-8\")\n",
        "discipline_data.sample(3)"
      ],
      "metadata": {
        "ExecuteTime": {
          "end_time": "2024-03-26T10:02:31.121733Z",
          "start_time": "2024-03-26T10:02:30.730987700Z"
        },
        "id": "klFOa48eERpV",
        "outputId": "8a8748d3-0f73-46fd-c571-d930685b858c"
      },
      "execution_count": null
    },
    {
      "cell_type": "code",
      "outputs": [],
      "source": [
        "discipline_data_mapping_dict = {name: i for i, name in enumerate(discipline_data.title.unique())}"
      ],
      "metadata": {
        "ExecuteTime": {
          "end_time": "2024-03-26T10:03:47.556440300Z",
          "start_time": "2024-03-26T10:03:47.464083100Z"
        },
        "id": "ZoGwOcrNERpV"
      },
      "execution_count": null
    },
    {
      "cell_type": "code",
      "outputs": [
        {
          "data": {
            "text/plain": "418"
          },
          "execution_count": 59,
          "metadata": {},
          "output_type": "execute_result"
        }
      ],
      "source": [
        "discipline_data_mapping_dict[\"Основы композиции\"]"
      ],
      "metadata": {
        "ExecuteTime": {
          "end_time": "2024-03-26T10:04:13.811628100Z",
          "start_time": "2024-03-26T10:04:13.734210Z"
        },
        "id": "wEnnbNvyERpV",
        "outputId": "d6640f14-10af-4b6a-f6c0-c073f9cf1697"
      },
      "execution_count": null
    },
    {
      "cell_type": "code",
      "outputs": [],
      "source": [
        "discipline_data[\"title_id\"] = discipline_data.title.map(discipline_data_mapping_dict)"
      ],
      "metadata": {
        "ExecuteTime": {
          "end_time": "2024-03-26T10:10:29.627116300Z",
          "start_time": "2024-03-26T10:10:29.547404400Z"
        },
        "id": "-kLg_KrvERpV"
      },
      "execution_count": null
    },
    {
      "cell_type": "code",
      "outputs": [
        {
          "data": {
            "text/plain": "                                                   title  \\\n13982  Тестирование мобильных человеко-ориентированны...   \n11403  Интеллектуальные системы в управлении социальн...   \n8767                                       Оптика плазмы   \n\n                                          processed_text author_entities  \n13982  тестирование мобильный человеко ориентировать ...              []  \n11403  интеллектуальный система управление социальный...              []  \n8767   оптика плазма курс даваться понятие основный м...              []  ",
            "text/html": "<div>\n<style scoped>\n    .dataframe tbody tr th:only-of-type {\n        vertical-align: middle;\n    }\n\n    .dataframe tbody tr th {\n        vertical-align: top;\n    }\n\n    .dataframe thead th {\n        text-align: right;\n    }\n</style>\n<table border=\"1\" class=\"dataframe\">\n  <thead>\n    <tr style=\"text-align: right;\">\n      <th></th>\n      <th>title</th>\n      <th>processed_text</th>\n      <th>author_entities</th>\n    </tr>\n  </thead>\n  <tbody>\n    <tr>\n      <th>13982</th>\n      <td>Тестирование мобильных человеко-ориентированны...</td>\n      <td>тестирование мобильный человеко ориентировать ...</td>\n      <td>[]</td>\n    </tr>\n    <tr>\n      <th>11403</th>\n      <td>Интеллектуальные системы в управлении социальн...</td>\n      <td>интеллектуальный система управление социальный...</td>\n      <td>[]</td>\n    </tr>\n    <tr>\n      <th>8767</th>\n      <td>Оптика плазмы</td>\n      <td>оптика плазма курс даваться понятие основный м...</td>\n      <td>[]</td>\n    </tr>\n  </tbody>\n</table>\n</div>"
          },
          "execution_count": 61,
          "metadata": {},
          "output_type": "execute_result"
        }
      ],
      "source": [
        "discipline_entities = pd.read_csv(\"../data/discipline_entities_train_22600.csv\", sep=\";\", encoding=\"utf-8\")\n",
        "discipline_entities.sample(3)"
      ],
      "metadata": {
        "ExecuteTime": {
          "end_time": "2024-03-26T10:06:21.125935200Z",
          "start_time": "2024-03-26T10:06:20.534993700Z"
        },
        "id": "bfrvkD0hERpV",
        "outputId": "a059f10a-01a9-476d-bbad-40590a3896e2"
      },
      "execution_count": null
    },
    {
      "cell_type": "code",
      "outputs": [],
      "source": [
        "discipline_entities_mapping_dict = {name: i for i, name in enumerate(discipline_entities.title.unique())}"
      ],
      "metadata": {
        "ExecuteTime": {
          "end_time": "2024-03-26T10:06:37.887537600Z",
          "start_time": "2024-03-26T10:06:37.820551500Z"
        },
        "id": "C5Udd4eKERpV"
      },
      "execution_count": null
    },
    {
      "cell_type": "code",
      "outputs": [
        {
          "data": {
            "text/plain": "548"
          },
          "execution_count": 73,
          "metadata": {},
          "output_type": "execute_result"
        }
      ],
      "source": [
        "discipline_entities_mapping_dict[\"Оптика плазмы\"]"
      ],
      "metadata": {
        "ExecuteTime": {
          "end_time": "2024-03-26T10:10:52.834900500Z",
          "start_time": "2024-03-26T10:10:52.731658300Z"
        },
        "id": "l86G9TPrERpV",
        "outputId": "7ac992a6-a813-4bc9-8211-5b41a1bdfbae"
      },
      "execution_count": null
    },
    {
      "cell_type": "code",
      "outputs": [],
      "source": [
        "discipline_entities[\"title_id\"] = discipline_entities.title.map(discipline_entities_mapping_dict)"
      ],
      "metadata": {
        "ExecuteTime": {
          "end_time": "2024-03-26T10:11:28.605372500Z",
          "start_time": "2024-03-26T10:11:28.517329700Z"
        },
        "id": "19LamahwERpV"
      },
      "execution_count": null
    },
    {
      "cell_type": "markdown",
      "source": [
        "**Напишем класс датасета, методы для обучения и тестирования**"
      ],
      "metadata": {
        "collapsed": false,
        "id": "W5unyrenERpV"
      }
    },
    {
      "cell_type": "code",
      "outputs": [],
      "source": [
        "class TransformerDataset(Dataset):\n",
        "    def __init__(self, dataframe, tokenizer, max_len):\n",
        "        self.data = dataframe\n",
        "        self.tokenizer = tokenizer\n",
        "        self.max_len = max_len\n",
        "\n",
        "    def __getitem__(self, index):\n",
        "        text = str(self.data.processed_text.iloc[index])\n",
        "        inputs = self.tokenizer.encode_plus(\n",
        "            text,\n",
        "            None,\n",
        "            add_special_tokens=True,\n",
        "            max_length=self.max_len,\n",
        "            pad_to_max_length=True,\n",
        "            return_token_type_ids=True,\n",
        "            truncation=True\n",
        "        )\n",
        "        ids = inputs[\"input_ids\"]\n",
        "        mask = inputs[\"attention_mask\"]\n",
        "\n",
        "        return {\n",
        "            \"ids\": torch.tensor(ids, dtype=torch.long),\n",
        "            \"mask\": torch.tensor(mask, dtype=torch.long),\n",
        "            \"targets\": torch.tensor(self.data.title_id.iloc[index], dtype=torch.long)\n",
        "        }\n",
        "\n",
        "    def __len__(self):\n",
        "        return self.data.shape[0]"
      ],
      "metadata": {
        "ExecuteTime": {
          "end_time": "2024-03-26T15:08:22.808304500Z",
          "start_time": "2024-03-26T15:08:22.703643300Z"
        },
        "id": "Ct7yL8VPERpV"
      },
      "execution_count": null
    },
    {
      "cell_type": "code",
      "outputs": [],
      "source": [
        "def train_val_split(data: pd.DataFrame, batch_size: int, tokenizer: PreTrainedTokenizer,\n",
        "                    max_len: int = 512) -> Tuple[DataLoader, DataLoader]:\n",
        "    train_data, val_data = train_test_split(\n",
        "        data[[\"processed_text\", \"title_id\"]], test_size=0.2, random_state=0, stratify=data.title_id\n",
        "    )\n",
        "\n",
        "    train_dataset = TransformerDataset(train_data, tokenizer, max_len)\n",
        "    train_loader = DataLoader(train_dataset, batch_size=batch_size, shuffle=True)\n",
        "\n",
        "    val_dataset = TransformerDataset(val_data, tokenizer, max_len)\n",
        "    val_loader = DataLoader(val_dataset, batch_size=batch_size, shuffle=False)\n",
        "\n",
        "    print(f\"Объём train: {len(train_loader)},\\n\"\n",
        "          f\"Объём validation: {len(val_loader)}\")\n",
        "\n",
        "    return train_loader, val_loader\n",
        "\n",
        "def train_val_model(model: nn.Module,\n",
        "                    train_loader: DataLoader,\n",
        "                    val_loader: DataLoader,\n",
        "                    criterion: nn.CrossEntropyLoss,\n",
        "                    optimizer: optim.Adam,\n",
        "                    epochs: int,\n",
        "                    save_model_path: Path) -> Tuple[np.array, np.array]:\n",
        "\n",
        "    train_losses = np.array([])\n",
        "    val_losses = np.array([])\n",
        "\n",
        "    for epoch in tqdm(range(epochs)):\n",
        "        model.train()\n",
        "        running_loss = 0\n",
        "        for batch in train_loader:\n",
        "            inputs, masks, labels = batch[\"ids\"], batch[\"mask\"], batch[\"targets\"]\n",
        "            inputs, masks, labels = inputs.to(device), masks.to(device), labels.to(device)\n",
        "            optimizer.zero_grad()\n",
        "            outputs = model(inputs, masks)\n",
        "            loss = criterion(outputs, labels.view(-1))\n",
        "            loss.backward()\n",
        "            optimizer.step()\n",
        "            running_loss += loss.item()\n",
        "\n",
        "        train_loss = running_loss / len(train_loader)\n",
        "        train_losses = np.append(train_losses, train_loss)\n",
        "\n",
        "        model.eval()\n",
        "        running_loss = 0\n",
        "        with torch.no_grad():\n",
        "            for batch in val_loader:\n",
        "                inputs, masks, labels = batch[\"ids\"], batch[\"mask\"], batch[\"targets\"]\n",
        "                inputs, masks, labels = inputs.to(device), masks.to(device), labels.to(device)\n",
        "                outputs = model(inputs, masks)\n",
        "                loss = criterion(outputs, labels.view(-1))\n",
        "                running_loss += loss.item()\n",
        "\n",
        "        val_loss = running_loss / len(val_loader)\n",
        "        if val_losses.size == 0 or np.min(val_losses) >= val_loss:\n",
        "            torch.save(model.state_dict(), save_model_path)\n",
        "\n",
        "        val_losses = np.append(val_losses, val_loss)\n",
        "\n",
        "        print(f\"Epoch {epoch + 1}/{epochs}: Train Loss: {train_loss:.4f}, Val Loss: {val_loss:.4f}\")\n",
        "\n",
        "    return train_losses, val_losses\n",
        "\n",
        "def plot_train_val_loss(train_losses: np.array, val_losses: np.array) -> None:\n",
        "    epochs = range(1, len(train_losses) + 1)\n",
        "\n",
        "    plt.plot(epochs, train_losses, label=\"Train Loss\")\n",
        "    plt.plot(epochs, val_losses, label=\"Validation Loss\")\n",
        "    plt.xlabel(\"Epochs\")\n",
        "    plt.ylabel(\"Loss\")\n",
        "    plt.title(\"Train/Val Loss by Epochs\")\n",
        "    plt.legend()\n",
        "    plt.show()\n",
        "\n",
        "def test_model(model: nn.Module,\n",
        "               test_loader: DataLoader,\n",
        "               criterion: nn.CrossEntropyLoss) -> Tuple[np.array, np.array]:\n",
        "\n",
        "    test_loss = 0\n",
        "    y_true = np.array([])\n",
        "    y_pred = np.array([])\n",
        "\n",
        "    model.eval()\n",
        "    with torch.no_grad():\n",
        "        for batch in test_loader:\n",
        "            inputs, masks, labels = batch[\"ids\"], batch[\"mask\"], batch[\"targets\"]\n",
        "            inputs, masks, labels = inputs.to(device), masks.to(device), labels.to(device)\n",
        "            outputs = model(inputs, masks)\n",
        "            loss = criterion(outputs, labels.view(-1))\n",
        "            test_loss += loss.item()\n",
        "\n",
        "            _, predicted = torch.max(outputs, 1)\n",
        "            y_true = np.append(y_true, labels.cpu().numpy())\n",
        "            y_pred = np.append(y_pred, predicted.cpu().numpy())\n",
        "\n",
        "        avg_test_loss = test_loss / len(test_loader)\n",
        "        print(f\"Test Loss: {avg_test_loss:.4f}\")\n",
        "        return y_true, y_pred\n",
        "\n",
        "def format_predicted_class_df(y_true: np.array, y_pred: np.array, mapping_dict: Dict[str, int]) -> pd.DataFrame:\n",
        "    predicted_class = pd.DataFrame()\n",
        "\n",
        "    predicted_class[\"it_service_id_true\"] = y_true\n",
        "    predicted_class.it_service_id_true = predicted_class.it_service_id_true.map({v: k for k, v in mapping_dict.items()})\n",
        "\n",
        "    predicted_class[\"it_service_id_pred\"] = y_pred\n",
        "    predicted_class.it_service_id_pred = predicted_class.it_service_id_pred.map({v: k for k, v in mapping_dict.items()})\n",
        "\n",
        "    return predicted_class"
      ],
      "metadata": {
        "ExecuteTime": {
          "end_time": "2024-03-26T15:08:23.449966200Z",
          "start_time": "2024-03-26T15:08:23.330584900Z"
        },
        "id": "JS9gWfB1ERpV"
      },
      "execution_count": null
    },
    {
      "cell_type": "markdown",
      "source": [
        "**Инициализируем токенайзер, гиперпараметры**"
      ],
      "metadata": {
        "collapsed": false,
        "id": "VUkm1ZVgERpV"
      }
    },
    {
      "cell_type": "code",
      "outputs": [],
      "source": [
        "tokenizer = DistilBertTokenizerFast.from_pretrained(\"DeepPavlov/distilrubert-small-cased-conversational\")"
      ],
      "metadata": {
        "ExecuteTime": {
          "end_time": "2024-03-26T10:07:13.674066300Z",
          "start_time": "2024-03-26T10:07:12.773881900Z"
        },
        "id": "Z4fgtHdZERpV"
      },
      "execution_count": null
    },
    {
      "cell_type": "code",
      "outputs": [],
      "source": [
        "BATCH_SIZE = 4\n",
        "NUM_LABELS_DISCIPLINE_DATA = len(discipline_data_mapping_dict)\n",
        "NUM_LABELS_DISCIPLINE_ENTITIES = len(discipline_entities_mapping_dict)\n",
        "LEARNING_RATE = 10 ** -5\n",
        "NUM_EPOCHS = 5\n",
        "INPUT_SIZE = 768\n",
        "HIDDEN_SIZE = 768\n",
        "DROPOUT = 0.4"
      ],
      "metadata": {
        "ExecuteTime": {
          "end_time": "2024-03-26T10:09:21.758178200Z",
          "start_time": "2024-03-26T10:09:21.671335500Z"
        },
        "id": "527Sbw_nERpV"
      },
      "execution_count": null
    },
    {
      "cell_type": "markdown",
      "source": [
        "**Разобьём данные на train / val**\n",
        "\n",
        "Не будем использовать test, т.к. из-за большого количества мелких классов он должен быть большого объёма. Протестируем на валидационной выборке после обучения."
      ],
      "metadata": {
        "collapsed": false,
        "id": "03jW-z1xERpW"
      }
    },
    {
      "cell_type": "code",
      "outputs": [
        {
          "name": "stdout",
          "output_type": "stream",
          "text": [
            "Объём train: 4114,\n",
            "Объём validation: 1029\n"
          ]
        }
      ],
      "source": [
        "train_loader_data, val_loader_data = train_val_split(discipline_data, BATCH_SIZE, tokenizer)"
      ],
      "metadata": {
        "ExecuteTime": {
          "end_time": "2024-03-26T10:18:58.506039900Z",
          "start_time": "2024-03-26T10:18:58.459196Z"
        },
        "id": "NPTsE-aFERpW",
        "outputId": "c68e920c-e064-47e6-afd3-2a3b4456edc5"
      },
      "execution_count": null
    },
    {
      "cell_type": "code",
      "outputs": [
        {
          "name": "stdout",
          "output_type": "stream",
          "text": [
            "Объём train: 4524,\n",
            "Объём validation: 1131\n"
          ]
        }
      ],
      "source": [
        "train_loader_entities, val_loader_entities = train_val_split(discipline_entities, BATCH_SIZE, tokenizer)"
      ],
      "metadata": {
        "ExecuteTime": {
          "end_time": "2024-03-26T10:18:59.338744700Z",
          "start_time": "2024-03-26T10:18:59.217673700Z"
        },
        "id": "EBAhAFMxERpW",
        "outputId": "8121f16f-0ecd-4438-9c0b-e1cb25ed6da4"
      },
      "execution_count": null
    },
    {
      "cell_type": "markdown",
      "source": [
        "**Напишем класс трансформера**"
      ],
      "metadata": {
        "collapsed": false,
        "id": "WnvTtucoERpW"
      }
    },
    {
      "cell_type": "code",
      "outputs": [],
      "source": [
        "class DistilBertClassifier(nn.Module):\n",
        "    def __init__(self, input_size: int, hidden_size: int, output_size: int, dropout: float):\n",
        "        super(DistilBertClassifier, self).__init__()\n",
        "        self.transformer = DistilBertModel.from_pretrained(\"DeepPavlov/distilrubert-small-cased-conversational\")\n",
        "        self.pre_classifier = nn.Linear(input_size, hidden_size)\n",
        "        self.relu = nn.ReLU()\n",
        "        self.dropout = nn.Dropout(dropout)\n",
        "        self.fc = nn.Linear(hidden_size, output_size)\n",
        "\n",
        "    def forward(self, input_ids, attention_mask):\n",
        "        out = self.transformer(input_ids=input_ids, attention_mask=attention_mask)\n",
        "        out = out[0][:, 0]\n",
        "        out = self.pre_classifier(out)\n",
        "        out = self.relu(out)\n",
        "        out = self.dropout(out)\n",
        "        return self.fc(out)"
      ],
      "metadata": {
        "ExecuteTime": {
          "end_time": "2024-03-26T15:19:09.003619300Z",
          "start_time": "2024-03-26T15:19:08.930689500Z"
        },
        "id": "ZACZdKcmERpW"
      },
      "execution_count": null
    },
    {
      "cell_type": "code",
      "outputs": [],
      "source": [
        "criterion = nn.CrossEntropyLoss()"
      ],
      "metadata": {
        "ExecuteTime": {
          "end_time": "2024-03-26T10:25:08.118772Z",
          "start_time": "2024-03-26T10:25:08.062220Z"
        },
        "id": "UJBX7So1ERpW"
      },
      "execution_count": null
    },
    {
      "cell_type": "code",
      "outputs": [],
      "source": [
        "model_data = DistilBertClassifier(INPUT_SIZE, HIDDEN_SIZE, NUM_LABELS_DISCIPLINE_DATA, DROPOUT).to(device)\n",
        "optimizer_data = optim.Adam(model_data.parameters(), lr=LEARNING_RATE)"
      ],
      "metadata": {
        "ExecuteTime": {
          "end_time": "2024-03-26T10:25:09.558994800Z",
          "start_time": "2024-03-26T10:25:08.730432400Z"
        },
        "id": "qXuZTDbYERpW"
      },
      "execution_count": null
    },
    {
      "cell_type": "code",
      "outputs": [
        {
          "data": {
            "text/plain": "  0%|          | 0/5 [00:00<?, ?it/s]",
            "application/vnd.jupyter.widget-view+json": {
              "version_major": 2,
              "version_minor": 0,
              "model_id": "6859f9f17f124bae9157fec7b1b51ace"
            }
          },
          "metadata": {},
          "output_type": "display_data"
        },
        {
          "name": "stdout",
          "output_type": "stream",
          "text": [
            "Epoch 1/5: Train Loss: 8.1651, Val Loss: 7.3609\n",
            "Epoch 2/5: Train Loss: 6.3315, Val Loss: 4.9047\n",
            "Epoch 3/5: Train Loss: 4.1953, Val Loss: 2.9716\n",
            "Epoch 4/5: Train Loss: 2.7233, Val Loss: 1.7755\n",
            "Epoch 5/5: Train Loss: 1.8536, Val Loss: 1.1187\n"
          ]
        }
      ],
      "source": [
        "save_model_path = Path(\"../models/26032024_data.pth\")\n",
        "\n",
        "train_losses, val_losses = train_val_model(\n",
        "    model_data, train_loader_data, val_loader_data, criterion,\n",
        "    optimizer_data, NUM_EPOCHS, save_model_path)"
      ],
      "metadata": {
        "ExecuteTime": {
          "end_time": "2024-03-26T10:53:10.926305500Z",
          "start_time": "2024-03-26T10:25:10.265242300Z"
        },
        "colab": {
          "referenced_widgets": [
            "6859f9f17f124bae9157fec7b1b51ace"
          ]
        },
        "id": "um1abudbERpW",
        "outputId": "9a8f20b6-3abd-4169-fede-ce078e0f7c01"
      },
      "execution_count": null
    },
    {
      "cell_type": "code",
      "outputs": [
        {
          "data": {
            "text/plain": "<Figure size 640x480 with 1 Axes>",
            "image/png": "[encoded data removed]"
          },
          "metadata": {},
          "output_type": "display_data"
        }
      ],
      "source": [
        "plot_train_val_loss(train_losses, val_losses)"
      ],
      "metadata": {
        "ExecuteTime": {
          "end_time": "2024-03-26T11:39:43.472192100Z",
          "start_time": "2024-03-26T11:39:43.313999Z"
        },
        "id": "099TYA1cERpW",
        "outputId": "2e54e7e3-e789-4914-cba4-87108bb4c5e4"
      },
      "execution_count": null
    },
    {
      "cell_type": "code",
      "outputs": [
        {
          "data": {
            "text/plain": "<All keys matched successfully>"
          },
          "execution_count": 106,
          "metadata": {},
          "output_type": "execute_result"
        }
      ],
      "source": [
        "load_model_path = Path(\"../models/26032024_data.pth\")\n",
        "\n",
        "model_data = DistilBertClassifier(INPUT_SIZE, HIDDEN_SIZE, NUM_LABELS_DISCIPLINE_DATA, DROPOUT).to(device)\n",
        "model_data.load_state_dict(torch.load(load_model_path))"
      ],
      "metadata": {
        "ExecuteTime": {
          "end_time": "2024-03-26T10:56:59.974617800Z",
          "start_time": "2024-03-26T10:56:58.464547400Z"
        },
        "id": "CH4ZEc22ERpW",
        "outputId": "22c3e3a4-055b-4a91-fb18-345f479621ab"
      },
      "execution_count": null
    },
    {
      "cell_type": "code",
      "outputs": [
        {
          "name": "stdout",
          "output_type": "stream",
          "text": [
            "Test Loss: 1.1187\n"
          ]
        }
      ],
      "source": [
        "y_test_data, y_pred_data = test_model(model_data, val_loader_data, criterion)"
      ],
      "metadata": {
        "ExecuteTime": {
          "end_time": "2024-03-26T10:58:16.979126900Z",
          "start_time": "2024-03-26T10:57:58.872159100Z"
        },
        "id": "p9jGHcWVERpX",
        "outputId": "f724a2f7-e15b-4565-d0ef-4c665a7f8496"
      },
      "execution_count": null
    },
    {
      "cell_type": "code",
      "source": [
        "report_data = classification_report(y_test_data, y_pred_data)\n",
        "print(report_data)"
      ],
      "metadata": {
        "id": "LLfwbccd00R1"
      },
      "execution_count": null,
      "outputs": []
    },
    {
      "cell_type": "markdown",
      "source": [
        "```\n",
        "accuracy     |      |      | 0.84 | 4114\n",
        "\n",
        "macro avg    | 0.77 | 0.84 | 0.79 | 4114\n",
        "\n",
        "weighted avg | 0.77 | 0.84 | 0.79 | 4114\n",
        "```"
      ],
      "metadata": {
        "id": "jnDfaSpC01vR"
      }
    },
    {
      "cell_type": "code",
      "outputs": [],
      "source": [
        "model_entities = DistilBertClassifier(INPUT_SIZE, HIDDEN_SIZE, NUM_LABELS_DISCIPLINE_ENTITIES, DROPOUT).to(device)\n",
        "optimizer_entities = optim.Adam(model_entities.parameters(), lr=LEARNING_RATE)"
      ],
      "metadata": {
        "ExecuteTime": {
          "end_time": "2024-03-26T11:00:31.259640700Z",
          "start_time": "2024-03-26T11:00:30.162051500Z"
        },
        "id": "0llXJFdtERpX"
      },
      "execution_count": null
    },
    {
      "cell_type": "code",
      "outputs": [
        {
          "data": {
            "text/plain": "  0%|          | 0/5 [00:00<?, ?it/s]",
            "application/vnd.jupyter.widget-view+json": {
              "version_major": 2,
              "version_minor": 0,
              "model_id": "a3001d8f79bc4992af694dc523462318"
            }
          },
          "metadata": {},
          "output_type": "display_data"
        },
        {
          "name": "stdout",
          "output_type": "stream",
          "text": [
            "Epoch 1/5: Train Loss: 8.2584, Val Loss: 7.4521\n",
            "Epoch 2/5: Train Loss: 6.3229, Val Loss: 4.7390\n",
            "Epoch 3/5: Train Loss: 3.9434, Val Loss: 2.6399\n",
            "Epoch 4/5: Train Loss: 2.4311, Val Loss: 1.5160\n",
            "Epoch 5/5: Train Loss: 1.5971, Val Loss: 0.9458\n"
          ]
        }
      ],
      "source": [
        "save_model_path = Path(\"../models/26032024_entities.pth\")\n",
        "\n",
        "train_losses_entities, val_losses_entities = train_val_model(\n",
        "    model_entities, train_loader_entities, val_loader_entities, criterion,\n",
        "    optimizer_entities, NUM_EPOCHS, save_model_path)"
      ],
      "metadata": {
        "ExecuteTime": {
          "end_time": "2024-03-26T11:31:58.523468400Z",
          "start_time": "2024-03-26T11:00:52.812164600Z"
        },
        "colab": {
          "referenced_widgets": [
            "a3001d8f79bc4992af694dc523462318"
          ]
        },
        "id": "sJ-DoRxxERpX",
        "outputId": "886091af-073e-415d-ad36-3dc537edee7f"
      },
      "execution_count": null
    },
    {
      "cell_type": "code",
      "outputs": [
        {
          "data": {
            "text/plain": "<Figure size 640x480 with 1 Axes>",
            "image/png": "[encoded data removed]"
          },
          "metadata": {},
          "output_type": "display_data"
        }
      ],
      "source": [
        "plot_train_val_loss(train_losses_entities, val_losses_entities)"
      ],
      "metadata": {
        "ExecuteTime": {
          "end_time": "2024-03-26T11:39:35.262619400Z",
          "start_time": "2024-03-26T11:39:35.114189800Z"
        },
        "id": "VgvB7BN9ERpX",
        "outputId": "e0b5ae96-41bb-4fbd-e2ff-2f0b477b07ae"
      },
      "execution_count": null
    },
    {
      "cell_type": "code",
      "outputs": [
        {
          "data": {
            "text/plain": "<All keys matched successfully>"
          },
          "execution_count": 115,
          "metadata": {},
          "output_type": "execute_result"
        }
      ],
      "source": [
        "load_model_path = Path(\"../models/26032024_entities.pth\")\n",
        "\n",
        "model_entities = DistilBertClassifier(INPUT_SIZE, HIDDEN_SIZE, NUM_LABELS_DISCIPLINE_ENTITIES, DROPOUT).to(device)\n",
        "model_entities.load_state_dict(torch.load(load_model_path))"
      ],
      "metadata": {
        "ExecuteTime": {
          "end_time": "2024-03-26T11:39:51.098559800Z",
          "start_time": "2024-03-26T11:39:49.338075200Z"
        },
        "id": "HbsR1cFFERpX",
        "outputId": "6c3ed4fd-fac0-4470-a902-87eaebb6fb9f"
      },
      "execution_count": null
    },
    {
      "cell_type": "code",
      "outputs": [
        {
          "name": "stdout",
          "output_type": "stream",
          "text": [
            "Test Loss: 0.9458\n"
          ]
        }
      ],
      "source": [
        "y_test_entities, y_pred_entities = test_model(model_entities, val_loader_entities, criterion)"
      ],
      "metadata": {
        "ExecuteTime": {
          "end_time": "2024-03-26T11:40:12.113302100Z",
          "start_time": "2024-03-26T11:39:51.989914600Z"
        },
        "id": "SRMAOZsLERpX",
        "outputId": "bba3b72d-35e6-4137-e5b3-7a194181fad8"
      },
      "execution_count": null
    },
    {
      "cell_type": "code",
      "source": [
        "report_data_entities = classification_report(y_test_entities, y_pred_entities)\n",
        "print(report_data_entities)"
      ],
      "metadata": {
        "id": "cLd-9hHS16sX"
      },
      "execution_count": null,
      "outputs": []
    },
    {
      "cell_type": "markdown",
      "source": [
        "```\n",
        "accuracy     |      |      | 0.85 | 4524\n",
        "macro avg    | 0.79 | 0.85 | 0.81 | 4524\n",
        "weighted avg | 0.78 | 0.85 | 0.80 | 4524\n",
        "```"
      ],
      "metadata": {
        "id": "E0_4vRaz178X"
      }
    },
    {
      "cell_type": "markdown",
      "source": [
        "**Итог**\n",
        "\n",
        "Получили отличное качество по accuracy у моделей. К сожалению, из-за нехватки времени я недообучил модель, это видно по графикам."
      ],
      "metadata": {
        "collapsed": false,
        "id": "NPxgPd40ERpX"
      }
    },
    {
      "cell_type": "markdown",
      "source": [
        "**Напишем класс поиска**"
      ],
      "metadata": {
        "collapsed": false,
        "id": "lhxw-b2DERpX"
      }
    },
    {
      "cell_type": "code",
      "outputs": [],
      "source": [
        "class TransformerSearchEngine(ISearchEngine):\n",
        "    _PREPROCESSING_CONFIG_PATH = \"../configs/preprocessing.yaml\"\n",
        "    _TOKENIZER_MAX_LEN = 512\n",
        "    _MODEL_NAME = \"DeepPavlov/distilrubert-small-cased-conversational\"\n",
        "    _INPUT_SIZE = 768\n",
        "    _HIDDEN_SIZE = 768\n",
        "    _DROPOUT = 0.4\n",
        "\n",
        "    def __init__(self, dataset: pd.DataFrame, document_column: str, model_path: str):\n",
        "        if document_column not in dataset.columns:\n",
        "            raise ValueError(\"Column is not in dataset\")\n",
        "\n",
        "        if not os.path.isfile(model_path):\n",
        "            raise FileNotFoundError(\"Model file not found\")\n",
        "\n",
        "        self._dataset = dataset\n",
        "        self._document_column = document_column\n",
        "\n",
        "        self._text_processor = DataProcessor(YAMLConfigParser(self._PREPROCESSING_CONFIG_PATH))\n",
        "        self._mapping_dict = {name: i for i, name in enumerate(self._dataset[self._document_column].unique())}\n",
        "\n",
        "        self._tokenizer = DistilBertTokenizerFast.from_pretrained(self._MODEL_NAME)\n",
        "        self._model = DistilBertClassifier(self._INPUT_SIZE, self._HIDDEN_SIZE, len(self._mapping_dict), self._DROPOUT).to(device)\n",
        "        self._model.load_state_dict(torch.load(model_path))\n",
        "        self._model.eval()\n",
        "\n",
        "    def search_course(self, prompt: str, n: int)-> List[str]:\n",
        "        preprocessed_prompt = self._preprocess_prompt_text(prompt)\n",
        "        predict_df = pd.DataFrame.from_dict({\"processed_text\": [preprocessed_prompt], \"title_id\": [0]})\n",
        "        predict_dataset = TransformerDataset(predict_df, self._tokenizer, self._TOKENIZER_MAX_LEN)\n",
        "        predict_dataloader = DataLoader(predict_dataset, shuffle=False)\n",
        "        with torch.no_grad():\n",
        "            _, batch = next(enumerate(predict_dataloader))\n",
        "            inputs, masks = batch[\"ids\"], batch[\"mask\"]\n",
        "            inputs, masks = inputs.to(device), masks.to(device)\n",
        "            outputs = self._model(inputs, masks)\n",
        "            confidence, predicted = torch.topk(outputs, k=n, dim=1)\n",
        "\n",
        "        predicted_classes, confidence_scores = predicted.cpu().numpy()[0], confidence.cpu().numpy()[0]\n",
        "        results = [(\n",
        "            list(self._mapping_dict.keys())[list(self._mapping_dict.values()).index(predicted_class)],\n",
        "            confidence_score\n",
        "        ) for predicted_class, confidence_score in zip(predicted_classes, confidence_scores)]\n",
        "        return [item[0] for item in sorted(results, key=lambda t: t[1])[:n]]\n",
        "\n",
        "    def _preprocess_prompt_text(self, text: str) -> str:\n",
        "        return self._text_processor.process_single_text(text)"
      ],
      "metadata": {
        "ExecuteTime": {
          "end_time": "2024-03-26T15:11:24.637938200Z",
          "start_time": "2024-03-26T15:11:24.564776300Z"
        },
        "id": "BDVTDv8oERpX"
      },
      "execution_count": null
    },
    {
      "cell_type": "code",
      "outputs": [],
      "source": [
        "discipline_entities = pd.read_csv(\"../data/discipline_entities_train_22600.csv\", sep=\";\", encoding=\"utf-8\")"
      ],
      "metadata": {
        "ExecuteTime": {
          "end_time": "2024-03-26T12:14:38.905404800Z",
          "start_time": "2024-03-26T12:14:38.461577500Z"
        },
        "id": "p1w82yDGERpX"
      },
      "execution_count": null
    },
    {
      "cell_type": "code",
      "outputs": [],
      "source": [
        "test = TransformerSearchEngine(discipline_entities, \"title\", \"../models/26032024_entities.pth\")"
      ],
      "metadata": {
        "ExecuteTime": {
          "end_time": "2024-03-26T12:30:06.227107600Z",
          "start_time": "2024-03-26T12:30:04.343242Z"
        },
        "id": "Z2WsVzvkERpX"
      },
      "execution_count": null
    },
    {
      "cell_type": "code",
      "outputs": [
        {
          "data": {
            "text/plain": "['Актуальные вопросы информационных систем (часть 2) / Complementary Topics in the Area Information Systems (part 2)',\n 'Проектирование пользовательских интерфейсов',\n 'Управление разработкой agile',\n 'Управление разработкой программного обеспечения',\n 'Управление разработкой']"
          },
          "execution_count": 47,
          "metadata": {},
          "output_type": "execute_result"
        }
      ],
      "source": [
        "test.search_course(\"Тестирование мобильных человеко-ориентированных систем\", 5)"
      ],
      "metadata": {
        "ExecuteTime": {
          "end_time": "2024-03-26T12:30:24.589516400Z",
          "start_time": "2024-03-26T12:30:24.497345Z"
        },
        "id": "8ZLFS3ErERpX",
        "outputId": "6bc9eb75-0af5-4fe2-8309-2b4eefa2388f"
      },
      "execution_count": null
    },
    {
      "cell_type": "markdown",
      "source": [
        "**Итог**\n",
        "\n",
        "Получили функциональный поиск с transformer, попробуем протестировать его."
      ],
      "metadata": {
        "collapsed": false,
        "id": "5Bzvh0A5ERpY"
      }
    },
    {
      "cell_type": "markdown",
      "source": [
        "### Тестирование"
      ],
      "metadata": {
        "collapsed": false,
        "id": "VqT0Txk_ERpY"
      }
    },
    {
      "cell_type": "code",
      "outputs": [],
      "source": [
        "class TransformerTestEngine(ITestEngine):\n",
        "    def __init__(self, dataset: pd.DataFrame, document_column: str, terms_column: str, search_engine: TransformerSearchEngine):\n",
        "        if not any(column in dataset.columns for column in [terms_column, document_column]):\n",
        "            raise ValueError(\"Columns are not in dataset\")\n",
        "\n",
        "        self._dataset = dataset\n",
        "        self._document_column = document_column\n",
        "        self._terms_column = terms_column\n",
        "        self._search_engine = search_engine\n",
        "\n",
        "        self._test_samples = self._create_test_samples()\n",
        "\n",
        "    def get_evaluation_report(self) -> Dict[str, float]:\n",
        "        PREDICTION_COUNT = 10\n",
        "        y_true = []\n",
        "        y_pred = []\n",
        "        start_time = time()\n",
        "        for true_label, prompt in self._test_samples:\n",
        "            try:\n",
        "                y_pred.append(self._search_engine.search_course(prompt, PREDICTION_COUNT))\n",
        "                y_true.append(true_label)\n",
        "            except Exception as _:\n",
        "                pass\n",
        "\n",
        "        execution_time = time() - start_time\n",
        "\n",
        "        return {\n",
        "            \"execution_time\": execution_time,\n",
        "            \"accuracy\": accuracy_score(y_true, y_pred),\n",
        "            \"mrr_5\": mrr_score(y_true, y_pred, 5),\n",
        "            \"mrr_10\": mrr_score(y_true, y_pred, 10)\n",
        "        }\n",
        "\n",
        "    def _create_test_samples(self) -> List[Tuple[str, str]]:\n",
        "        CORRECT_TERMS_RATIO = 0.1\n",
        "        test_samples = []\n",
        "        for _, row in self._dataset.iterrows():\n",
        "            terms = row[self._terms_column].split()\n",
        "            target_len = int(len(terms) *CORRECT_TERMS_RATIO)\n",
        "            test_samples.append((row[self._document_column], \" \".join(terms[:target_len])))\n",
        "\n",
        "        return test_samples"
      ],
      "metadata": {
        "ExecuteTime": {
          "end_time": "2024-03-26T15:28:34.809660400Z",
          "start_time": "2024-03-26T15:28:34.657653500Z"
        },
        "id": "HL4Wk3qiERpY"
      },
      "execution_count": null
    },
    {
      "cell_type": "markdown",
      "source": [
        "**Discipline Data**"
      ],
      "metadata": {
        "collapsed": false,
        "id": "BOIWjf2xERpY"
      }
    },
    {
      "cell_type": "code",
      "outputs": [],
      "source": [
        "discipline_data = pd.read_csv(\"../data/discipline_data_train_20500.csv\", sep=\";\", encoding=\"utf-8\")\n",
        "discipline_data_test = pd.read_csv(\"../data/discipline_data_test_4100.csv\", sep=\";\", encoding=\"utf-8\")"
      ],
      "metadata": {
        "ExecuteTime": {
          "end_time": "2024-03-26T15:17:48.744421Z",
          "start_time": "2024-03-26T15:17:48.228377200Z"
        },
        "id": "-3vcjqOsERpY"
      },
      "execution_count": null
    },
    {
      "cell_type": "code",
      "outputs": [],
      "source": [
        "transformer_search_discipline_data = TransformerSearchEngine(discipline_data, \"title\", \"../models/26032024_data.pth\")\n",
        "transformer_test_discipline_data = TransformerTestEngine(discipline_data_test, \"title\", \"processed_text\", transformer_search_discipline_data)"
      ],
      "metadata": {
        "ExecuteTime": {
          "end_time": "2024-03-26T15:20:40.252917300Z",
          "start_time": "2024-03-26T15:20:37.825216400Z"
        },
        "id": "vjAypK4rERpY"
      },
      "execution_count": null
    },
    {
      "cell_type": "code",
      "outputs": [
        {
          "data": {
            "text/plain": "{'execution_time': 30.23901915550232,\n 'accuracy': 0.009722897423432183,\n 'mrr_5': 0.02448549667801005,\n 'mrr_10': 0.03968012824964687}"
          },
          "execution_count": 26,
          "metadata": {},
          "output_type": "execute_result"
        }
      ],
      "source": [
        "transformer_test_discipline_data.get_evaluation_report()"
      ],
      "metadata": {
        "ExecuteTime": {
          "end_time": "2024-03-26T15:21:11.177223800Z",
          "start_time": "2024-03-26T15:20:40.921932100Z"
        },
        "id": "EtLV7ShoERpY",
        "outputId": "8a0acb5c-92ae-4b77-8be3-bbd19fe9ed5f"
      },
      "execution_count": null
    },
    {
      "cell_type": "code",
      "outputs": [
        {
          "data": {
            "text/plain": "['Веб-технологии',\n 'Разработка веб-приложений',\n 'Web-программирование',\n 'Разработка графических веб-приложений',\n 'Компонентное веб программирование / Component web programming']"
          },
          "execution_count": 29,
          "metadata": {},
          "output_type": "execute_result"
        }
      ],
      "source": [
        "transformer_search_discipline_data.search_course(\"web development php javascript php building key application based program components или javascript mysql json data работа файла бд php сама работа ar dom основные типичные триггеры\", 5)"
      ],
      "metadata": {
        "ExecuteTime": {
          "end_time": "2024-03-26T15:23:46.316538800Z",
          "start_time": "2024-03-26T15:23:46.203177700Z"
        },
        "id": "zmLDl1wtERpY",
        "outputId": "8b9936c2-1683-4c02-edfa-b94d7d10eaab"
      },
      "execution_count": null
    },
    {
      "cell_type": "code",
      "outputs": [
        {
          "data": {
            "text/plain": "['Учебная, ознакомительная',\n 'Научно-исследовательская работа',\n 'Разработка виртуальных лабораторий и тренажеров',\n 'Научно-исследовательская работа / Research Internship',\n 'Анализ и оценка пользовательского опыта']"
          },
          "execution_count": 32,
          "metadata": {},
          "output_type": "execute_result"
        }
      ],
      "source": [
        "transformer_search_discipline_data.search_course(\"web development\", 5)"
      ],
      "metadata": {
        "ExecuteTime": {
          "end_time": "2024-03-26T15:25:23.248442100Z",
          "start_time": "2024-03-26T15:25:23.049128600Z"
        },
        "id": "AOI22crOERpY",
        "outputId": "4534a0f2-c79c-4c0a-9e86-0acecfe3e8a1"
      },
      "execution_count": null
    },
    {
      "cell_type": "markdown",
      "source": [
        "**Discipline Entities**"
      ],
      "metadata": {
        "collapsed": false,
        "id": "TlJH1a3-ERpY"
      }
    },
    {
      "cell_type": "code",
      "outputs": [],
      "source": [
        "discipline_entities = pd.read_csv(\"../data/discipline_entities_train_22600.csv\", sep=\";\", encoding=\"utf-8\")\n",
        "discipline_entities_test = pd.read_csv(\"../data/discipline_entities_test_4500.csv\", sep=\";\", encoding=\"utf-8\")"
      ],
      "metadata": {
        "ExecuteTime": {
          "end_time": "2024-03-26T15:25:51.967505300Z",
          "start_time": "2024-03-26T15:25:51.369124400Z"
        },
        "id": "irSx2WHuERpY"
      },
      "execution_count": null
    },
    {
      "cell_type": "code",
      "outputs": [],
      "source": [
        "transformer_search_discipline_entities = TransformerSearchEngine(discipline_entities, \"title\", \"../models/26032024_entities.pth\")\n",
        "transformer_test_discipline_entities = TransformerTestEngine(discipline_entities_test, \"title\", \"processed_text\", transformer_search_discipline_entities)"
      ],
      "metadata": {
        "ExecuteTime": {
          "end_time": "2024-03-26T15:29:54.109026200Z",
          "start_time": "2024-03-26T15:29:51.508861600Z"
        },
        "id": "BDNYvFkNERpY"
      },
      "execution_count": null
    },
    {
      "cell_type": "code",
      "outputs": [
        {
          "data": {
            "text/plain": "{'execution_time': 34.25285315513611,\n 'accuracy': 0.01237842617152962,\n 'mrr_5': 0.03470748600058945,\n 'mrr_10': 0.06068586585827936}"
          },
          "execution_count": 35,
          "metadata": {},
          "output_type": "execute_result"
        }
      ],
      "source": [
        "transformer_test_discipline_entities.get_evaluation_report()"
      ],
      "metadata": {
        "ExecuteTime": {
          "end_time": "2024-03-26T15:27:17.189422600Z",
          "start_time": "2024-03-26T15:26:42.916183300Z"
        },
        "id": "aQQovP2FERpZ",
        "outputId": "e88e62c2-0ebb-4d7e-df04-a79fce322942"
      },
      "execution_count": null
    },
    {
      "cell_type": "markdown",
      "source": [
        "**Итог**\n",
        "\n",
        "Получили отличную скорость благодаря работе на GPU. На CPU будет просадка в 50-100 раз.\n",
        "Качество поиска при выдаче полного теста было отличное, точность ~0.85, но при выдаче лишь части промпта, что является приближённым к сценарию использования, качество сильно падает и становится заметно хуже, чем у конкурентов."
      ],
      "metadata": {
        "collapsed": false,
        "id": "e1pLbPiHERpZ"
      }
    },
    {
      "cell_type": "markdown",
      "source": [
        "## Итоги по поиску\n",
        "\n",
        "Отобразим в виде датафрейма."
      ],
      "metadata": {
        "collapsed": false,
        "id": "Bc74E0A-ERpZ"
      }
    },
    {
      "cell_type": "code",
      "outputs": [
        {
          "data": {
            "text/plain": "                        name execution_time_per_sample  accuracy  mrr_5 mrr_10\n0               boolean_data                      0.01     0.366  0.427  0.429\n1           boolean_entities                     0.011     0.345  0.404  0.407\n2                 tfidf_data                      2.56     0.550  0.656  0.661\n3             tfidf_entities                      2.98     0.380  0.524  0.539\n4      transformer_data_test                      <NA>     0.840   <NA>   <NA>\n5           transformer_data                     0.007     0.097  0.024  0.039\n6  transformer_entities_test                      <NA>     0.850   <NA>   <NA>\n7       transformer_entities                     0.007     0.012  0.034   0.06",
            "text/html": "<div>\n<style scoped>\n    .dataframe tbody tr th:only-of-type {\n        vertical-align: middle;\n    }\n\n    .dataframe tbody tr th {\n        vertical-align: top;\n    }\n\n    .dataframe thead th {\n        text-align: right;\n    }\n</style>\n<table border=\"1\" class=\"dataframe\">\n  <thead>\n    <tr style=\"text-align: right;\">\n      <th></th>\n      <th>name</th>\n      <th>execution_time_per_sample</th>\n      <th>accuracy</th>\n      <th>mrr_5</th>\n      <th>mrr_10</th>\n    </tr>\n  </thead>\n  <tbody>\n    <tr>\n      <th>0</th>\n      <td>boolean_data</td>\n      <td>0.01</td>\n      <td>0.366</td>\n      <td>0.427</td>\n      <td>0.429</td>\n    </tr>\n    <tr>\n      <th>1</th>\n      <td>boolean_entities</td>\n      <td>0.011</td>\n      <td>0.345</td>\n      <td>0.404</td>\n      <td>0.407</td>\n    </tr>\n    <tr>\n      <th>2</th>\n      <td>tfidf_data</td>\n      <td>2.56</td>\n      <td>0.550</td>\n      <td>0.656</td>\n      <td>0.661</td>\n    </tr>\n    <tr>\n      <th>3</th>\n      <td>tfidf_entities</td>\n      <td>2.98</td>\n      <td>0.380</td>\n      <td>0.524</td>\n      <td>0.539</td>\n    </tr>\n    <tr>\n      <th>4</th>\n      <td>transformer_data_test</td>\n      <td>&lt;NA&gt;</td>\n      <td>0.840</td>\n      <td>&lt;NA&gt;</td>\n      <td>&lt;NA&gt;</td>\n    </tr>\n    <tr>\n      <th>5</th>\n      <td>transformer_data</td>\n      <td>0.007</td>\n      <td>0.097</td>\n      <td>0.024</td>\n      <td>0.039</td>\n    </tr>\n    <tr>\n      <th>6</th>\n      <td>transformer_entities_test</td>\n      <td>&lt;NA&gt;</td>\n      <td>0.850</td>\n      <td>&lt;NA&gt;</td>\n      <td>&lt;NA&gt;</td>\n    </tr>\n    <tr>\n      <th>7</th>\n      <td>transformer_entities</td>\n      <td>0.007</td>\n      <td>0.012</td>\n      <td>0.034</td>\n      <td>0.06</td>\n    </tr>\n  </tbody>\n</table>\n</div>"
          },
          "execution_count": 2,
          "metadata": {},
          "output_type": "execute_result"
        }
      ],
      "source": [
        "pd.DataFrame.from_dict({\n",
        "    \"name\": [\"boolean_data\", \"boolean_entities\", \"tfidf_data\", \"tfidf_entities\",\n",
        "             \"transformer_data_test\", \"transformer_data\", \"transformer_entities_test\", \"transformer_entities\"],\n",
        "    \"execution_time_per_sample\": [0.01, 0.011, 2.56, 2.98, pd.NA, 0.007, pd.NA, 0.007],\n",
        "    \"accuracy\": [0.366, 0.345, 0.55, 0.38, 0.84, 0.097, 0.85, 0.012],\n",
        "    \"mrr_5\": [0.427, 0.404, 0.656, 0.524, pd.NA, 0.024, pd.NA, 0.034],\n",
        "    \"mrr_10\": [0.429, 0.407, 0.661, 0.539, pd.NA, 0.039, pd.NA, 0.060]\n",
        "})"
      ],
      "metadata": {
        "ExecuteTime": {
          "end_time": "2024-03-26T17:48:38.411246400Z",
          "start_time": "2024-03-26T17:48:38.177188700Z"
        },
        "id": "_dmiuy_xERpZ",
        "outputId": "7fbd792d-331d-47e1-d59b-7bb0c3aa9db2"
      },
      "execution_count": null
    },
    {
      "cell_type": "markdown",
      "source": [
        "## Этап 7 - Генерация учебных сущностей по описанию\n",
        "\n",
        "Для генерации воспользуемся ChatGPT 3.5, сравнивать будем, векторизовав текущие данные с помощью sentence-transformer."
      ],
      "metadata": {
        "collapsed": false,
        "id": "pVHwgJLsERpZ"
      }
    },
    {
      "cell_type": "markdown",
      "source": [
        "**Используем следующий prompt**\n",
        "\n",
        "<img src=\"../reports/gpt.png\">"
      ],
      "metadata": {
        "collapsed": false,
        "id": "ZsgZlPNIERpZ"
      }
    },
    {
      "cell_type": "code",
      "outputs": [
        {
          "name": "stdout",
          "output_type": "stream",
          "text": [
            "Объём датасета: 8365\n"
          ]
        },
        {
          "data": {
            "text/plain": "         id                                       title qualification  \\\n3667  15257                 Физическое материаловедение      bachelor   \n1960  10865                                  Smart Grid      bachelor   \n2247  11840  Проектирование и анализ языков веб-решений        master   \n\n                                               raw_text  \\\n3667  Физическое материаловедение. Образовательная п...   \n1960  Smart Grid. В данной дисциплине, рассматривают...   \n2247  Проектирование и анализ языков веб-решений. Ди...   \n\n                                        author_entities  \n3667  [Фазовые диаграммы в сплавах, Рентгенографичес...  \n1960                 [Моделирование технических систем]  \n2247  [Язык программирования JavaScript, Язык XML и ...  ",
            "text/html": "<div>\n<style scoped>\n    .dataframe tbody tr th:only-of-type {\n        vertical-align: middle;\n    }\n\n    .dataframe tbody tr th {\n        vertical-align: top;\n    }\n\n    .dataframe thead th {\n        text-align: right;\n    }\n</style>\n<table border=\"1\" class=\"dataframe\">\n  <thead>\n    <tr style=\"text-align: right;\">\n      <th></th>\n      <th>id</th>\n      <th>title</th>\n      <th>qualification</th>\n      <th>raw_text</th>\n      <th>author_entities</th>\n    </tr>\n  </thead>\n  <tbody>\n    <tr>\n      <th>3667</th>\n      <td>15257</td>\n      <td>Физическое материаловедение</td>\n      <td>bachelor</td>\n      <td>Физическое материаловедение. Образовательная п...</td>\n      <td>[Фазовые диаграммы в сплавах, Рентгенографичес...</td>\n    </tr>\n    <tr>\n      <th>1960</th>\n      <td>10865</td>\n      <td>Smart Grid</td>\n      <td>bachelor</td>\n      <td>Smart Grid. В данной дисциплине, рассматривают...</td>\n      <td>[Моделирование технических систем]</td>\n    </tr>\n    <tr>\n      <th>2247</th>\n      <td>11840</td>\n      <td>Проектирование и анализ языков веб-решений</td>\n      <td>master</td>\n      <td>Проектирование и анализ языков веб-решений. Ди...</td>\n      <td>[Язык программирования JavaScript, Язык XML и ...</td>\n    </tr>\n  </tbody>\n</table>\n</div>"
          },
          "metadata": {},
          "output_type": "display_data"
        }
      ],
      "source": [
        "discipline_entities = pd.read_csv(\n",
        "    \"../data/disciplines_entities20230506.csv\", header=0,\n",
        "     names=[\"id\", \"title\", \"qualification\", \"raw_text\", \"author_entities\"]\n",
        ")\n",
        "discipline_entities.author_entities = discipline_entities.author_entities.apply(literal_eval)\n",
        "print(f\"Объём датасета: {discipline_entities.shape[0]}\")\n",
        "display(discipline_entities.sample(3))"
      ],
      "metadata": {
        "ExecuteTime": {
          "end_time": "2024-03-26T17:52:27.475564400Z",
          "start_time": "2024-03-26T17:52:27.013389100Z"
        },
        "id": "HdFIteIhERpZ",
        "outputId": "143ab771-5d21-4c96-dcb6-87af0285156b"
      },
      "execution_count": null
    },
    {
      "cell_type": "code",
      "outputs": [
        {
          "data": {
            "text/plain": "         id                                title qualification  \\\n1892  10615                   Методы оптимизации      bachelor   \n5478  18977                Математический анализ      bachelor   \n317    3408  Тепловые процессы машин и аппаратов      bachelor   \n\n                                               raw_text  \\\n1892  Методы оптимизации. Дисциплина направлена на м...   \n5478  Математический анализ. Математический анализ -...   \n317   Тепловые процессы машин и аппаратов. В ходе из...   \n\n                                        author_entities  \n1892  [Регуляризация, Методы оптимизации, Методы опт...  \n5478  [Умение применять методы математического анали...  \n317   [Термоэлектрические охладители, Термодинамичес...  ",
            "text/html": "<div>\n<style scoped>\n    .dataframe tbody tr th:only-of-type {\n        vertical-align: middle;\n    }\n\n    .dataframe tbody tr th {\n        vertical-align: top;\n    }\n\n    .dataframe thead th {\n        text-align: right;\n    }\n</style>\n<table border=\"1\" class=\"dataframe\">\n  <thead>\n    <tr style=\"text-align: right;\">\n      <th></th>\n      <th>id</th>\n      <th>title</th>\n      <th>qualification</th>\n      <th>raw_text</th>\n      <th>author_entities</th>\n    </tr>\n  </thead>\n  <tbody>\n    <tr>\n      <th>1892</th>\n      <td>10615</td>\n      <td>Методы оптимизации</td>\n      <td>bachelor</td>\n      <td>Методы оптимизации. Дисциплина направлена на м...</td>\n      <td>[Регуляризация, Методы оптимизации, Методы опт...</td>\n    </tr>\n    <tr>\n      <th>5478</th>\n      <td>18977</td>\n      <td>Математический анализ</td>\n      <td>bachelor</td>\n      <td>Математический анализ. Математический анализ -...</td>\n      <td>[Умение применять методы математического анали...</td>\n    </tr>\n    <tr>\n      <th>317</th>\n      <td>3408</td>\n      <td>Тепловые процессы машин и аппаратов</td>\n      <td>bachelor</td>\n      <td>Тепловые процессы машин и аппаратов. В ходе из...</td>\n      <td>[Термоэлектрические охладители, Термодинамичес...</td>\n    </tr>\n  </tbody>\n</table>\n</div>"
          },
          "execution_count": 6,
          "metadata": {},
          "output_type": "execute_result"
        }
      ],
      "source": [
        "discipline_entities.sample(3)"
      ],
      "metadata": {
        "ExecuteTime": {
          "end_time": "2024-03-26T17:55:09.885949300Z",
          "start_time": "2024-03-26T17:55:09.696297100Z"
        },
        "id": "cF7ueg1jERpZ",
        "outputId": "6a74c5ee-316e-4639-dbf2-2ac73c4c7800"
      },
      "execution_count": null
    },
    {
      "cell_type": "code",
      "outputs": [
        {
          "data": {
            "text/plain": "         id                                              title qualification  \\\n7027  21389       Основы светотехники и физиологической оптики        master   \n459    3893               Управление инновационными стартапами      bachelor   \n2501  12517  Перспективы направления применения криогенных ...        master   \n8128  24359  Research Seminar / Научно-исследовательский се...        master   \n5863  19647                   Моделирование технических систем      bachelor   \n7135  22242  Продвинутое МО (Python) и Автоматическая обраб...        master   \n912    4911  Технологии производства радиоэлектронной аппар...        master   \n8347  24945        Математические модели низкоразмерных систем        master   \n3672  15264                  Электродинамика и кристаллооптика      bachelor   \n1153   5567           Технологии продвижения интернет-проектов        master   \n\n                                               raw_text  \\\n7027  Основы светотехники и физиологической оптики. ...   \n459   Управление инновационными стартапами. Дисципли...   \n2501  Перспективы направления применения криогенных ...   \n8128  Research Seminar / Научно-исследовательский се...   \n5863  Моделирование технических систем. Дисциплина н...   \n7135  Продвинутое МО (Python) и Автоматическая обраб...   \n912   Технологии производства радиоэлектронной аппар...   \n8347  Математические модели низкоразмерных систем. К...   \n3672  Электродинамика и кристаллооптика. В результат...   \n1153  Технологии продвижения интернет-проектов. Эта ...   \n\n                                        author_entities  \n7027  [Фотометрические величины, Первичная обработка...  \n459   [Управление инновационными стартапами, Стартап...  \n2501  [Перспективы направления применения криогенных...  \n8128      [Hypothesis formulation of the research work]  \n5863  [Хаос, Устойчивость систем управления, Устойчи...  \n7135  [Zipf's Law, Vector semantics, TF*IDF Model, T...  \n912   [Электрический монтаж кристаллов интегральных ...  \n8347  [Низкоразмерные системы, Математическое модели...  \n3672  [Энергия магнитостатического поля, Электростат...  \n1153  [Структура медийной рекламы, Способы получения...  ",
            "text/html": "<div>\n<style scoped>\n    .dataframe tbody tr th:only-of-type {\n        vertical-align: middle;\n    }\n\n    .dataframe tbody tr th {\n        vertical-align: top;\n    }\n\n    .dataframe thead th {\n        text-align: right;\n    }\n</style>\n<table border=\"1\" class=\"dataframe\">\n  <thead>\n    <tr style=\"text-align: right;\">\n      <th></th>\n      <th>id</th>\n      <th>title</th>\n      <th>qualification</th>\n      <th>raw_text</th>\n      <th>author_entities</th>\n    </tr>\n  </thead>\n  <tbody>\n    <tr>\n      <th>7027</th>\n      <td>21389</td>\n      <td>Основы светотехники и физиологической оптики</td>\n      <td>master</td>\n      <td>Основы светотехники и физиологической оптики. ...</td>\n      <td>[Фотометрические величины, Первичная обработка...</td>\n    </tr>\n    <tr>\n      <th>459</th>\n      <td>3893</td>\n      <td>Управление инновационными стартапами</td>\n      <td>bachelor</td>\n      <td>Управление инновационными стартапами. Дисципли...</td>\n      <td>[Управление инновационными стартапами, Стартап...</td>\n    </tr>\n    <tr>\n      <th>2501</th>\n      <td>12517</td>\n      <td>Перспективы направления применения криогенных ...</td>\n      <td>master</td>\n      <td>Перспективы направления применения криогенных ...</td>\n      <td>[Перспективы направления применения криогенных...</td>\n    </tr>\n    <tr>\n      <th>8128</th>\n      <td>24359</td>\n      <td>Research Seminar / Научно-исследовательский се...</td>\n      <td>master</td>\n      <td>Research Seminar / Научно-исследовательский се...</td>\n      <td>[Hypothesis formulation of the research work]</td>\n    </tr>\n    <tr>\n      <th>5863</th>\n      <td>19647</td>\n      <td>Моделирование технических систем</td>\n      <td>bachelor</td>\n      <td>Моделирование технических систем. Дисциплина н...</td>\n      <td>[Хаос, Устойчивость систем управления, Устойчи...</td>\n    </tr>\n    <tr>\n      <th>7135</th>\n      <td>22242</td>\n      <td>Продвинутое МО (Python) и Автоматическая обраб...</td>\n      <td>master</td>\n      <td>Продвинутое МО (Python) и Автоматическая обраб...</td>\n      <td>[Zipf's Law, Vector semantics, TF*IDF Model, T...</td>\n    </tr>\n    <tr>\n      <th>912</th>\n      <td>4911</td>\n      <td>Технологии производства радиоэлектронной аппар...</td>\n      <td>master</td>\n      <td>Технологии производства радиоэлектронной аппар...</td>\n      <td>[Электрический монтаж кристаллов интегральных ...</td>\n    </tr>\n    <tr>\n      <th>8347</th>\n      <td>24945</td>\n      <td>Математические модели низкоразмерных систем</td>\n      <td>master</td>\n      <td>Математические модели низкоразмерных систем. К...</td>\n      <td>[Низкоразмерные системы, Математическое модели...</td>\n    </tr>\n    <tr>\n      <th>3672</th>\n      <td>15264</td>\n      <td>Электродинамика и кристаллооптика</td>\n      <td>bachelor</td>\n      <td>Электродинамика и кристаллооптика. В результат...</td>\n      <td>[Энергия магнитостатического поля, Электростат...</td>\n    </tr>\n    <tr>\n      <th>1153</th>\n      <td>5567</td>\n      <td>Технологии продвижения интернет-проектов</td>\n      <td>master</td>\n      <td>Технологии продвижения интернет-проектов. Эта ...</td>\n      <td>[Структура медийной рекламы, Способы получения...</td>\n    </tr>\n  </tbody>\n</table>\n</div>"
          },
          "execution_count": 4,
          "metadata": {},
          "output_type": "execute_result"
        }
      ],
      "source": [
        "entities_to_generate = discipline_entities.sample(10)\n",
        "entities_to_generate"
      ],
      "metadata": {
        "ExecuteTime": {
          "end_time": "2024-03-26T17:52:59.773129800Z",
          "start_time": "2024-03-26T17:52:59.621771900Z"
        },
        "id": "6j4qlTRpERpZ",
        "outputId": "436a91d8-0d8d-4de0-8c04-6bf04c27df98"
      },
      "execution_count": null
    },
    {
      "cell_type": "code",
      "outputs": [],
      "source": [
        "entities_to_generate.to_csv(\"../data/entities_to_generate.csv\", index=False, sep=\";\", encoding=\"utf-8\")"
      ],
      "metadata": {
        "ExecuteTime": {
          "end_time": "2024-03-26T17:54:45.896809500Z",
          "start_time": "2024-03-26T17:54:45.714569900Z"
        },
        "id": "6RogeWVdERpZ"
      },
      "execution_count": null
    },
    {
      "cell_type": "code",
      "outputs": [],
      "source": [
        "generated_entities = [\n",
        "        ['Основы светотехники', 'Физиологическая оптика', 'Фотометрические величины', 'Стандарты освещения', 'Взаимодействие света с веществом'],\n",
        "        ['Управление инновационными стартапами', 'Бизнес-модель стартапа', 'Стадии разработки стартапа', 'Проектный подход к управлению стартапом', 'Зарубежный опыт управления стартапом'],\n",
        "        ['Криогенные системы', 'Криогенные технологии', 'Криохирургия', 'Сверхпроводимость', 'Сжижение воздуха'],\n",
        "        ['Научно-исследовательский семинар', 'Разработка научной работы', 'Представление результатов исследования', 'Выбор темы исследования', 'Формулирование гипотезы'],\n",
        "        ['Моделирование технических систем', 'Дискретные системы управления', 'Искусственные нейронные сети', 'Линейные системы управления', 'Нелинейные системы управления'],\n",
        "        ['Продвинутое МО (Python)', 'Автоматическая обработка текстов', 'Метод главных компонент (PCA)', 'Метод опорных векторов (SVM)', 'Решающие деревья', 'Ансамбли моделей', 'Обучение с подкреплением', 'Информационный поиск', 'Классификация текстов', 'Лексические ресурсы', 'Семантическое моделирование', 'Вычислительный синтаксис'],\n",
        "        ['Технологии производства радиоэлектронной аппаратуры', 'Микроэлектроника', 'Полупроводниковые структуры', 'Интегральные микросхемы', 'Печатные платы', 'Многослойные печатные платы', 'Нанотехнологии', 'Методы контроля печатных плат', 'Тонкоплёночные интегральные схемы', 'Электрический монтаж кристаллов интегральных схем', 'Сборка и монтаж печатных плат'],\n",
        "        ['Математические модели низкоразмерных систем', 'Методы моделирования низкоразмерных систем', 'Низкоразмерные системы', 'Современные методы исследования низкоразмерных структур', 'Новые эффекты в наносистемах'],\n",
        "        ['Электродинамика и кристаллооптика', 'Математические модели', 'Электродинамика', 'Кристаллооптика', 'Уравнения Максвелла'],\n",
        "        ['Технологии продвижения интернет-проектов', 'Машинное обучение', 'Оптимизация контента', 'UX/UI оптимизация', 'Методы продвижения в вебе']\n",
        "]"
      ],
      "metadata": {
        "ExecuteTime": {
          "end_time": "2024-03-26T18:04:52.327855100Z",
          "start_time": "2024-03-26T18:04:52.199219400Z"
        },
        "id": "6T40tN43ERpZ"
      },
      "execution_count": null
    },
    {
      "cell_type": "code",
      "outputs": [],
      "source": [
        "entities_to_generate[\"generated_entities\"] = generated_entities"
      ],
      "metadata": {
        "ExecuteTime": {
          "end_time": "2024-03-26T18:05:10.360482300Z",
          "start_time": "2024-03-26T18:05:10.213262600Z"
        },
        "id": "FDT9DgQ-ERpZ"
      },
      "execution_count": null
    },
    {
      "cell_type": "code",
      "outputs": [
        {
          "data": {
            "text/plain": "         id                                              title qualification  \\\n7027  21389       Основы светотехники и физиологической оптики        master   \n459    3893               Управление инновационными стартапами      bachelor   \n2501  12517  Перспективы направления применения криогенных ...        master   \n8128  24359  Research Seminar / Научно-исследовательский се...        master   \n5863  19647                   Моделирование технических систем      bachelor   \n7135  22242  Продвинутое МО (Python) и Автоматическая обраб...        master   \n912    4911  Технологии производства радиоэлектронной аппар...        master   \n8347  24945        Математические модели низкоразмерных систем        master   \n3672  15264                  Электродинамика и кристаллооптика      bachelor   \n1153   5567           Технологии продвижения интернет-проектов        master   \n\n                                               raw_text  \\\n7027  Основы светотехники и физиологической оптики. ...   \n459   Управление инновационными стартапами. Дисципли...   \n2501  Перспективы направления применения криогенных ...   \n8128  Research Seminar / Научно-исследовательский се...   \n5863  Моделирование технических систем. Дисциплина н...   \n7135  Продвинутое МО (Python) и Автоматическая обраб...   \n912   Технологии производства радиоэлектронной аппар...   \n8347  Математические модели низкоразмерных систем. К...   \n3672  Электродинамика и кристаллооптика. В результат...   \n1153  Технологии продвижения интернет-проектов. Эта ...   \n\n                                        author_entities  \\\n7027  [Фотометрические величины, Первичная обработка...   \n459   [Управление инновационными стартапами, Стартап...   \n2501  [Перспективы направления применения криогенных...   \n8128      [Hypothesis formulation of the research work]   \n5863  [Хаос, Устойчивость систем управления, Устойчи...   \n7135  [Zipf's Law, Vector semantics, TF*IDF Model, T...   \n912   [Электрический монтаж кристаллов интегральных ...   \n8347  [Низкоразмерные системы, Математическое модели...   \n3672  [Энергия магнитостатического поля, Электростат...   \n1153  [Структура медийной рекламы, Способы получения...   \n\n                                     generated_entities  \n7027  [Основы светотехники, Физиологическая оптика, ...  \n459   [Управление инновационными стартапами, Бизнес-...  \n2501  [Криогенные системы, Криогенные технологии, Кр...  \n8128  [Научно-исследовательский семинар, Разработка ...  \n5863  [Моделирование технических систем, Дискретные ...  \n7135  [Продвинутое МО (Python), Автоматическая обраб...  \n912   [Технологии производства радиоэлектронной аппа...  \n8347  [Математические модели низкоразмерных систем, ...  \n3672  [Электродинамика и кристаллооптика, Математиче...  \n1153  [Технологии продвижения интернет-проектов, Маш...  ",
            "text/html": "<div>\n<style scoped>\n    .dataframe tbody tr th:only-of-type {\n        vertical-align: middle;\n    }\n\n    .dataframe tbody tr th {\n        vertical-align: top;\n    }\n\n    .dataframe thead th {\n        text-align: right;\n    }\n</style>\n<table border=\"1\" class=\"dataframe\">\n  <thead>\n    <tr style=\"text-align: right;\">\n      <th></th>\n      <th>id</th>\n      <th>title</th>\n      <th>qualification</th>\n      <th>raw_text</th>\n      <th>author_entities</th>\n      <th>generated_entities</th>\n    </tr>\n  </thead>\n  <tbody>\n    <tr>\n      <th>7027</th>\n      <td>21389</td>\n      <td>Основы светотехники и физиологической оптики</td>\n      <td>master</td>\n      <td>Основы светотехники и физиологической оптики. ...</td>\n      <td>[Фотометрические величины, Первичная обработка...</td>\n      <td>[Основы светотехники, Физиологическая оптика, ...</td>\n    </tr>\n    <tr>\n      <th>459</th>\n      <td>3893</td>\n      <td>Управление инновационными стартапами</td>\n      <td>bachelor</td>\n      <td>Управление инновационными стартапами. Дисципли...</td>\n      <td>[Управление инновационными стартапами, Стартап...</td>\n      <td>[Управление инновационными стартапами, Бизнес-...</td>\n    </tr>\n    <tr>\n      <th>2501</th>\n      <td>12517</td>\n      <td>Перспективы направления применения криогенных ...</td>\n      <td>master</td>\n      <td>Перспективы направления применения криогенных ...</td>\n      <td>[Перспективы направления применения криогенных...</td>\n      <td>[Криогенные системы, Криогенные технологии, Кр...</td>\n    </tr>\n    <tr>\n      <th>8128</th>\n      <td>24359</td>\n      <td>Research Seminar / Научно-исследовательский се...</td>\n      <td>master</td>\n      <td>Research Seminar / Научно-исследовательский се...</td>\n      <td>[Hypothesis formulation of the research work]</td>\n      <td>[Научно-исследовательский семинар, Разработка ...</td>\n    </tr>\n    <tr>\n      <th>5863</th>\n      <td>19647</td>\n      <td>Моделирование технических систем</td>\n      <td>bachelor</td>\n      <td>Моделирование технических систем. Дисциплина н...</td>\n      <td>[Хаос, Устойчивость систем управления, Устойчи...</td>\n      <td>[Моделирование технических систем, Дискретные ...</td>\n    </tr>\n    <tr>\n      <th>7135</th>\n      <td>22242</td>\n      <td>Продвинутое МО (Python) и Автоматическая обраб...</td>\n      <td>master</td>\n      <td>Продвинутое МО (Python) и Автоматическая обраб...</td>\n      <td>[Zipf's Law, Vector semantics, TF*IDF Model, T...</td>\n      <td>[Продвинутое МО (Python), Автоматическая обраб...</td>\n    </tr>\n    <tr>\n      <th>912</th>\n      <td>4911</td>\n      <td>Технологии производства радиоэлектронной аппар...</td>\n      <td>master</td>\n      <td>Технологии производства радиоэлектронной аппар...</td>\n      <td>[Электрический монтаж кристаллов интегральных ...</td>\n      <td>[Технологии производства радиоэлектронной аппа...</td>\n    </tr>\n    <tr>\n      <th>8347</th>\n      <td>24945</td>\n      <td>Математические модели низкоразмерных систем</td>\n      <td>master</td>\n      <td>Математические модели низкоразмерных систем. К...</td>\n      <td>[Низкоразмерные системы, Математическое модели...</td>\n      <td>[Математические модели низкоразмерных систем, ...</td>\n    </tr>\n    <tr>\n      <th>3672</th>\n      <td>15264</td>\n      <td>Электродинамика и кристаллооптика</td>\n      <td>bachelor</td>\n      <td>Электродинамика и кристаллооптика. В результат...</td>\n      <td>[Энергия магнитостатического поля, Электростат...</td>\n      <td>[Электродинамика и кристаллооптика, Математиче...</td>\n    </tr>\n    <tr>\n      <th>1153</th>\n      <td>5567</td>\n      <td>Технологии продвижения интернет-проектов</td>\n      <td>master</td>\n      <td>Технологии продвижения интернет-проектов. Эта ...</td>\n      <td>[Структура медийной рекламы, Способы получения...</td>\n      <td>[Технологии продвижения интернет-проектов, Маш...</td>\n    </tr>\n  </tbody>\n</table>\n</div>"
          },
          "execution_count": 9,
          "metadata": {},
          "output_type": "execute_result"
        }
      ],
      "source": [
        "entities_to_generate"
      ],
      "metadata": {
        "ExecuteTime": {
          "end_time": "2024-03-26T18:05:13.157168500Z",
          "start_time": "2024-03-26T18:05:12.988088300Z"
        },
        "id": "cTHXmrsfERpZ",
        "outputId": "f77ef162-d992-4ebd-fed2-84d78559fbf6"
      },
      "execution_count": null
    },
    {
      "cell_type": "code",
      "outputs": [],
      "source": [
        "entities_to_generate.to_csv(\"../data/entities_to_generate.csv\", index=False, sep=\";\", encoding=\"utf-8\")"
      ],
      "metadata": {
        "ExecuteTime": {
          "end_time": "2024-03-26T18:08:09.909488Z",
          "start_time": "2024-03-26T18:08:09.846758500Z"
        },
        "id": "kYLhlImnERpZ"
      },
      "execution_count": null
    },
    {
      "cell_type": "markdown",
      "source": [
        "**Составим средний вектор дисциплин**"
      ],
      "metadata": {
        "collapsed": false,
        "id": "dJmhP2woERpZ"
      }
    },
    {
      "cell_type": "code",
      "outputs": [],
      "source": [
        "from sentence_transformers import SentenceTransformer\n",
        "model = SentenceTransformer(\"distiluse-base-multilingual-cased-v1\")"
      ],
      "metadata": {
        "id": "-k9LFCKnERpZ"
      },
      "execution_count": null
    },
    {
      "cell_type": "code",
      "outputs": [],
      "source": [
        "data_processor = DataProcessor(YAMLConfigParser(\"../configs/preprocessing_transformer.yaml\"))"
      ],
      "metadata": {
        "ExecuteTime": {
          "end_time": "2024-03-26T18:09:36.045056400Z",
          "start_time": "2024-03-26T18:09:35.870539200Z"
        },
        "id": "bVmPLgjsERpZ"
      },
      "execution_count": null
    },
    {
      "cell_type": "code",
      "outputs": [],
      "source": [
        "def get_mean_vector(items: List[str]) -> List[float]:\n",
        "    item_vectors = np.array([model.encode(data_processor.process_single_text(sentence)) for sentence in items])\n",
        "    return np.mean(item_vectors, axis=0).tolist()"
      ],
      "metadata": {
        "ExecuteTime": {
          "end_time": "2024-03-26T18:11:54.287688600Z",
          "start_time": "2024-03-26T18:11:54.105258500Z"
        },
        "id": "tvREh7pBERpa"
      },
      "execution_count": null
    },
    {
      "cell_type": "code",
      "outputs": [
        {
          "name": "stdout",
          "output_type": "stream",
          "text": [
            "[0.014169921167194843, -0.011107522062957287, -0.038068972527980804, -0.0010716104879975319, -0.04602693393826485]\n",
            "[0.0038178390823304653, -0.005090594757348299, -0.019723830744624138, 0.011065121740102768, -0.015065954998135567]\n",
            "[0.024522002786397934, -0.017124449834227562, -0.05641411617398262, -0.013208342716097832, -0.07698791474103928]\n"
          ]
        }
      ],
      "source": [
        "print(get_mean_vector([\"привет\", \"мир\"])[:5])\n",
        "print(get_mean_vector([\"привет\"])[:5])\n",
        "print(get_mean_vector([\"мир\"])[:5])"
      ],
      "metadata": {
        "ExecuteTime": {
          "end_time": "2024-03-26T18:12:52.486455100Z",
          "start_time": "2024-03-26T18:12:52.285978500Z"
        },
        "id": "HTBCUdUTERpa",
        "outputId": "e9bf8a07-b64c-47a1-db64-ad191720d097"
      },
      "execution_count": null
    },
    {
      "cell_type": "code",
      "outputs": [],
      "source": [
        "entities_to_generate[\"author_mean_vector\"] = entities_to_generate.author_entities.apply(get_mean_vector)\n",
        "entities_to_generate[\"generated_mean_vector\"] = entities_to_generate.generated_entities.apply(get_mean_vector)"
      ],
      "metadata": {
        "ExecuteTime": {
          "end_time": "2024-03-26T18:14:56.414057500Z",
          "start_time": "2024-03-26T18:14:54.532125600Z"
        },
        "id": "EhNjtez6ERpa"
      },
      "execution_count": null
    },
    {
      "cell_type": "code",
      "outputs": [
        {
          "data": {
            "text/plain": "         id                                              title qualification  \\\n7027  21389       Основы светотехники и физиологической оптики        master   \n459    3893               Управление инновационными стартапами      bachelor   \n2501  12517  Перспективы направления применения криогенных ...        master   \n8128  24359  Research Seminar / Научно-исследовательский се...        master   \n5863  19647                   Моделирование технических систем      bachelor   \n7135  22242  Продвинутое МО (Python) и Автоматическая обраб...        master   \n912    4911  Технологии производства радиоэлектронной аппар...        master   \n8347  24945        Математические модели низкоразмерных систем        master   \n3672  15264                  Электродинамика и кристаллооптика      bachelor   \n1153   5567           Технологии продвижения интернет-проектов        master   \n\n                                               raw_text  \\\n7027  Основы светотехники и физиологической оптики. ...   \n459   Управление инновационными стартапами. Дисципли...   \n2501  Перспективы направления применения криогенных ...   \n8128  Research Seminar / Научно-исследовательский се...   \n5863  Моделирование технических систем. Дисциплина н...   \n7135  Продвинутое МО (Python) и Автоматическая обраб...   \n912   Технологии производства радиоэлектронной аппар...   \n8347  Математические модели низкоразмерных систем. К...   \n3672  Электродинамика и кристаллооптика. В результат...   \n1153  Технологии продвижения интернет-проектов. Эта ...   \n\n                                        author_entities  \\\n7027  [Фотометрические величины, Первичная обработка...   \n459   [Управление инновационными стартапами, Стартап...   \n2501  [Перспективы направления применения криогенных...   \n8128      [Hypothesis formulation of the research work]   \n5863  [Хаос, Устойчивость систем управления, Устойчи...   \n7135  [Zipf's Law, Vector semantics, TF*IDF Model, T...   \n912   [Электрический монтаж кристаллов интегральных ...   \n8347  [Низкоразмерные системы, Математическое модели...   \n3672  [Энергия магнитостатического поля, Электростат...   \n1153  [Структура медийной рекламы, Способы получения...   \n\n                                     generated_entities  \\\n7027  [Основы светотехники, Физиологическая оптика, ...   \n459   [Управление инновационными стартапами, Бизнес-...   \n2501  [Криогенные системы, Криогенные технологии, Кр...   \n8128  [Научно-исследовательский семинар, Разработка ...   \n5863  [Моделирование технических систем, Дискретные ...   \n7135  [Продвинутое МО (Python), Автоматическая обраб...   \n912   [Технологии производства радиоэлектронной аппа...   \n8347  [Математические модели низкоразмерных систем, ...   \n3672  [Электродинамика и кристаллооптика, Математиче...   \n1153  [Технологии продвижения интернет-проектов, Маш...   \n\n                                     author_mean_vector  \\\n7027  [-0.013136726804077625, 0.026863034814596176, ...   \n459   [0.011342816054821014, -0.0013189356541261077,...   \n2501  [0.030943678691983223, -0.006771647837013006, ...   \n8128  [0.024553649127483368, 0.0555807426571846, 0.0...   \n5863  [0.008502312935888767, 0.02092849090695381, 0....   \n7135  [-0.014860865660011768, 0.00885345321148634, -...   \n912   [-0.018292363733053207, -0.003311171429231763,...   \n8347  [0.012918466702103615, 0.0016160309314727783, ...   \n3672  [-0.010775228962302208, 0.011773093603551388, ...   \n1153  [-0.03085930459201336, 0.020093094557523727, -...   \n\n                                  generated_mean_vector  \n7027  [-0.013628440909087658, 0.020255792886018753, ...  \n459   [0.024528514593839645, 0.009194690734148026, 0...  \n2501  [-0.022648930549621582, 0.005444146692752838, ...  \n8128  [-0.027276661247015, 0.0496349036693573, 0.010...  \n5863  [0.00010108724382007495, 0.002031441079452634,...  \n7135  [-0.02926650643348694, 0.027800356969237328, 0...  \n912   [-0.011741843074560165, -0.01805954985320568, ...  \n8347  [-0.004665915854275227, 0.0023530079051852226,...  \n3672  [-0.015098698437213898, 0.01643996313214302, -...  \n1153  [-0.06111132353544235, 0.04358988255262375, 0....  ",
            "text/html": "<div>\n<style scoped>\n    .dataframe tbody tr th:only-of-type {\n        vertical-align: middle;\n    }\n\n    .dataframe tbody tr th {\n        vertical-align: top;\n    }\n\n    .dataframe thead th {\n        text-align: right;\n    }\n</style>\n<table border=\"1\" class=\"dataframe\">\n  <thead>\n    <tr style=\"text-align: right;\">\n      <th></th>\n      <th>id</th>\n      <th>title</th>\n      <th>qualification</th>\n      <th>raw_text</th>\n      <th>author_entities</th>\n      <th>generated_entities</th>\n      <th>author_mean_vector</th>\n      <th>generated_mean_vector</th>\n    </tr>\n  </thead>\n  <tbody>\n    <tr>\n      <th>7027</th>\n      <td>21389</td>\n      <td>Основы светотехники и физиологической оптики</td>\n      <td>master</td>\n      <td>Основы светотехники и физиологической оптики. ...</td>\n      <td>[Фотометрические величины, Первичная обработка...</td>\n      <td>[Основы светотехники, Физиологическая оптика, ...</td>\n      <td>[-0.013136726804077625, 0.026863034814596176, ...</td>\n      <td>[-0.013628440909087658, 0.020255792886018753, ...</td>\n    </tr>\n    <tr>\n      <th>459</th>\n      <td>3893</td>\n      <td>Управление инновационными стартапами</td>\n      <td>bachelor</td>\n      <td>Управление инновационными стартапами. Дисципли...</td>\n      <td>[Управление инновационными стартапами, Стартап...</td>\n      <td>[Управление инновационными стартапами, Бизнес-...</td>\n      <td>[0.011342816054821014, -0.0013189356541261077,...</td>\n      <td>[0.024528514593839645, 0.009194690734148026, 0...</td>\n    </tr>\n    <tr>\n      <th>2501</th>\n      <td>12517</td>\n      <td>Перспективы направления применения криогенных ...</td>\n      <td>master</td>\n      <td>Перспективы направления применения криогенных ...</td>\n      <td>[Перспективы направления применения криогенных...</td>\n      <td>[Криогенные системы, Криогенные технологии, Кр...</td>\n      <td>[0.030943678691983223, -0.006771647837013006, ...</td>\n      <td>[-0.022648930549621582, 0.005444146692752838, ...</td>\n    </tr>\n    <tr>\n      <th>8128</th>\n      <td>24359</td>\n      <td>Research Seminar / Научно-исследовательский се...</td>\n      <td>master</td>\n      <td>Research Seminar / Научно-исследовательский се...</td>\n      <td>[Hypothesis formulation of the research work]</td>\n      <td>[Научно-исследовательский семинар, Разработка ...</td>\n      <td>[0.024553649127483368, 0.0555807426571846, 0.0...</td>\n      <td>[-0.027276661247015, 0.0496349036693573, 0.010...</td>\n    </tr>\n    <tr>\n      <th>5863</th>\n      <td>19647</td>\n      <td>Моделирование технических систем</td>\n      <td>bachelor</td>\n      <td>Моделирование технических систем. Дисциплина н...</td>\n      <td>[Хаос, Устойчивость систем управления, Устойчи...</td>\n      <td>[Моделирование технических систем, Дискретные ...</td>\n      <td>[0.008502312935888767, 0.02092849090695381, 0....</td>\n      <td>[0.00010108724382007495, 0.002031441079452634,...</td>\n    </tr>\n    <tr>\n      <th>7135</th>\n      <td>22242</td>\n      <td>Продвинутое МО (Python) и Автоматическая обраб...</td>\n      <td>master</td>\n      <td>Продвинутое МО (Python) и Автоматическая обраб...</td>\n      <td>[Zipf's Law, Vector semantics, TF*IDF Model, T...</td>\n      <td>[Продвинутое МО (Python), Автоматическая обраб...</td>\n      <td>[-0.014860865660011768, 0.00885345321148634, -...</td>\n      <td>[-0.02926650643348694, 0.027800356969237328, 0...</td>\n    </tr>\n    <tr>\n      <th>912</th>\n      <td>4911</td>\n      <td>Технологии производства радиоэлектронной аппар...</td>\n      <td>master</td>\n      <td>Технологии производства радиоэлектронной аппар...</td>\n      <td>[Электрический монтаж кристаллов интегральных ...</td>\n      <td>[Технологии производства радиоэлектронной аппа...</td>\n      <td>[-0.018292363733053207, -0.003311171429231763,...</td>\n      <td>[-0.011741843074560165, -0.01805954985320568, ...</td>\n    </tr>\n    <tr>\n      <th>8347</th>\n      <td>24945</td>\n      <td>Математические модели низкоразмерных систем</td>\n      <td>master</td>\n      <td>Математические модели низкоразмерных систем. К...</td>\n      <td>[Низкоразмерные системы, Математическое модели...</td>\n      <td>[Математические модели низкоразмерных систем, ...</td>\n      <td>[0.012918466702103615, 0.0016160309314727783, ...</td>\n      <td>[-0.004665915854275227, 0.0023530079051852226,...</td>\n    </tr>\n    <tr>\n      <th>3672</th>\n      <td>15264</td>\n      <td>Электродинамика и кристаллооптика</td>\n      <td>bachelor</td>\n      <td>Электродинамика и кристаллооптика. В результат...</td>\n      <td>[Энергия магнитостатического поля, Электростат...</td>\n      <td>[Электродинамика и кристаллооптика, Математиче...</td>\n      <td>[-0.010775228962302208, 0.011773093603551388, ...</td>\n      <td>[-0.015098698437213898, 0.01643996313214302, -...</td>\n    </tr>\n    <tr>\n      <th>1153</th>\n      <td>5567</td>\n      <td>Технологии продвижения интернет-проектов</td>\n      <td>master</td>\n      <td>Технологии продвижения интернет-проектов. Эта ...</td>\n      <td>[Структура медийной рекламы, Способы получения...</td>\n      <td>[Технологии продвижения интернет-проектов, Маш...</td>\n      <td>[-0.03085930459201336, 0.020093094557523727, -...</td>\n      <td>[-0.06111132353544235, 0.04358988255262375, 0....</td>\n    </tr>\n  </tbody>\n</table>\n</div>"
          },
          "execution_count": 17,
          "metadata": {},
          "output_type": "execute_result"
        }
      ],
      "source": [
        "entities_to_generate"
      ],
      "metadata": {
        "ExecuteTime": {
          "end_time": "2024-03-26T18:15:00.535730300Z",
          "start_time": "2024-03-26T18:15:00.334882Z"
        },
        "id": "8g4HWDQYERpa",
        "outputId": "5ec19cd7-e595-4e40-aba6-5c03a28adb22"
      },
      "execution_count": null
    },
    {
      "cell_type": "code",
      "outputs": [],
      "source": [
        "entities_to_generate.to_csv(\"../data/entities_to_generate_vectorized.csv\", index=False, sep=\";\", encoding=\"utf-8\")"
      ],
      "metadata": {
        "ExecuteTime": {
          "end_time": "2024-03-26T18:15:37.475863900Z",
          "start_time": "2024-03-26T18:15:37.374609500Z"
        },
        "id": "8vtRGzNqERpa"
      },
      "execution_count": null
    },
    {
      "cell_type": "markdown",
      "source": [
        "**Напишем метод для оценки близости**"
      ],
      "metadata": {
        "collapsed": false,
        "id": "BXy55jvXERpa"
      }
    },
    {
      "cell_type": "code",
      "outputs": [],
      "source": [
        "def get_cosine_similarity(row: pd.Series) -> float:\n",
        "    return cosine_similarity([row[\"author_mean_vector\"]], [row[\"generated_mean_vector\"]])[0][0]"
      ],
      "metadata": {
        "ExecuteTime": {
          "end_time": "2024-03-26T18:17:51.735996400Z",
          "start_time": "2024-03-26T18:17:51.642112900Z"
        },
        "id": "Et0eMv5VERpa"
      },
      "execution_count": null
    },
    {
      "cell_type": "code",
      "outputs": [],
      "source": [
        "entities_to_generate[\"cosine_similarity\"] = entities_to_generate.apply(get_cosine_similarity, axis=1)"
      ],
      "metadata": {
        "ExecuteTime": {
          "end_time": "2024-03-26T18:18:47.966919100Z",
          "start_time": "2024-03-26T18:18:47.774901Z"
        },
        "id": "2xhy8JabERpa"
      },
      "execution_count": null
    },
    {
      "cell_type": "code",
      "outputs": [],
      "source": [
        "entities_to_generate.to_csv(\"../data/entities_to_generate_cosine.csv\", index=False, sep=\";\", encoding=\"utf-8\")"
      ],
      "metadata": {
        "ExecuteTime": {
          "end_time": "2024-03-26T18:18:57.606924300Z",
          "start_time": "2024-03-26T18:18:57.443724700Z"
        },
        "id": "exB8MxSiERpa"
      },
      "execution_count": null
    },
    {
      "cell_type": "code",
      "outputs": [
        {
          "data": {
            "text/plain": "         id                                              title qualification  \\\n7027  21389       Основы светотехники и физиологической оптики        master   \n459    3893               Управление инновационными стартапами      bachelor   \n2501  12517  Перспективы направления применения криогенных ...        master   \n8128  24359  Research Seminar / Научно-исследовательский се...        master   \n5863  19647                   Моделирование технических систем      bachelor   \n7135  22242  Продвинутое МО (Python) и Автоматическая обраб...        master   \n912    4911  Технологии производства радиоэлектронной аппар...        master   \n8347  24945        Математические модели низкоразмерных систем        master   \n3672  15264                  Электродинамика и кристаллооптика      bachelor   \n1153   5567           Технологии продвижения интернет-проектов        master   \n\n                                               raw_text  \\\n7027  Основы светотехники и физиологической оптики. ...   \n459   Управление инновационными стартапами. Дисципли...   \n2501  Перспективы направления применения криогенных ...   \n8128  Research Seminar / Научно-исследовательский се...   \n5863  Моделирование технических систем. Дисциплина н...   \n7135  Продвинутое МО (Python) и Автоматическая обраб...   \n912   Технологии производства радиоэлектронной аппар...   \n8347  Математические модели низкоразмерных систем. К...   \n3672  Электродинамика и кристаллооптика. В результат...   \n1153  Технологии продвижения интернет-проектов. Эта ...   \n\n                                        author_entities  \\\n7027  [Фотометрические величины, Первичная обработка...   \n459   [Управление инновационными стартапами, Стартап...   \n2501  [Перспективы направления применения криогенных...   \n8128      [Hypothesis formulation of the research work]   \n5863  [Хаос, Устойчивость систем управления, Устойчи...   \n7135  [Zipf's Law, Vector semantics, TF*IDF Model, T...   \n912   [Электрический монтаж кристаллов интегральных ...   \n8347  [Низкоразмерные системы, Математическое модели...   \n3672  [Энергия магнитостатического поля, Электростат...   \n1153  [Структура медийной рекламы, Способы получения...   \n\n                                     generated_entities  \\\n7027  [Основы светотехники, Физиологическая оптика, ...   \n459   [Управление инновационными стартапами, Бизнес-...   \n2501  [Криогенные системы, Криогенные технологии, Кр...   \n8128  [Научно-исследовательский семинар, Разработка ...   \n5863  [Моделирование технических систем, Дискретные ...   \n7135  [Продвинутое МО (Python), Автоматическая обраб...   \n912   [Технологии производства радиоэлектронной аппа...   \n8347  [Математические модели низкоразмерных систем, ...   \n3672  [Электродинамика и кристаллооптика, Математиче...   \n1153  [Технологии продвижения интернет-проектов, Маш...   \n\n                                     author_mean_vector  \\\n7027  [-0.013136726804077625, 0.026863034814596176, ...   \n459   [0.011342816054821014, -0.0013189356541261077,...   \n2501  [0.030943678691983223, -0.006771647837013006, ...   \n8128  [0.024553649127483368, 0.0555807426571846, 0.0...   \n5863  [0.008502312935888767, 0.02092849090695381, 0....   \n7135  [-0.014860865660011768, 0.00885345321148634, -...   \n912   [-0.018292363733053207, -0.003311171429231763,...   \n8347  [0.012918466702103615, 0.0016160309314727783, ...   \n3672  [-0.010775228962302208, 0.011773093603551388, ...   \n1153  [-0.03085930459201336, 0.020093094557523727, -...   \n\n                                  generated_mean_vector  cosine_similarity  \n7027  [-0.013628440909087658, 0.020255792886018753, ...           0.640509  \n459   [0.024528514593839645, 0.009194690734148026, 0...           0.556544  \n2501  [-0.022648930549621582, 0.005444146692752838, ...           0.280636  \n8128  [-0.027276661247015, 0.0496349036693573, 0.010...           0.762013  \n5863  [0.00010108724382007495, 0.002031441079452634,...           0.533783  \n7135  [-0.02926650643348694, 0.027800356969237328, 0...           0.798968  \n912   [-0.011741843074560165, -0.01805954985320568, ...           0.920695  \n8347  [-0.004665915854275227, 0.0023530079051852226,...           0.693762  \n3672  [-0.015098698437213898, 0.01643996313214302, -...           0.751677  \n1153  [-0.06111132353544235, 0.04358988255262375, 0....           0.711621  ",
            "text/html": "<div>\n<style scoped>\n    .dataframe tbody tr th:only-of-type {\n        vertical-align: middle;\n    }\n\n    .dataframe tbody tr th {\n        vertical-align: top;\n    }\n\n    .dataframe thead th {\n        text-align: right;\n    }\n</style>\n<table border=\"1\" class=\"dataframe\">\n  <thead>\n    <tr style=\"text-align: right;\">\n      <th></th>\n      <th>id</th>\n      <th>title</th>\n      <th>qualification</th>\n      <th>raw_text</th>\n      <th>author_entities</th>\n      <th>generated_entities</th>\n      <th>author_mean_vector</th>\n      <th>generated_mean_vector</th>\n      <th>cosine_similarity</th>\n    </tr>\n  </thead>\n  <tbody>\n    <tr>\n      <th>7027</th>\n      <td>21389</td>\n      <td>Основы светотехники и физиологической оптики</td>\n      <td>master</td>\n      <td>Основы светотехники и физиологической оптики. ...</td>\n      <td>[Фотометрические величины, Первичная обработка...</td>\n      <td>[Основы светотехники, Физиологическая оптика, ...</td>\n      <td>[-0.013136726804077625, 0.026863034814596176, ...</td>\n      <td>[-0.013628440909087658, 0.020255792886018753, ...</td>\n      <td>0.640509</td>\n    </tr>\n    <tr>\n      <th>459</th>\n      <td>3893</td>\n      <td>Управление инновационными стартапами</td>\n      <td>bachelor</td>\n      <td>Управление инновационными стартапами. Дисципли...</td>\n      <td>[Управление инновационными стартапами, Стартап...</td>\n      <td>[Управление инновационными стартапами, Бизнес-...</td>\n      <td>[0.011342816054821014, -0.0013189356541261077,...</td>\n      <td>[0.024528514593839645, 0.009194690734148026, 0...</td>\n      <td>0.556544</td>\n    </tr>\n    <tr>\n      <th>2501</th>\n      <td>12517</td>\n      <td>Перспективы направления применения криогенных ...</td>\n      <td>master</td>\n      <td>Перспективы направления применения криогенных ...</td>\n      <td>[Перспективы направления применения криогенных...</td>\n      <td>[Криогенные системы, Криогенные технологии, Кр...</td>\n      <td>[0.030943678691983223, -0.006771647837013006, ...</td>\n      <td>[-0.022648930549621582, 0.005444146692752838, ...</td>\n      <td>0.280636</td>\n    </tr>\n    <tr>\n      <th>8128</th>\n      <td>24359</td>\n      <td>Research Seminar / Научно-исследовательский се...</td>\n      <td>master</td>\n      <td>Research Seminar / Научно-исследовательский се...</td>\n      <td>[Hypothesis formulation of the research work]</td>\n      <td>[Научно-исследовательский семинар, Разработка ...</td>\n      <td>[0.024553649127483368, 0.0555807426571846, 0.0...</td>\n      <td>[-0.027276661247015, 0.0496349036693573, 0.010...</td>\n      <td>0.762013</td>\n    </tr>\n    <tr>\n      <th>5863</th>\n      <td>19647</td>\n      <td>Моделирование технических систем</td>\n      <td>bachelor</td>\n      <td>Моделирование технических систем. Дисциплина н...</td>\n      <td>[Хаос, Устойчивость систем управления, Устойчи...</td>\n      <td>[Моделирование технических систем, Дискретные ...</td>\n      <td>[0.008502312935888767, 0.02092849090695381, 0....</td>\n      <td>[0.00010108724382007495, 0.002031441079452634,...</td>\n      <td>0.533783</td>\n    </tr>\n    <tr>\n      <th>7135</th>\n      <td>22242</td>\n      <td>Продвинутое МО (Python) и Автоматическая обраб...</td>\n      <td>master</td>\n      <td>Продвинутое МО (Python) и Автоматическая обраб...</td>\n      <td>[Zipf's Law, Vector semantics, TF*IDF Model, T...</td>\n      <td>[Продвинутое МО (Python), Автоматическая обраб...</td>\n      <td>[-0.014860865660011768, 0.00885345321148634, -...</td>\n      <td>[-0.02926650643348694, 0.027800356969237328, 0...</td>\n      <td>0.798968</td>\n    </tr>\n    <tr>\n      <th>912</th>\n      <td>4911</td>\n      <td>Технологии производства радиоэлектронной аппар...</td>\n      <td>master</td>\n      <td>Технологии производства радиоэлектронной аппар...</td>\n      <td>[Электрический монтаж кристаллов интегральных ...</td>\n      <td>[Технологии производства радиоэлектронной аппа...</td>\n      <td>[-0.018292363733053207, -0.003311171429231763,...</td>\n      <td>[-0.011741843074560165, -0.01805954985320568, ...</td>\n      <td>0.920695</td>\n    </tr>\n    <tr>\n      <th>8347</th>\n      <td>24945</td>\n      <td>Математические модели низкоразмерных систем</td>\n      <td>master</td>\n      <td>Математические модели низкоразмерных систем. К...</td>\n      <td>[Низкоразмерные системы, Математическое модели...</td>\n      <td>[Математические модели низкоразмерных систем, ...</td>\n      <td>[0.012918466702103615, 0.0016160309314727783, ...</td>\n      <td>[-0.004665915854275227, 0.0023530079051852226,...</td>\n      <td>0.693762</td>\n    </tr>\n    <tr>\n      <th>3672</th>\n      <td>15264</td>\n      <td>Электродинамика и кристаллооптика</td>\n      <td>bachelor</td>\n      <td>Электродинамика и кристаллооптика. В результат...</td>\n      <td>[Энергия магнитостатического поля, Электростат...</td>\n      <td>[Электродинамика и кристаллооптика, Математиче...</td>\n      <td>[-0.010775228962302208, 0.011773093603551388, ...</td>\n      <td>[-0.015098698437213898, 0.01643996313214302, -...</td>\n      <td>0.751677</td>\n    </tr>\n    <tr>\n      <th>1153</th>\n      <td>5567</td>\n      <td>Технологии продвижения интернет-проектов</td>\n      <td>master</td>\n      <td>Технологии продвижения интернет-проектов. Эта ...</td>\n      <td>[Структура медийной рекламы, Способы получения...</td>\n      <td>[Технологии продвижения интернет-проектов, Маш...</td>\n      <td>[-0.03085930459201336, 0.020093094557523727, -...</td>\n      <td>[-0.06111132353544235, 0.04358988255262375, 0....</td>\n      <td>0.711621</td>\n    </tr>\n  </tbody>\n</table>\n</div>"
          },
          "execution_count": 24,
          "metadata": {},
          "output_type": "execute_result"
        }
      ],
      "source": [
        "entities_to_generate"
      ],
      "metadata": {
        "ExecuteTime": {
          "end_time": "2024-03-26T18:19:00.217356500Z",
          "start_time": "2024-03-26T18:18:59.997724300Z"
        },
        "id": "Ogl7qC70ERpa",
        "outputId": "de826209-42da-496f-9904-a48915322db2"
      },
      "execution_count": null
    },
    {
      "cell_type": "markdown",
      "source": [
        "**Оценим результаты**"
      ],
      "metadata": {
        "collapsed": false,
        "id": "Ut8HfVkmERpa"
      }
    },
    {
      "cell_type": "code",
      "outputs": [
        {
          "data": {
            "text/plain": "count    10.000000\nmean      0.665021\nstd       0.176562\nmin       0.280636\n25%       0.577535\n50%       0.702691\n75%       0.759429\nmax       0.920695\nName: cosine_similarity, dtype: float64"
          },
          "execution_count": 25,
          "metadata": {},
          "output_type": "execute_result"
        }
      ],
      "source": [
        "entities_to_generate.cosine_similarity.describe()"
      ],
      "metadata": {
        "ExecuteTime": {
          "end_time": "2024-03-26T18:19:41.832312700Z",
          "start_time": "2024-03-26T18:19:41.624929100Z"
        },
        "id": "FE7xKNMVERpa",
        "outputId": "06eb4e27-ea8d-46c9-f053-c833dff31e2d"
      },
      "execution_count": null
    },
    {
      "cell_type": "markdown",
      "source": [
        "**Итог**\n",
        "\n",
        "Получили весьма хорошие результаты, средняя близость 0.67, что очень хорошо, с учётом того, что фактически дообучение не проводилось.\n",
        "\n",
        "Стоит учитывать, что выборка маленькая, поэтому не слишком репрезентативная."
      ],
      "metadata": {
        "collapsed": false,
        "id": "b44xlsTXERpa"
      }
    }
  ]
}